{
  "nbformat": 4,
  "nbformat_minor": 0,
  "metadata": {
    "colab": {
      "name": "Fine-Tune Multi-Lingual Speech Recognition Model with 🤗 Transformers using CTC.ipynb",
      "provenance": [],
      "collapsed_sections": [],
      "machine_shape": "hm",
      "include_colab_link": true
    },
    "kernelspec": {
      "name": "python3",
      "display_name": "Python 3"
    },
    "widgets": {
      "application/vnd.jupyter.widget-state+json": {
        "c7651ea22ebd4b8899e733243cbbd87a": {
          "model_module": "@jupyter-widgets/controls",
          "model_name": "VBoxModel",
          "model_module_version": "1.5.0",
          "state": {
            "_view_name": "VBoxView",
            "_dom_classes": [],
            "_model_name": "VBoxModel",
            "_view_module": "@jupyter-widgets/controls",
            "_model_module_version": "1.5.0",
            "_view_count": null,
            "_view_module_version": "1.5.0",
            "box_style": "",
            "layout": "IPY_MODEL_a3ce3dd062834fdf98f01e900858606f",
            "_model_module": "@jupyter-widgets/controls",
            "children": [
              "IPY_MODEL_36729a46c0804d5ab25ffaa0045b222e",
              "IPY_MODEL_d285af05acf74db58d0fe1d0a76ecb01",
              "IPY_MODEL_44a1776ca1bb425eae6202f076e0ce7e"
            ]
          }
        },
        "a3ce3dd062834fdf98f01e900858606f": {
          "model_module": "@jupyter-widgets/base",
          "model_name": "LayoutModel",
          "model_module_version": "1.2.0",
          "state": {
            "_view_name": "LayoutView",
            "grid_template_rows": null,
            "right": null,
            "justify_content": null,
            "_view_module": "@jupyter-widgets/base",
            "overflow": null,
            "_model_module_version": "1.2.0",
            "_view_count": null,
            "flex_flow": "column",
            "width": "50%",
            "min_width": null,
            "border": null,
            "align_items": "center",
            "bottom": null,
            "_model_module": "@jupyter-widgets/base",
            "top": null,
            "grid_column": null,
            "overflow_y": null,
            "overflow_x": null,
            "grid_auto_flow": null,
            "grid_area": null,
            "grid_template_columns": null,
            "flex": null,
            "_model_name": "LayoutModel",
            "justify_items": null,
            "grid_row": null,
            "max_height": null,
            "align_content": null,
            "visibility": null,
            "align_self": null,
            "height": null,
            "min_height": null,
            "padding": null,
            "grid_auto_rows": null,
            "grid_gap": null,
            "max_width": null,
            "order": null,
            "_view_module_version": "1.2.0",
            "grid_template_areas": null,
            "object_position": null,
            "object_fit": null,
            "grid_auto_columns": null,
            "margin": null,
            "display": "flex",
            "left": null
          }
        },
        "36729a46c0804d5ab25ffaa0045b222e": {
          "model_module": "@jupyter-widgets/controls",
          "model_name": "HTMLModel",
          "model_module_version": "1.5.0",
          "state": {
            "_view_name": "HTMLView",
            "style": "IPY_MODEL_ec951bebcb7a4829aacab763c4e68f5e",
            "_dom_classes": [],
            "description": "",
            "_model_name": "HTMLModel",
            "placeholder": "​",
            "_view_module": "@jupyter-widgets/controls",
            "_model_module_version": "1.5.0",
            "value": "<center>\n<img src=https://huggingface.co/front/assets/huggingface_logo-noborder.svg alt='Hugging Face'>\n<br>\n<b>The AI community building the future</b>\n<br>\nImmediately click login after typing your password or it might be stored in plain text in this notebook file.\n</center>",
            "_view_count": null,
            "_view_module_version": "1.5.0",
            "description_tooltip": null,
            "_model_module": "@jupyter-widgets/controls",
            "layout": "IPY_MODEL_3aff1403c61b47a89f67e60c4096919e"
          }
        },
        "d285af05acf74db58d0fe1d0a76ecb01": {
          "model_module": "@jupyter-widgets/controls",
          "model_name": "HBoxModel",
          "model_module_version": "1.5.0",
          "state": {
            "_view_name": "HBoxView",
            "_dom_classes": [],
            "_model_name": "HBoxModel",
            "_view_module": "@jupyter-widgets/controls",
            "_model_module_version": "1.5.0",
            "_view_count": null,
            "_view_module_version": "1.5.0",
            "box_style": "",
            "layout": "IPY_MODEL_39b8d523227a4b6fa16dd53d5a0111de",
            "_model_module": "@jupyter-widgets/controls",
            "children": [
              "IPY_MODEL_4153370184644df1b01eccaebc5b5bd3",
              "IPY_MODEL_de2735960a9949c2b98d52e45785be95"
            ]
          }
        },
        "44a1776ca1bb425eae6202f076e0ce7e": {
          "model_module": "@jupyter-widgets/controls",
          "model_name": "ButtonModel",
          "model_module_version": "1.5.0",
          "state": {
            "_view_name": "ButtonView",
            "style": "IPY_MODEL_e1340f7521f24dd5b0bb8d00824e2f93",
            "_dom_classes": [],
            "description": "Login",
            "_model_name": "ButtonModel",
            "button_style": "",
            "_view_module": "@jupyter-widgets/controls",
            "_model_module_version": "1.5.0",
            "tooltip": "",
            "_view_count": null,
            "disabled": false,
            "_view_module_version": "1.5.0",
            "layout": "IPY_MODEL_8f72e050a1e94011939175fcc66ce5af",
            "_model_module": "@jupyter-widgets/controls",
            "icon": ""
          }
        },
        "ec951bebcb7a4829aacab763c4e68f5e": {
          "model_module": "@jupyter-widgets/controls",
          "model_name": "DescriptionStyleModel",
          "model_module_version": "1.5.0",
          "state": {
            "_view_name": "StyleView",
            "_model_name": "DescriptionStyleModel",
            "description_width": "",
            "_view_module": "@jupyter-widgets/base",
            "_model_module_version": "1.5.0",
            "_view_count": null,
            "_view_module_version": "1.2.0",
            "_model_module": "@jupyter-widgets/controls"
          }
        },
        "3aff1403c61b47a89f67e60c4096919e": {
          "model_module": "@jupyter-widgets/base",
          "model_name": "LayoutModel",
          "model_module_version": "1.2.0",
          "state": {
            "_view_name": "LayoutView",
            "grid_template_rows": null,
            "right": null,
            "justify_content": null,
            "_view_module": "@jupyter-widgets/base",
            "overflow": null,
            "_model_module_version": "1.2.0",
            "_view_count": null,
            "flex_flow": null,
            "width": null,
            "min_width": null,
            "border": null,
            "align_items": null,
            "bottom": null,
            "_model_module": "@jupyter-widgets/base",
            "top": null,
            "grid_column": null,
            "overflow_y": null,
            "overflow_x": null,
            "grid_auto_flow": null,
            "grid_area": null,
            "grid_template_columns": null,
            "flex": null,
            "_model_name": "LayoutModel",
            "justify_items": null,
            "grid_row": null,
            "max_height": null,
            "align_content": null,
            "visibility": null,
            "align_self": null,
            "height": null,
            "min_height": null,
            "padding": null,
            "grid_auto_rows": null,
            "grid_gap": null,
            "max_width": null,
            "order": null,
            "_view_module_version": "1.2.0",
            "grid_template_areas": null,
            "object_position": null,
            "object_fit": null,
            "grid_auto_columns": null,
            "margin": null,
            "display": null,
            "left": null
          }
        },
        "39b8d523227a4b6fa16dd53d5a0111de": {
          "model_module": "@jupyter-widgets/base",
          "model_name": "LayoutModel",
          "model_module_version": "1.2.0",
          "state": {
            "_view_name": "LayoutView",
            "grid_template_rows": null,
            "right": null,
            "justify_content": null,
            "_view_module": "@jupyter-widgets/base",
            "overflow": null,
            "_model_module_version": "1.2.0",
            "_view_count": null,
            "flex_flow": null,
            "width": null,
            "min_width": null,
            "border": null,
            "align_items": null,
            "bottom": null,
            "_model_module": "@jupyter-widgets/base",
            "top": null,
            "grid_column": null,
            "overflow_y": null,
            "overflow_x": null,
            "grid_auto_flow": null,
            "grid_area": null,
            "grid_template_columns": null,
            "flex": null,
            "_model_name": "LayoutModel",
            "justify_items": null,
            "grid_row": null,
            "max_height": null,
            "align_content": null,
            "visibility": null,
            "align_self": null,
            "height": null,
            "min_height": null,
            "padding": null,
            "grid_auto_rows": null,
            "grid_gap": null,
            "max_width": null,
            "order": null,
            "_view_module_version": "1.2.0",
            "grid_template_areas": null,
            "object_position": null,
            "object_fit": null,
            "grid_auto_columns": null,
            "margin": null,
            "display": null,
            "left": null
          }
        },
        "4153370184644df1b01eccaebc5b5bd3": {
          "model_module": "@jupyter-widgets/controls",
          "model_name": "TextModel",
          "model_module_version": "1.5.0",
          "state": {
            "_view_name": "TextView",
            "style": "IPY_MODEL_0fd7b10e00c241729bf7f7efcd8f6642",
            "_dom_classes": [],
            "description": "Username:",
            "_model_name": "TextModel",
            "placeholder": "​",
            "_view_module": "@jupyter-widgets/controls",
            "_model_module_version": "1.5.0",
            "value": "patrickvonplaten",
            "_view_count": null,
            "disabled": false,
            "_view_module_version": "1.5.0",
            "continuous_update": true,
            "description_tooltip": null,
            "_model_module": "@jupyter-widgets/controls",
            "layout": "IPY_MODEL_ee89d76afd224ebea8f1a638fd3f643b"
          }
        },
        "de2735960a9949c2b98d52e45785be95": {
          "model_module": "@jupyter-widgets/controls",
          "model_name": "PasswordModel",
          "model_module_version": "1.5.0",
          "state": {
            "_view_name": "PasswordView",
            "style": "IPY_MODEL_4e44134fd122408992b5d299ff076a0d",
            "_dom_classes": [],
            "description": "Password:",
            "_model_name": "PasswordModel",
            "placeholder": "​",
            "_view_module": "@jupyter-widgets/controls",
            "_model_module_version": "1.5.0",
            "value": "",
            "_view_count": null,
            "disabled": false,
            "_view_module_version": "1.5.0",
            "continuous_update": true,
            "description_tooltip": null,
            "_model_module": "@jupyter-widgets/controls",
            "layout": "IPY_MODEL_24d6ef02d79849ea8194d72684b16d9d"
          }
        },
        "e1340f7521f24dd5b0bb8d00824e2f93": {
          "model_module": "@jupyter-widgets/controls",
          "model_name": "ButtonStyleModel",
          "model_module_version": "1.5.0",
          "state": {
            "_view_name": "StyleView",
            "_model_name": "ButtonStyleModel",
            "_view_module": "@jupyter-widgets/base",
            "_model_module_version": "1.5.0",
            "_view_count": null,
            "button_color": null,
            "font_weight": "",
            "_view_module_version": "1.2.0",
            "_model_module": "@jupyter-widgets/controls"
          }
        },
        "8f72e050a1e94011939175fcc66ce5af": {
          "model_module": "@jupyter-widgets/base",
          "model_name": "LayoutModel",
          "model_module_version": "1.2.0",
          "state": {
            "_view_name": "LayoutView",
            "grid_template_rows": null,
            "right": null,
            "justify_content": null,
            "_view_module": "@jupyter-widgets/base",
            "overflow": null,
            "_model_module_version": "1.2.0",
            "_view_count": null,
            "flex_flow": null,
            "width": null,
            "min_width": null,
            "border": null,
            "align_items": null,
            "bottom": null,
            "_model_module": "@jupyter-widgets/base",
            "top": null,
            "grid_column": null,
            "overflow_y": null,
            "overflow_x": null,
            "grid_auto_flow": null,
            "grid_area": null,
            "grid_template_columns": null,
            "flex": null,
            "_model_name": "LayoutModel",
            "justify_items": null,
            "grid_row": null,
            "max_height": null,
            "align_content": null,
            "visibility": null,
            "align_self": null,
            "height": null,
            "min_height": null,
            "padding": null,
            "grid_auto_rows": null,
            "grid_gap": null,
            "max_width": null,
            "order": null,
            "_view_module_version": "1.2.0",
            "grid_template_areas": null,
            "object_position": null,
            "object_fit": null,
            "grid_auto_columns": null,
            "margin": null,
            "display": null,
            "left": null
          }
        },
        "0fd7b10e00c241729bf7f7efcd8f6642": {
          "model_module": "@jupyter-widgets/controls",
          "model_name": "DescriptionStyleModel",
          "model_module_version": "1.5.0",
          "state": {
            "_view_name": "StyleView",
            "_model_name": "DescriptionStyleModel",
            "description_width": "",
            "_view_module": "@jupyter-widgets/base",
            "_model_module_version": "1.5.0",
            "_view_count": null,
            "_view_module_version": "1.2.0",
            "_model_module": "@jupyter-widgets/controls"
          }
        },
        "ee89d76afd224ebea8f1a638fd3f643b": {
          "model_module": "@jupyter-widgets/base",
          "model_name": "LayoutModel",
          "model_module_version": "1.2.0",
          "state": {
            "_view_name": "LayoutView",
            "grid_template_rows": null,
            "right": null,
            "justify_content": null,
            "_view_module": "@jupyter-widgets/base",
            "overflow": null,
            "_model_module_version": "1.2.0",
            "_view_count": null,
            "flex_flow": null,
            "width": null,
            "min_width": null,
            "border": null,
            "align_items": null,
            "bottom": null,
            "_model_module": "@jupyter-widgets/base",
            "top": null,
            "grid_column": null,
            "overflow_y": null,
            "overflow_x": null,
            "grid_auto_flow": null,
            "grid_area": null,
            "grid_template_columns": null,
            "flex": null,
            "_model_name": "LayoutModel",
            "justify_items": null,
            "grid_row": null,
            "max_height": null,
            "align_content": null,
            "visibility": null,
            "align_self": null,
            "height": null,
            "min_height": null,
            "padding": null,
            "grid_auto_rows": null,
            "grid_gap": null,
            "max_width": null,
            "order": null,
            "_view_module_version": "1.2.0",
            "grid_template_areas": null,
            "object_position": null,
            "object_fit": null,
            "grid_auto_columns": null,
            "margin": null,
            "display": null,
            "left": null
          }
        },
        "4e44134fd122408992b5d299ff076a0d": {
          "model_module": "@jupyter-widgets/controls",
          "model_name": "DescriptionStyleModel",
          "model_module_version": "1.5.0",
          "state": {
            "_view_name": "StyleView",
            "_model_name": "DescriptionStyleModel",
            "description_width": "",
            "_view_module": "@jupyter-widgets/base",
            "_model_module_version": "1.5.0",
            "_view_count": null,
            "_view_module_version": "1.2.0",
            "_model_module": "@jupyter-widgets/controls"
          }
        },
        "24d6ef02d79849ea8194d72684b16d9d": {
          "model_module": "@jupyter-widgets/base",
          "model_name": "LayoutModel",
          "model_module_version": "1.2.0",
          "state": {
            "_view_name": "LayoutView",
            "grid_template_rows": null,
            "right": null,
            "justify_content": null,
            "_view_module": "@jupyter-widgets/base",
            "overflow": null,
            "_model_module_version": "1.2.0",
            "_view_count": null,
            "flex_flow": null,
            "width": null,
            "min_width": null,
            "border": null,
            "align_items": null,
            "bottom": null,
            "_model_module": "@jupyter-widgets/base",
            "top": null,
            "grid_column": null,
            "overflow_y": null,
            "overflow_x": null,
            "grid_auto_flow": null,
            "grid_area": null,
            "grid_template_columns": null,
            "flex": null,
            "_model_name": "LayoutModel",
            "justify_items": null,
            "grid_row": null,
            "max_height": null,
            "align_content": null,
            "visibility": null,
            "align_self": null,
            "height": null,
            "min_height": null,
            "padding": null,
            "grid_auto_rows": null,
            "grid_gap": null,
            "max_width": null,
            "order": null,
            "_view_module_version": "1.2.0",
            "grid_template_areas": null,
            "object_position": null,
            "object_fit": null,
            "grid_auto_columns": null,
            "margin": null,
            "display": null,
            "left": null
          }
        },
        "db3e59f74f40437e8175d4dbcea83640": {
          "model_module": "@jupyter-widgets/controls",
          "model_name": "HBoxModel",
          "model_module_version": "1.5.0",
          "state": {
            "_view_name": "HBoxView",
            "_dom_classes": [],
            "_model_name": "HBoxModel",
            "_view_module": "@jupyter-widgets/controls",
            "_model_module_version": "1.5.0",
            "_view_count": null,
            "_view_module_version": "1.5.0",
            "box_style": "",
            "layout": "IPY_MODEL_fd2b07da65d446b49f46e54b166a462d",
            "_model_module": "@jupyter-widgets/controls",
            "children": [
              "IPY_MODEL_3107cec7b4ec4c9980a4633ad6bccb21",
              "IPY_MODEL_56cc29e545664e1a8e025b5c2aa06243",
              "IPY_MODEL_146f7bea18bb40d5ba8c3964370838ef"
            ]
          }
        },
        "fd2b07da65d446b49f46e54b166a462d": {
          "model_module": "@jupyter-widgets/base",
          "model_name": "LayoutModel",
          "model_module_version": "1.2.0",
          "state": {
            "_view_name": "LayoutView",
            "grid_template_rows": null,
            "right": null,
            "justify_content": null,
            "_view_module": "@jupyter-widgets/base",
            "overflow": null,
            "_model_module_version": "1.2.0",
            "_view_count": null,
            "flex_flow": null,
            "width": null,
            "min_width": null,
            "border": null,
            "align_items": null,
            "bottom": null,
            "_model_module": "@jupyter-widgets/base",
            "top": null,
            "grid_column": null,
            "overflow_y": null,
            "overflow_x": null,
            "grid_auto_flow": null,
            "grid_area": null,
            "grid_template_columns": null,
            "flex": null,
            "_model_name": "LayoutModel",
            "justify_items": null,
            "grid_row": null,
            "max_height": null,
            "align_content": null,
            "visibility": null,
            "align_self": null,
            "height": null,
            "min_height": null,
            "padding": null,
            "grid_auto_rows": null,
            "grid_gap": null,
            "max_width": null,
            "order": null,
            "_view_module_version": "1.2.0",
            "grid_template_areas": null,
            "object_position": null,
            "object_fit": null,
            "grid_auto_columns": null,
            "margin": null,
            "display": null,
            "left": null
          }
        },
        "3107cec7b4ec4c9980a4633ad6bccb21": {
          "model_module": "@jupyter-widgets/controls",
          "model_name": "HTMLModel",
          "model_module_version": "1.5.0",
          "state": {
            "_view_name": "HTMLView",
            "style": "IPY_MODEL_2a843b3afc4d4168a58423798206dede",
            "_dom_classes": [],
            "description": "",
            "_model_name": "HTMLModel",
            "placeholder": "​",
            "_view_module": "@jupyter-widgets/controls",
            "_model_module_version": "1.5.0",
            "value": "",
            "_view_count": null,
            "_view_module_version": "1.5.0",
            "description_tooltip": null,
            "_model_module": "@jupyter-widgets/controls",
            "layout": "IPY_MODEL_56f7916a591d48b2b9b208b7e0c68195"
          }
        },
        "56cc29e545664e1a8e025b5c2aa06243": {
          "model_module": "@jupyter-widgets/controls",
          "model_name": "FloatProgressModel",
          "model_module_version": "1.5.0",
          "state": {
            "_view_name": "ProgressView",
            "style": "IPY_MODEL_aabf8c4d6da949efb21341d36c13d8fc",
            "_dom_classes": [],
            "description": "",
            "_model_name": "FloatProgressModel",
            "bar_style": "info",
            "max": 1,
            "_view_module": "@jupyter-widgets/controls",
            "_model_module_version": "1.5.0",
            "value": 1,
            "_view_count": null,
            "_view_module_version": "1.5.0",
            "orientation": "horizontal",
            "min": 0,
            "description_tooltip": null,
            "_model_module": "@jupyter-widgets/controls",
            "layout": "IPY_MODEL_ccd9a055d0cc4a6597dc8a031b0441f3"
          }
        },
        "146f7bea18bb40d5ba8c3964370838ef": {
          "model_module": "@jupyter-widgets/controls",
          "model_name": "HTMLModel",
          "model_module_version": "1.5.0",
          "state": {
            "_view_name": "HTMLView",
            "style": "IPY_MODEL_f8a6c04035184359b9e909d469eb452b",
            "_dom_classes": [],
            "description": "",
            "_model_name": "HTMLModel",
            "placeholder": "​",
            "_view_module": "@jupyter-widgets/controls",
            "_model_module_version": "1.5.0",
            "value": " 638/0 [00:00&lt;00:00, 6377.41 examples/s]",
            "_view_count": null,
            "_view_module_version": "1.5.0",
            "description_tooltip": null,
            "_model_module": "@jupyter-widgets/controls",
            "layout": "IPY_MODEL_80e7a03ffb4d4d5485473e7ca135e957"
          }
        },
        "2a843b3afc4d4168a58423798206dede": {
          "model_module": "@jupyter-widgets/controls",
          "model_name": "DescriptionStyleModel",
          "model_module_version": "1.5.0",
          "state": {
            "_view_name": "StyleView",
            "_model_name": "DescriptionStyleModel",
            "description_width": "",
            "_view_module": "@jupyter-widgets/base",
            "_model_module_version": "1.5.0",
            "_view_count": null,
            "_view_module_version": "1.2.0",
            "_model_module": "@jupyter-widgets/controls"
          }
        },
        "56f7916a591d48b2b9b208b7e0c68195": {
          "model_module": "@jupyter-widgets/base",
          "model_name": "LayoutModel",
          "model_module_version": "1.2.0",
          "state": {
            "_view_name": "LayoutView",
            "grid_template_rows": null,
            "right": null,
            "justify_content": null,
            "_view_module": "@jupyter-widgets/base",
            "overflow": null,
            "_model_module_version": "1.2.0",
            "_view_count": null,
            "flex_flow": null,
            "width": null,
            "min_width": null,
            "border": null,
            "align_items": null,
            "bottom": null,
            "_model_module": "@jupyter-widgets/base",
            "top": null,
            "grid_column": null,
            "overflow_y": null,
            "overflow_x": null,
            "grid_auto_flow": null,
            "grid_area": null,
            "grid_template_columns": null,
            "flex": null,
            "_model_name": "LayoutModel",
            "justify_items": null,
            "grid_row": null,
            "max_height": null,
            "align_content": null,
            "visibility": null,
            "align_self": null,
            "height": null,
            "min_height": null,
            "padding": null,
            "grid_auto_rows": null,
            "grid_gap": null,
            "max_width": null,
            "order": null,
            "_view_module_version": "1.2.0",
            "grid_template_areas": null,
            "object_position": null,
            "object_fit": null,
            "grid_auto_columns": null,
            "margin": null,
            "display": null,
            "left": null
          }
        },
        "aabf8c4d6da949efb21341d36c13d8fc": {
          "model_module": "@jupyter-widgets/controls",
          "model_name": "ProgressStyleModel",
          "model_module_version": "1.5.0",
          "state": {
            "_view_name": "StyleView",
            "_model_name": "ProgressStyleModel",
            "description_width": "",
            "_view_module": "@jupyter-widgets/base",
            "_model_module_version": "1.5.0",
            "_view_count": null,
            "_view_module_version": "1.2.0",
            "bar_color": null,
            "_model_module": "@jupyter-widgets/controls"
          }
        },
        "ccd9a055d0cc4a6597dc8a031b0441f3": {
          "model_module": "@jupyter-widgets/base",
          "model_name": "LayoutModel",
          "model_module_version": "1.2.0",
          "state": {
            "_view_name": "LayoutView",
            "grid_template_rows": null,
            "right": null,
            "justify_content": null,
            "_view_module": "@jupyter-widgets/base",
            "overflow": null,
            "_model_module_version": "1.2.0",
            "_view_count": null,
            "flex_flow": null,
            "width": "20px",
            "min_width": null,
            "border": null,
            "align_items": null,
            "bottom": null,
            "_model_module": "@jupyter-widgets/base",
            "top": null,
            "grid_column": null,
            "overflow_y": null,
            "overflow_x": null,
            "grid_auto_flow": null,
            "grid_area": null,
            "grid_template_columns": null,
            "flex": null,
            "_model_name": "LayoutModel",
            "justify_items": null,
            "grid_row": null,
            "max_height": null,
            "align_content": null,
            "visibility": null,
            "align_self": null,
            "height": null,
            "min_height": null,
            "padding": null,
            "grid_auto_rows": null,
            "grid_gap": null,
            "max_width": null,
            "order": null,
            "_view_module_version": "1.2.0",
            "grid_template_areas": null,
            "object_position": null,
            "object_fit": null,
            "grid_auto_columns": null,
            "margin": null,
            "display": null,
            "left": null
          }
        },
        "f8a6c04035184359b9e909d469eb452b": {
          "model_module": "@jupyter-widgets/controls",
          "model_name": "DescriptionStyleModel",
          "model_module_version": "1.5.0",
          "state": {
            "_view_name": "StyleView",
            "_model_name": "DescriptionStyleModel",
            "description_width": "",
            "_view_module": "@jupyter-widgets/base",
            "_model_module_version": "1.5.0",
            "_view_count": null,
            "_view_module_version": "1.2.0",
            "_model_module": "@jupyter-widgets/controls"
          }
        },
        "80e7a03ffb4d4d5485473e7ca135e957": {
          "model_module": "@jupyter-widgets/base",
          "model_name": "LayoutModel",
          "model_module_version": "1.2.0",
          "state": {
            "_view_name": "LayoutView",
            "grid_template_rows": null,
            "right": null,
            "justify_content": null,
            "_view_module": "@jupyter-widgets/base",
            "overflow": null,
            "_model_module_version": "1.2.0",
            "_view_count": null,
            "flex_flow": null,
            "width": null,
            "min_width": null,
            "border": null,
            "align_items": null,
            "bottom": null,
            "_model_module": "@jupyter-widgets/base",
            "top": null,
            "grid_column": null,
            "overflow_y": null,
            "overflow_x": null,
            "grid_auto_flow": null,
            "grid_area": null,
            "grid_template_columns": null,
            "flex": null,
            "_model_name": "LayoutModel",
            "justify_items": null,
            "grid_row": null,
            "max_height": null,
            "align_content": null,
            "visibility": null,
            "align_self": null,
            "height": null,
            "min_height": null,
            "padding": null,
            "grid_auto_rows": null,
            "grid_gap": null,
            "max_width": null,
            "order": null,
            "_view_module_version": "1.2.0",
            "grid_template_areas": null,
            "object_position": null,
            "object_fit": null,
            "grid_auto_columns": null,
            "margin": null,
            "display": null,
            "left": null
          }
        },
        "54e9f789ca724c47a7b40269c0eb18a6": {
          "model_module": "@jupyter-widgets/controls",
          "model_name": "HBoxModel",
          "model_module_version": "1.5.0",
          "state": {
            "_view_name": "HBoxView",
            "_dom_classes": [],
            "_model_name": "HBoxModel",
            "_view_module": "@jupyter-widgets/controls",
            "_model_module_version": "1.5.0",
            "_view_count": null,
            "_view_module_version": "1.5.0",
            "box_style": "",
            "layout": "IPY_MODEL_3be53e5b0d43414ea4c2a5bdfc5593d0",
            "_model_module": "@jupyter-widgets/controls",
            "children": [
              "IPY_MODEL_bbfc5e2cba5d4373a7ea205c37b6d884",
              "IPY_MODEL_1280c800ca4048f79c9f12fa7773a3cf",
              "IPY_MODEL_fa09341528834bfbb32994e80f93b1ea"
            ]
          }
        },
        "3be53e5b0d43414ea4c2a5bdfc5593d0": {
          "model_module": "@jupyter-widgets/base",
          "model_name": "LayoutModel",
          "model_module_version": "1.2.0",
          "state": {
            "_view_name": "LayoutView",
            "grid_template_rows": null,
            "right": null,
            "justify_content": null,
            "_view_module": "@jupyter-widgets/base",
            "overflow": null,
            "_model_module_version": "1.2.0",
            "_view_count": null,
            "flex_flow": null,
            "width": null,
            "min_width": null,
            "border": null,
            "align_items": null,
            "bottom": null,
            "_model_module": "@jupyter-widgets/base",
            "top": null,
            "grid_column": null,
            "overflow_y": null,
            "overflow_x": null,
            "grid_auto_flow": null,
            "grid_area": null,
            "grid_template_columns": null,
            "flex": null,
            "_model_name": "LayoutModel",
            "justify_items": null,
            "grid_row": null,
            "max_height": null,
            "align_content": null,
            "visibility": null,
            "align_self": null,
            "height": null,
            "min_height": null,
            "padding": null,
            "grid_auto_rows": null,
            "grid_gap": null,
            "max_width": null,
            "order": null,
            "_view_module_version": "1.2.0",
            "grid_template_areas": null,
            "object_position": null,
            "object_fit": null,
            "grid_auto_columns": null,
            "margin": null,
            "display": null,
            "left": null
          }
        },
        "bbfc5e2cba5d4373a7ea205c37b6d884": {
          "model_module": "@jupyter-widgets/controls",
          "model_name": "HTMLModel",
          "model_module_version": "1.5.0",
          "state": {
            "_view_name": "HTMLView",
            "style": "IPY_MODEL_7bd0f04b0f024f8a961e43ee4bc49740",
            "_dom_classes": [],
            "description": "",
            "_model_name": "HTMLModel",
            "placeholder": "​",
            "_view_module": "@jupyter-widgets/controls",
            "_model_module_version": "1.5.0",
            "value": "",
            "_view_count": null,
            "_view_module_version": "1.5.0",
            "description_tooltip": null,
            "_model_module": "@jupyter-widgets/controls",
            "layout": "IPY_MODEL_6ce10692950447d5ae17683f37cfcf19"
          }
        },
        "1280c800ca4048f79c9f12fa7773a3cf": {
          "model_module": "@jupyter-widgets/controls",
          "model_name": "FloatProgressModel",
          "model_module_version": "1.5.0",
          "state": {
            "_view_name": "ProgressView",
            "style": "IPY_MODEL_c18603d69e304fada4a0e43e6fad8fe4",
            "_dom_classes": [],
            "description": "",
            "_model_name": "FloatProgressModel",
            "bar_style": "info",
            "max": 1,
            "_view_module": "@jupyter-widgets/controls",
            "_model_module_version": "1.5.0",
            "value": 1,
            "_view_count": null,
            "_view_module_version": "1.5.0",
            "orientation": "horizontal",
            "min": 0,
            "description_tooltip": null,
            "_model_module": "@jupyter-widgets/controls",
            "layout": "IPY_MODEL_8357470985f94bdda76c8b26c9470420"
          }
        },
        "fa09341528834bfbb32994e80f93b1ea": {
          "model_module": "@jupyter-widgets/controls",
          "model_name": "HTMLModel",
          "model_module_version": "1.5.0",
          "state": {
            "_view_name": "HTMLView",
            "style": "IPY_MODEL_424a06a45102486eb00aeaf875c5b725",
            "_dom_classes": [],
            "description": "",
            "_model_name": "HTMLModel",
            "placeholder": "​",
            "_view_module": "@jupyter-widgets/controls",
            "_model_module_version": "1.5.0",
            "value": " 676/0 [00:00&lt;00:00, 6758.30 examples/s]",
            "_view_count": null,
            "_view_module_version": "1.5.0",
            "description_tooltip": null,
            "_model_module": "@jupyter-widgets/controls",
            "layout": "IPY_MODEL_6a1521b0eb7d4420844b7b98ad77e823"
          }
        },
        "7bd0f04b0f024f8a961e43ee4bc49740": {
          "model_module": "@jupyter-widgets/controls",
          "model_name": "DescriptionStyleModel",
          "model_module_version": "1.5.0",
          "state": {
            "_view_name": "StyleView",
            "_model_name": "DescriptionStyleModel",
            "description_width": "",
            "_view_module": "@jupyter-widgets/base",
            "_model_module_version": "1.5.0",
            "_view_count": null,
            "_view_module_version": "1.2.0",
            "_model_module": "@jupyter-widgets/controls"
          }
        },
        "6ce10692950447d5ae17683f37cfcf19": {
          "model_module": "@jupyter-widgets/base",
          "model_name": "LayoutModel",
          "model_module_version": "1.2.0",
          "state": {
            "_view_name": "LayoutView",
            "grid_template_rows": null,
            "right": null,
            "justify_content": null,
            "_view_module": "@jupyter-widgets/base",
            "overflow": null,
            "_model_module_version": "1.2.0",
            "_view_count": null,
            "flex_flow": null,
            "width": null,
            "min_width": null,
            "border": null,
            "align_items": null,
            "bottom": null,
            "_model_module": "@jupyter-widgets/base",
            "top": null,
            "grid_column": null,
            "overflow_y": null,
            "overflow_x": null,
            "grid_auto_flow": null,
            "grid_area": null,
            "grid_template_columns": null,
            "flex": null,
            "_model_name": "LayoutModel",
            "justify_items": null,
            "grid_row": null,
            "max_height": null,
            "align_content": null,
            "visibility": null,
            "align_self": null,
            "height": null,
            "min_height": null,
            "padding": null,
            "grid_auto_rows": null,
            "grid_gap": null,
            "max_width": null,
            "order": null,
            "_view_module_version": "1.2.0",
            "grid_template_areas": null,
            "object_position": null,
            "object_fit": null,
            "grid_auto_columns": null,
            "margin": null,
            "display": null,
            "left": null
          }
        },
        "c18603d69e304fada4a0e43e6fad8fe4": {
          "model_module": "@jupyter-widgets/controls",
          "model_name": "ProgressStyleModel",
          "model_module_version": "1.5.0",
          "state": {
            "_view_name": "StyleView",
            "_model_name": "ProgressStyleModel",
            "description_width": "",
            "_view_module": "@jupyter-widgets/base",
            "_model_module_version": "1.5.0",
            "_view_count": null,
            "_view_module_version": "1.2.0",
            "bar_color": null,
            "_model_module": "@jupyter-widgets/controls"
          }
        },
        "8357470985f94bdda76c8b26c9470420": {
          "model_module": "@jupyter-widgets/base",
          "model_name": "LayoutModel",
          "model_module_version": "1.2.0",
          "state": {
            "_view_name": "LayoutView",
            "grid_template_rows": null,
            "right": null,
            "justify_content": null,
            "_view_module": "@jupyter-widgets/base",
            "overflow": null,
            "_model_module_version": "1.2.0",
            "_view_count": null,
            "flex_flow": null,
            "width": "20px",
            "min_width": null,
            "border": null,
            "align_items": null,
            "bottom": null,
            "_model_module": "@jupyter-widgets/base",
            "top": null,
            "grid_column": null,
            "overflow_y": null,
            "overflow_x": null,
            "grid_auto_flow": null,
            "grid_area": null,
            "grid_template_columns": null,
            "flex": null,
            "_model_name": "LayoutModel",
            "justify_items": null,
            "grid_row": null,
            "max_height": null,
            "align_content": null,
            "visibility": null,
            "align_self": null,
            "height": null,
            "min_height": null,
            "padding": null,
            "grid_auto_rows": null,
            "grid_gap": null,
            "max_width": null,
            "order": null,
            "_view_module_version": "1.2.0",
            "grid_template_areas": null,
            "object_position": null,
            "object_fit": null,
            "grid_auto_columns": null,
            "margin": null,
            "display": null,
            "left": null
          }
        },
        "424a06a45102486eb00aeaf875c5b725": {
          "model_module": "@jupyter-widgets/controls",
          "model_name": "DescriptionStyleModel",
          "model_module_version": "1.5.0",
          "state": {
            "_view_name": "StyleView",
            "_model_name": "DescriptionStyleModel",
            "description_width": "",
            "_view_module": "@jupyter-widgets/base",
            "_model_module_version": "1.5.0",
            "_view_count": null,
            "_view_module_version": "1.2.0",
            "_model_module": "@jupyter-widgets/controls"
          }
        },
        "6a1521b0eb7d4420844b7b98ad77e823": {
          "model_module": "@jupyter-widgets/base",
          "model_name": "LayoutModel",
          "model_module_version": "1.2.0",
          "state": {
            "_view_name": "LayoutView",
            "grid_template_rows": null,
            "right": null,
            "justify_content": null,
            "_view_module": "@jupyter-widgets/base",
            "overflow": null,
            "_model_module_version": "1.2.0",
            "_view_count": null,
            "flex_flow": null,
            "width": null,
            "min_width": null,
            "border": null,
            "align_items": null,
            "bottom": null,
            "_model_module": "@jupyter-widgets/base",
            "top": null,
            "grid_column": null,
            "overflow_y": null,
            "overflow_x": null,
            "grid_auto_flow": null,
            "grid_area": null,
            "grid_template_columns": null,
            "flex": null,
            "_model_name": "LayoutModel",
            "justify_items": null,
            "grid_row": null,
            "max_height": null,
            "align_content": null,
            "visibility": null,
            "align_self": null,
            "height": null,
            "min_height": null,
            "padding": null,
            "grid_auto_rows": null,
            "grid_gap": null,
            "max_width": null,
            "order": null,
            "_view_module_version": "1.2.0",
            "grid_template_areas": null,
            "object_position": null,
            "object_fit": null,
            "grid_auto_columns": null,
            "margin": null,
            "display": null,
            "left": null
          }
        },
        "d93e8b67889947348efe9a269d79401c": {
          "model_module": "@jupyter-widgets/controls",
          "model_name": "HBoxModel",
          "model_module_version": "1.5.0",
          "state": {
            "_view_name": "HBoxView",
            "_dom_classes": [],
            "_model_name": "HBoxModel",
            "_view_module": "@jupyter-widgets/controls",
            "_model_module_version": "1.5.0",
            "_view_count": null,
            "_view_module_version": "1.5.0",
            "box_style": "",
            "layout": "IPY_MODEL_c7c7f6ea740446e0925625a19f62bae7",
            "_model_module": "@jupyter-widgets/controls",
            "children": [
              "IPY_MODEL_f5a3c24f6e56429a9fb6ce4bb52b16d4",
              "IPY_MODEL_686ced9df8e34d8096adef344ad1a851",
              "IPY_MODEL_8f857f7409654aac9bd7bcfb9e614f98"
            ]
          }
        },
        "c7c7f6ea740446e0925625a19f62bae7": {
          "model_module": "@jupyter-widgets/base",
          "model_name": "LayoutModel",
          "model_module_version": "1.2.0",
          "state": {
            "_view_name": "LayoutView",
            "grid_template_rows": null,
            "right": null,
            "justify_content": null,
            "_view_module": "@jupyter-widgets/base",
            "overflow": null,
            "_model_module_version": "1.2.0",
            "_view_count": null,
            "flex_flow": null,
            "width": null,
            "min_width": null,
            "border": null,
            "align_items": null,
            "bottom": null,
            "_model_module": "@jupyter-widgets/base",
            "top": null,
            "grid_column": null,
            "overflow_y": null,
            "overflow_x": null,
            "grid_auto_flow": null,
            "grid_area": null,
            "grid_template_columns": null,
            "flex": null,
            "_model_name": "LayoutModel",
            "justify_items": null,
            "grid_row": null,
            "max_height": null,
            "align_content": null,
            "visibility": null,
            "align_self": null,
            "height": null,
            "min_height": null,
            "padding": null,
            "grid_auto_rows": null,
            "grid_gap": null,
            "max_width": null,
            "order": null,
            "_view_module_version": "1.2.0",
            "grid_template_areas": null,
            "object_position": null,
            "object_fit": null,
            "grid_auto_columns": null,
            "margin": null,
            "display": null,
            "left": null
          }
        },
        "f5a3c24f6e56429a9fb6ce4bb52b16d4": {
          "model_module": "@jupyter-widgets/controls",
          "model_name": "HTMLModel",
          "model_module_version": "1.5.0",
          "state": {
            "_view_name": "HTMLView",
            "style": "IPY_MODEL_d32abc38cccc4761b12c08603011424d",
            "_dom_classes": [],
            "description": "",
            "_model_name": "HTMLModel",
            "placeholder": "​",
            "_view_module": "@jupyter-widgets/controls",
            "_model_module_version": "1.5.0",
            "value": "",
            "_view_count": null,
            "_view_module_version": "1.5.0",
            "description_tooltip": null,
            "_model_module": "@jupyter-widgets/controls",
            "layout": "IPY_MODEL_2e14b323b6254d3fbd04bdcf4be80511"
          }
        },
        "686ced9df8e34d8096adef344ad1a851": {
          "model_module": "@jupyter-widgets/controls",
          "model_name": "FloatProgressModel",
          "model_module_version": "1.5.0",
          "state": {
            "_view_name": "ProgressView",
            "style": "IPY_MODEL_6e0e320d5dc04a4c9643a22777ee2176",
            "_dom_classes": [],
            "description": "",
            "_model_name": "FloatProgressModel",
            "bar_style": "info",
            "max": 1,
            "_view_module": "@jupyter-widgets/controls",
            "_model_module_version": "1.5.0",
            "value": 1,
            "_view_count": null,
            "_view_module_version": "1.5.0",
            "orientation": "horizontal",
            "min": 0,
            "description_tooltip": null,
            "_model_module": "@jupyter-widgets/controls",
            "layout": "IPY_MODEL_f151e0759d594e5bb74360664e708eab"
          }
        },
        "8f857f7409654aac9bd7bcfb9e614f98": {
          "model_module": "@jupyter-widgets/controls",
          "model_name": "HTMLModel",
          "model_module_version": "1.5.0",
          "state": {
            "_view_name": "HTMLView",
            "style": "IPY_MODEL_20ac29ce2e3a4bd7867bab1287e5de63",
            "_dom_classes": [],
            "description": "",
            "_model_name": "HTMLModel",
            "placeholder": "​",
            "_view_module": "@jupyter-widgets/controls",
            "_model_module_version": "1.5.0",
            "value": " 597/0 [00:00&lt;00:00, 5966.93 examples/s]",
            "_view_count": null,
            "_view_module_version": "1.5.0",
            "description_tooltip": null,
            "_model_module": "@jupyter-widgets/controls",
            "layout": "IPY_MODEL_5483ff5a6a3e4ee6b88722c9f261fbe4"
          }
        },
        "d32abc38cccc4761b12c08603011424d": {
          "model_module": "@jupyter-widgets/controls",
          "model_name": "DescriptionStyleModel",
          "model_module_version": "1.5.0",
          "state": {
            "_view_name": "StyleView",
            "_model_name": "DescriptionStyleModel",
            "description_width": "",
            "_view_module": "@jupyter-widgets/base",
            "_model_module_version": "1.5.0",
            "_view_count": null,
            "_view_module_version": "1.2.0",
            "_model_module": "@jupyter-widgets/controls"
          }
        },
        "2e14b323b6254d3fbd04bdcf4be80511": {
          "model_module": "@jupyter-widgets/base",
          "model_name": "LayoutModel",
          "model_module_version": "1.2.0",
          "state": {
            "_view_name": "LayoutView",
            "grid_template_rows": null,
            "right": null,
            "justify_content": null,
            "_view_module": "@jupyter-widgets/base",
            "overflow": null,
            "_model_module_version": "1.2.0",
            "_view_count": null,
            "flex_flow": null,
            "width": null,
            "min_width": null,
            "border": null,
            "align_items": null,
            "bottom": null,
            "_model_module": "@jupyter-widgets/base",
            "top": null,
            "grid_column": null,
            "overflow_y": null,
            "overflow_x": null,
            "grid_auto_flow": null,
            "grid_area": null,
            "grid_template_columns": null,
            "flex": null,
            "_model_name": "LayoutModel",
            "justify_items": null,
            "grid_row": null,
            "max_height": null,
            "align_content": null,
            "visibility": null,
            "align_self": null,
            "height": null,
            "min_height": null,
            "padding": null,
            "grid_auto_rows": null,
            "grid_gap": null,
            "max_width": null,
            "order": null,
            "_view_module_version": "1.2.0",
            "grid_template_areas": null,
            "object_position": null,
            "object_fit": null,
            "grid_auto_columns": null,
            "margin": null,
            "display": null,
            "left": null
          }
        },
        "6e0e320d5dc04a4c9643a22777ee2176": {
          "model_module": "@jupyter-widgets/controls",
          "model_name": "ProgressStyleModel",
          "model_module_version": "1.5.0",
          "state": {
            "_view_name": "StyleView",
            "_model_name": "ProgressStyleModel",
            "description_width": "",
            "_view_module": "@jupyter-widgets/base",
            "_model_module_version": "1.5.0",
            "_view_count": null,
            "_view_module_version": "1.2.0",
            "bar_color": null,
            "_model_module": "@jupyter-widgets/controls"
          }
        },
        "f151e0759d594e5bb74360664e708eab": {
          "model_module": "@jupyter-widgets/base",
          "model_name": "LayoutModel",
          "model_module_version": "1.2.0",
          "state": {
            "_view_name": "LayoutView",
            "grid_template_rows": null,
            "right": null,
            "justify_content": null,
            "_view_module": "@jupyter-widgets/base",
            "overflow": null,
            "_model_module_version": "1.2.0",
            "_view_count": null,
            "flex_flow": null,
            "width": "20px",
            "min_width": null,
            "border": null,
            "align_items": null,
            "bottom": null,
            "_model_module": "@jupyter-widgets/base",
            "top": null,
            "grid_column": null,
            "overflow_y": null,
            "overflow_x": null,
            "grid_auto_flow": null,
            "grid_area": null,
            "grid_template_columns": null,
            "flex": null,
            "_model_name": "LayoutModel",
            "justify_items": null,
            "grid_row": null,
            "max_height": null,
            "align_content": null,
            "visibility": null,
            "align_self": null,
            "height": null,
            "min_height": null,
            "padding": null,
            "grid_auto_rows": null,
            "grid_gap": null,
            "max_width": null,
            "order": null,
            "_view_module_version": "1.2.0",
            "grid_template_areas": null,
            "object_position": null,
            "object_fit": null,
            "grid_auto_columns": null,
            "margin": null,
            "display": null,
            "left": null
          }
        },
        "20ac29ce2e3a4bd7867bab1287e5de63": {
          "model_module": "@jupyter-widgets/controls",
          "model_name": "DescriptionStyleModel",
          "model_module_version": "1.5.0",
          "state": {
            "_view_name": "StyleView",
            "_model_name": "DescriptionStyleModel",
            "description_width": "",
            "_view_module": "@jupyter-widgets/base",
            "_model_module_version": "1.5.0",
            "_view_count": null,
            "_view_module_version": "1.2.0",
            "_model_module": "@jupyter-widgets/controls"
          }
        },
        "5483ff5a6a3e4ee6b88722c9f261fbe4": {
          "model_module": "@jupyter-widgets/base",
          "model_name": "LayoutModel",
          "model_module_version": "1.2.0",
          "state": {
            "_view_name": "LayoutView",
            "grid_template_rows": null,
            "right": null,
            "justify_content": null,
            "_view_module": "@jupyter-widgets/base",
            "overflow": null,
            "_model_module_version": "1.2.0",
            "_view_count": null,
            "flex_flow": null,
            "width": null,
            "min_width": null,
            "border": null,
            "align_items": null,
            "bottom": null,
            "_model_module": "@jupyter-widgets/base",
            "top": null,
            "grid_column": null,
            "overflow_y": null,
            "overflow_x": null,
            "grid_auto_flow": null,
            "grid_area": null,
            "grid_template_columns": null,
            "flex": null,
            "_model_name": "LayoutModel",
            "justify_items": null,
            "grid_row": null,
            "max_height": null,
            "align_content": null,
            "visibility": null,
            "align_self": null,
            "height": null,
            "min_height": null,
            "padding": null,
            "grid_auto_rows": null,
            "grid_gap": null,
            "max_width": null,
            "order": null,
            "_view_module_version": "1.2.0",
            "grid_template_areas": null,
            "object_position": null,
            "object_fit": null,
            "grid_auto_columns": null,
            "margin": null,
            "display": null,
            "left": null
          }
        },
        "cf24a36ed31a4bc89312cb81b8581cb9": {
          "model_module": "@jupyter-widgets/controls",
          "model_name": "HBoxModel",
          "model_module_version": "1.5.0",
          "state": {
            "_view_name": "HBoxView",
            "_dom_classes": [],
            "_model_name": "HBoxModel",
            "_view_module": "@jupyter-widgets/controls",
            "_model_module_version": "1.5.0",
            "_view_count": null,
            "_view_module_version": "1.5.0",
            "box_style": "",
            "layout": "IPY_MODEL_854c196fc7064ad7b3bd4fcc699a9789",
            "_model_module": "@jupyter-widgets/controls",
            "children": [
              "IPY_MODEL_d1b27b874c8b4208b822b718327590f8",
              "IPY_MODEL_1108de17d7b74da3ba4d9bdadaec898d",
              "IPY_MODEL_fb5af0db24824d35beef703e5d195c80"
            ]
          }
        },
        "854c196fc7064ad7b3bd4fcc699a9789": {
          "model_module": "@jupyter-widgets/base",
          "model_name": "LayoutModel",
          "model_module_version": "1.2.0",
          "state": {
            "_view_name": "LayoutView",
            "grid_template_rows": null,
            "right": null,
            "justify_content": null,
            "_view_module": "@jupyter-widgets/base",
            "overflow": null,
            "_model_module_version": "1.2.0",
            "_view_count": null,
            "flex_flow": null,
            "width": null,
            "min_width": null,
            "border": null,
            "align_items": null,
            "bottom": null,
            "_model_module": "@jupyter-widgets/base",
            "top": null,
            "grid_column": null,
            "overflow_y": null,
            "overflow_x": null,
            "grid_auto_flow": null,
            "grid_area": null,
            "grid_template_columns": null,
            "flex": null,
            "_model_name": "LayoutModel",
            "justify_items": null,
            "grid_row": null,
            "max_height": null,
            "align_content": null,
            "visibility": null,
            "align_self": null,
            "height": null,
            "min_height": null,
            "padding": null,
            "grid_auto_rows": null,
            "grid_gap": null,
            "max_width": null,
            "order": null,
            "_view_module_version": "1.2.0",
            "grid_template_areas": null,
            "object_position": null,
            "object_fit": null,
            "grid_auto_columns": null,
            "margin": null,
            "display": null,
            "left": null
          }
        },
        "d1b27b874c8b4208b822b718327590f8": {
          "model_module": "@jupyter-widgets/controls",
          "model_name": "HTMLModel",
          "model_module_version": "1.5.0",
          "state": {
            "_view_name": "HTMLView",
            "style": "IPY_MODEL_460ac9f036514c448e55f9f51b1d163c",
            "_dom_classes": [],
            "description": "",
            "_model_name": "HTMLModel",
            "placeholder": "​",
            "_view_module": "@jupyter-widgets/controls",
            "_model_module_version": "1.5.0",
            "value": "",
            "_view_count": null,
            "_view_module_version": "1.5.0",
            "description_tooltip": null,
            "_model_module": "@jupyter-widgets/controls",
            "layout": "IPY_MODEL_bc2f221030e345839ab38cefea31c9b3"
          }
        },
        "1108de17d7b74da3ba4d9bdadaec898d": {
          "model_module": "@jupyter-widgets/controls",
          "model_name": "FloatProgressModel",
          "model_module_version": "1.5.0",
          "state": {
            "_view_name": "ProgressView",
            "style": "IPY_MODEL_fb766d08efef4c209e21f790bbd161d3",
            "_dom_classes": [],
            "description": "",
            "_model_name": "FloatProgressModel",
            "bar_style": "info",
            "max": 1,
            "_view_module": "@jupyter-widgets/controls",
            "_model_module_version": "1.5.0",
            "value": 1,
            "_view_count": null,
            "_view_module_version": "1.5.0",
            "orientation": "horizontal",
            "min": 0,
            "description_tooltip": null,
            "_model_module": "@jupyter-widgets/controls",
            "layout": "IPY_MODEL_bee6dd1d13604295a972c287c1ed5b86"
          }
        },
        "fb5af0db24824d35beef703e5d195c80": {
          "model_module": "@jupyter-widgets/controls",
          "model_name": "HTMLModel",
          "model_module_version": "1.5.0",
          "state": {
            "_view_name": "HTMLView",
            "style": "IPY_MODEL_66c6ca817a6f4b76a4a6c4a62f706281",
            "_dom_classes": [],
            "description": "",
            "_model_name": "HTMLModel",
            "placeholder": "​",
            "_view_module": "@jupyter-widgets/controls",
            "_model_module_version": "1.5.0",
            "value": " 0/0 [00:00&lt;?, ? examples/s]",
            "_view_count": null,
            "_view_module_version": "1.5.0",
            "description_tooltip": null,
            "_model_module": "@jupyter-widgets/controls",
            "layout": "IPY_MODEL_1fac41e8479c42309fa1adf411bf1782"
          }
        },
        "460ac9f036514c448e55f9f51b1d163c": {
          "model_module": "@jupyter-widgets/controls",
          "model_name": "DescriptionStyleModel",
          "model_module_version": "1.5.0",
          "state": {
            "_view_name": "StyleView",
            "_model_name": "DescriptionStyleModel",
            "description_width": "",
            "_view_module": "@jupyter-widgets/base",
            "_model_module_version": "1.5.0",
            "_view_count": null,
            "_view_module_version": "1.2.0",
            "_model_module": "@jupyter-widgets/controls"
          }
        },
        "bc2f221030e345839ab38cefea31c9b3": {
          "model_module": "@jupyter-widgets/base",
          "model_name": "LayoutModel",
          "model_module_version": "1.2.0",
          "state": {
            "_view_name": "LayoutView",
            "grid_template_rows": null,
            "right": null,
            "justify_content": null,
            "_view_module": "@jupyter-widgets/base",
            "overflow": null,
            "_model_module_version": "1.2.0",
            "_view_count": null,
            "flex_flow": null,
            "width": null,
            "min_width": null,
            "border": null,
            "align_items": null,
            "bottom": null,
            "_model_module": "@jupyter-widgets/base",
            "top": null,
            "grid_column": null,
            "overflow_y": null,
            "overflow_x": null,
            "grid_auto_flow": null,
            "grid_area": null,
            "grid_template_columns": null,
            "flex": null,
            "_model_name": "LayoutModel",
            "justify_items": null,
            "grid_row": null,
            "max_height": null,
            "align_content": null,
            "visibility": null,
            "align_self": null,
            "height": null,
            "min_height": null,
            "padding": null,
            "grid_auto_rows": null,
            "grid_gap": null,
            "max_width": null,
            "order": null,
            "_view_module_version": "1.2.0",
            "grid_template_areas": null,
            "object_position": null,
            "object_fit": null,
            "grid_auto_columns": null,
            "margin": null,
            "display": null,
            "left": null
          }
        },
        "fb766d08efef4c209e21f790bbd161d3": {
          "model_module": "@jupyter-widgets/controls",
          "model_name": "ProgressStyleModel",
          "model_module_version": "1.5.0",
          "state": {
            "_view_name": "StyleView",
            "_model_name": "ProgressStyleModel",
            "description_width": "",
            "_view_module": "@jupyter-widgets/base",
            "_model_module_version": "1.5.0",
            "_view_count": null,
            "_view_module_version": "1.2.0",
            "bar_color": null,
            "_model_module": "@jupyter-widgets/controls"
          }
        },
        "bee6dd1d13604295a972c287c1ed5b86": {
          "model_module": "@jupyter-widgets/base",
          "model_name": "LayoutModel",
          "model_module_version": "1.2.0",
          "state": {
            "_view_name": "LayoutView",
            "grid_template_rows": null,
            "right": null,
            "justify_content": null,
            "_view_module": "@jupyter-widgets/base",
            "overflow": null,
            "_model_module_version": "1.2.0",
            "_view_count": null,
            "flex_flow": null,
            "width": "20px",
            "min_width": null,
            "border": null,
            "align_items": null,
            "bottom": null,
            "_model_module": "@jupyter-widgets/base",
            "top": null,
            "grid_column": null,
            "overflow_y": null,
            "overflow_x": null,
            "grid_auto_flow": null,
            "grid_area": null,
            "grid_template_columns": null,
            "flex": null,
            "_model_name": "LayoutModel",
            "justify_items": null,
            "grid_row": null,
            "max_height": null,
            "align_content": null,
            "visibility": null,
            "align_self": null,
            "height": null,
            "min_height": null,
            "padding": null,
            "grid_auto_rows": null,
            "grid_gap": null,
            "max_width": null,
            "order": null,
            "_view_module_version": "1.2.0",
            "grid_template_areas": null,
            "object_position": null,
            "object_fit": null,
            "grid_auto_columns": null,
            "margin": null,
            "display": null,
            "left": null
          }
        },
        "66c6ca817a6f4b76a4a6c4a62f706281": {
          "model_module": "@jupyter-widgets/controls",
          "model_name": "DescriptionStyleModel",
          "model_module_version": "1.5.0",
          "state": {
            "_view_name": "StyleView",
            "_model_name": "DescriptionStyleModel",
            "description_width": "",
            "_view_module": "@jupyter-widgets/base",
            "_model_module_version": "1.5.0",
            "_view_count": null,
            "_view_module_version": "1.2.0",
            "_model_module": "@jupyter-widgets/controls"
          }
        },
        "1fac41e8479c42309fa1adf411bf1782": {
          "model_module": "@jupyter-widgets/base",
          "model_name": "LayoutModel",
          "model_module_version": "1.2.0",
          "state": {
            "_view_name": "LayoutView",
            "grid_template_rows": null,
            "right": null,
            "justify_content": null,
            "_view_module": "@jupyter-widgets/base",
            "overflow": null,
            "_model_module_version": "1.2.0",
            "_view_count": null,
            "flex_flow": null,
            "width": null,
            "min_width": null,
            "border": null,
            "align_items": null,
            "bottom": null,
            "_model_module": "@jupyter-widgets/base",
            "top": null,
            "grid_column": null,
            "overflow_y": null,
            "overflow_x": null,
            "grid_auto_flow": null,
            "grid_area": null,
            "grid_template_columns": null,
            "flex": null,
            "_model_name": "LayoutModel",
            "justify_items": null,
            "grid_row": null,
            "max_height": null,
            "align_content": null,
            "visibility": null,
            "align_self": null,
            "height": null,
            "min_height": null,
            "padding": null,
            "grid_auto_rows": null,
            "grid_gap": null,
            "max_width": null,
            "order": null,
            "_view_module_version": "1.2.0",
            "grid_template_areas": null,
            "object_position": null,
            "object_fit": null,
            "grid_auto_columns": null,
            "margin": null,
            "display": null,
            "left": null
          }
        },
        "c2369a65dec74e37a4ac2adb8bb1d241": {
          "model_module": "@jupyter-widgets/controls",
          "model_name": "HBoxModel",
          "model_module_version": "1.5.0",
          "state": {
            "_view_name": "HBoxView",
            "_dom_classes": [],
            "_model_name": "HBoxModel",
            "_view_module": "@jupyter-widgets/controls",
            "_model_module_version": "1.5.0",
            "_view_count": null,
            "_view_module_version": "1.5.0",
            "box_style": "",
            "layout": "IPY_MODEL_feb8d209a6ca44d197f7c6a258373e64",
            "_model_module": "@jupyter-widgets/controls",
            "children": [
              "IPY_MODEL_24e16f21caf141af80d876812e6c4c8e",
              "IPY_MODEL_96c36f655d9a4a4e96975120f0024339",
              "IPY_MODEL_0c43c921201f4c7885ef7b5e1a3137b7"
            ]
          }
        },
        "feb8d209a6ca44d197f7c6a258373e64": {
          "model_module": "@jupyter-widgets/base",
          "model_name": "LayoutModel",
          "model_module_version": "1.2.0",
          "state": {
            "_view_name": "LayoutView",
            "grid_template_rows": null,
            "right": null,
            "justify_content": null,
            "_view_module": "@jupyter-widgets/base",
            "overflow": null,
            "_model_module_version": "1.2.0",
            "_view_count": null,
            "flex_flow": null,
            "width": null,
            "min_width": null,
            "border": null,
            "align_items": null,
            "bottom": null,
            "_model_module": "@jupyter-widgets/base",
            "top": null,
            "grid_column": null,
            "overflow_y": null,
            "overflow_x": null,
            "grid_auto_flow": null,
            "grid_area": null,
            "grid_template_columns": null,
            "flex": null,
            "_model_name": "LayoutModel",
            "justify_items": null,
            "grid_row": null,
            "max_height": null,
            "align_content": null,
            "visibility": null,
            "align_self": null,
            "height": null,
            "min_height": null,
            "padding": null,
            "grid_auto_rows": null,
            "grid_gap": null,
            "max_width": null,
            "order": null,
            "_view_module_version": "1.2.0",
            "grid_template_areas": null,
            "object_position": null,
            "object_fit": null,
            "grid_auto_columns": null,
            "margin": null,
            "display": null,
            "left": null
          }
        },
        "24e16f21caf141af80d876812e6c4c8e": {
          "model_module": "@jupyter-widgets/controls",
          "model_name": "HTMLModel",
          "model_module_version": "1.5.0",
          "state": {
            "_view_name": "HTMLView",
            "style": "IPY_MODEL_770b8dc7ae1742faafa9c1bb7464ef8e",
            "_dom_classes": [],
            "description": "",
            "_model_name": "HTMLModel",
            "placeholder": "​",
            "_view_module": "@jupyter-widgets/controls",
            "_model_module_version": "1.5.0",
            "value": "",
            "_view_count": null,
            "_view_module_version": "1.5.0",
            "description_tooltip": null,
            "_model_module": "@jupyter-widgets/controls",
            "layout": "IPY_MODEL_dc32d6186c57400d804f1043001adcf8"
          }
        },
        "96c36f655d9a4a4e96975120f0024339": {
          "model_module": "@jupyter-widgets/controls",
          "model_name": "FloatProgressModel",
          "model_module_version": "1.5.0",
          "state": {
            "_view_name": "ProgressView",
            "style": "IPY_MODEL_0d0451125a4d4aed8c7405f2970d8081",
            "_dom_classes": [],
            "description": "",
            "_model_name": "FloatProgressModel",
            "bar_style": "info",
            "max": 1,
            "_view_module": "@jupyter-widgets/controls",
            "_model_module_version": "1.5.0",
            "value": 1,
            "_view_count": null,
            "_view_module_version": "1.5.0",
            "orientation": "horizontal",
            "min": 0,
            "description_tooltip": null,
            "_model_module": "@jupyter-widgets/controls",
            "layout": "IPY_MODEL_8ffcdfb690dc4e4dbf615ca58fecc27f"
          }
        },
        "0c43c921201f4c7885ef7b5e1a3137b7": {
          "model_module": "@jupyter-widgets/controls",
          "model_name": "HTMLModel",
          "model_module_version": "1.5.0",
          "state": {
            "_view_name": "HTMLView",
            "style": "IPY_MODEL_b49c3f2767954300b66b294049445a92",
            "_dom_classes": [],
            "description": "",
            "_model_name": "HTMLModel",
            "placeholder": "​",
            "_view_module": "@jupyter-widgets/controls",
            "_model_module_version": "1.5.0",
            "value": " 490/0 [00:00&lt;00:00, 4899.26 examples/s]",
            "_view_count": null,
            "_view_module_version": "1.5.0",
            "description_tooltip": null,
            "_model_module": "@jupyter-widgets/controls",
            "layout": "IPY_MODEL_659a899ca8134c658a0afa1954f3cb94"
          }
        },
        "770b8dc7ae1742faafa9c1bb7464ef8e": {
          "model_module": "@jupyter-widgets/controls",
          "model_name": "DescriptionStyleModel",
          "model_module_version": "1.5.0",
          "state": {
            "_view_name": "StyleView",
            "_model_name": "DescriptionStyleModel",
            "description_width": "",
            "_view_module": "@jupyter-widgets/base",
            "_model_module_version": "1.5.0",
            "_view_count": null,
            "_view_module_version": "1.2.0",
            "_model_module": "@jupyter-widgets/controls"
          }
        },
        "dc32d6186c57400d804f1043001adcf8": {
          "model_module": "@jupyter-widgets/base",
          "model_name": "LayoutModel",
          "model_module_version": "1.2.0",
          "state": {
            "_view_name": "LayoutView",
            "grid_template_rows": null,
            "right": null,
            "justify_content": null,
            "_view_module": "@jupyter-widgets/base",
            "overflow": null,
            "_model_module_version": "1.2.0",
            "_view_count": null,
            "flex_flow": null,
            "width": null,
            "min_width": null,
            "border": null,
            "align_items": null,
            "bottom": null,
            "_model_module": "@jupyter-widgets/base",
            "top": null,
            "grid_column": null,
            "overflow_y": null,
            "overflow_x": null,
            "grid_auto_flow": null,
            "grid_area": null,
            "grid_template_columns": null,
            "flex": null,
            "_model_name": "LayoutModel",
            "justify_items": null,
            "grid_row": null,
            "max_height": null,
            "align_content": null,
            "visibility": null,
            "align_self": null,
            "height": null,
            "min_height": null,
            "padding": null,
            "grid_auto_rows": null,
            "grid_gap": null,
            "max_width": null,
            "order": null,
            "_view_module_version": "1.2.0",
            "grid_template_areas": null,
            "object_position": null,
            "object_fit": null,
            "grid_auto_columns": null,
            "margin": null,
            "display": null,
            "left": null
          }
        },
        "0d0451125a4d4aed8c7405f2970d8081": {
          "model_module": "@jupyter-widgets/controls",
          "model_name": "ProgressStyleModel",
          "model_module_version": "1.5.0",
          "state": {
            "_view_name": "StyleView",
            "_model_name": "ProgressStyleModel",
            "description_width": "",
            "_view_module": "@jupyter-widgets/base",
            "_model_module_version": "1.5.0",
            "_view_count": null,
            "_view_module_version": "1.2.0",
            "bar_color": null,
            "_model_module": "@jupyter-widgets/controls"
          }
        },
        "8ffcdfb690dc4e4dbf615ca58fecc27f": {
          "model_module": "@jupyter-widgets/base",
          "model_name": "LayoutModel",
          "model_module_version": "1.2.0",
          "state": {
            "_view_name": "LayoutView",
            "grid_template_rows": null,
            "right": null,
            "justify_content": null,
            "_view_module": "@jupyter-widgets/base",
            "overflow": null,
            "_model_module_version": "1.2.0",
            "_view_count": null,
            "flex_flow": null,
            "width": "20px",
            "min_width": null,
            "border": null,
            "align_items": null,
            "bottom": null,
            "_model_module": "@jupyter-widgets/base",
            "top": null,
            "grid_column": null,
            "overflow_y": null,
            "overflow_x": null,
            "grid_auto_flow": null,
            "grid_area": null,
            "grid_template_columns": null,
            "flex": null,
            "_model_name": "LayoutModel",
            "justify_items": null,
            "grid_row": null,
            "max_height": null,
            "align_content": null,
            "visibility": null,
            "align_self": null,
            "height": null,
            "min_height": null,
            "padding": null,
            "grid_auto_rows": null,
            "grid_gap": null,
            "max_width": null,
            "order": null,
            "_view_module_version": "1.2.0",
            "grid_template_areas": null,
            "object_position": null,
            "object_fit": null,
            "grid_auto_columns": null,
            "margin": null,
            "display": null,
            "left": null
          }
        },
        "b49c3f2767954300b66b294049445a92": {
          "model_module": "@jupyter-widgets/controls",
          "model_name": "DescriptionStyleModel",
          "model_module_version": "1.5.0",
          "state": {
            "_view_name": "StyleView",
            "_model_name": "DescriptionStyleModel",
            "description_width": "",
            "_view_module": "@jupyter-widgets/base",
            "_model_module_version": "1.5.0",
            "_view_count": null,
            "_view_module_version": "1.2.0",
            "_model_module": "@jupyter-widgets/controls"
          }
        },
        "659a899ca8134c658a0afa1954f3cb94": {
          "model_module": "@jupyter-widgets/base",
          "model_name": "LayoutModel",
          "model_module_version": "1.2.0",
          "state": {
            "_view_name": "LayoutView",
            "grid_template_rows": null,
            "right": null,
            "justify_content": null,
            "_view_module": "@jupyter-widgets/base",
            "overflow": null,
            "_model_module_version": "1.2.0",
            "_view_count": null,
            "flex_flow": null,
            "width": null,
            "min_width": null,
            "border": null,
            "align_items": null,
            "bottom": null,
            "_model_module": "@jupyter-widgets/base",
            "top": null,
            "grid_column": null,
            "overflow_y": null,
            "overflow_x": null,
            "grid_auto_flow": null,
            "grid_area": null,
            "grid_template_columns": null,
            "flex": null,
            "_model_name": "LayoutModel",
            "justify_items": null,
            "grid_row": null,
            "max_height": null,
            "align_content": null,
            "visibility": null,
            "align_self": null,
            "height": null,
            "min_height": null,
            "padding": null,
            "grid_auto_rows": null,
            "grid_gap": null,
            "max_width": null,
            "order": null,
            "_view_module_version": "1.2.0",
            "grid_template_areas": null,
            "object_position": null,
            "object_fit": null,
            "grid_auto_columns": null,
            "margin": null,
            "display": null,
            "left": null
          }
        },
        "caafc6be098f40bf939051aa89ba0e07": {
          "model_module": "@jupyter-widgets/controls",
          "model_name": "HBoxModel",
          "model_module_version": "1.5.0",
          "state": {
            "_view_name": "HBoxView",
            "_dom_classes": [],
            "_model_name": "HBoxModel",
            "_view_module": "@jupyter-widgets/controls",
            "_model_module_version": "1.5.0",
            "_view_count": null,
            "_view_module_version": "1.5.0",
            "box_style": "",
            "layout": "IPY_MODEL_a29fb4e1977e4afdbba340060d645991",
            "_model_module": "@jupyter-widgets/controls",
            "children": [
              "IPY_MODEL_0d7f9a33a909479396a507022f271437",
              "IPY_MODEL_a1be5fb469bd49cc8081f1606b173c01",
              "IPY_MODEL_ad2f4a75f8794a02af2f3e9fdf312352"
            ]
          }
        },
        "a29fb4e1977e4afdbba340060d645991": {
          "model_module": "@jupyter-widgets/base",
          "model_name": "LayoutModel",
          "model_module_version": "1.2.0",
          "state": {
            "_view_name": "LayoutView",
            "grid_template_rows": null,
            "right": null,
            "justify_content": null,
            "_view_module": "@jupyter-widgets/base",
            "overflow": null,
            "_model_module_version": "1.2.0",
            "_view_count": null,
            "flex_flow": null,
            "width": null,
            "min_width": null,
            "border": null,
            "align_items": null,
            "bottom": null,
            "_model_module": "@jupyter-widgets/base",
            "top": null,
            "grid_column": null,
            "overflow_y": null,
            "overflow_x": null,
            "grid_auto_flow": null,
            "grid_area": null,
            "grid_template_columns": null,
            "flex": null,
            "_model_name": "LayoutModel",
            "justify_items": null,
            "grid_row": null,
            "max_height": null,
            "align_content": null,
            "visibility": null,
            "align_self": null,
            "height": null,
            "min_height": null,
            "padding": null,
            "grid_auto_rows": null,
            "grid_gap": null,
            "max_width": null,
            "order": null,
            "_view_module_version": "1.2.0",
            "grid_template_areas": null,
            "object_position": null,
            "object_fit": null,
            "grid_auto_columns": null,
            "margin": null,
            "display": null,
            "left": null
          }
        },
        "0d7f9a33a909479396a507022f271437": {
          "model_module": "@jupyter-widgets/controls",
          "model_name": "HTMLModel",
          "model_module_version": "1.5.0",
          "state": {
            "_view_name": "HTMLView",
            "style": "IPY_MODEL_0c0da2881318498bba7a35fab1b6ca7e",
            "_dom_classes": [],
            "description": "",
            "_model_name": "HTMLModel",
            "placeholder": "​",
            "_view_module": "@jupyter-widgets/controls",
            "_model_module_version": "1.5.0",
            "value": "100%",
            "_view_count": null,
            "_view_module_version": "1.5.0",
            "description_tooltip": null,
            "_model_module": "@jupyter-widgets/controls",
            "layout": "IPY_MODEL_7f96fb47b6c64d629f8c2939bd95ca3a"
          }
        },
        "a1be5fb469bd49cc8081f1606b173c01": {
          "model_module": "@jupyter-widgets/controls",
          "model_name": "FloatProgressModel",
          "model_module_version": "1.5.0",
          "state": {
            "_view_name": "ProgressView",
            "style": "IPY_MODEL_4046559d33d445e5b866190384ad6e92",
            "_dom_classes": [],
            "description": "",
            "_model_name": "FloatProgressModel",
            "bar_style": "success",
            "max": 500,
            "_view_module": "@jupyter-widgets/controls",
            "_model_module_version": "1.5.0",
            "value": 500,
            "_view_count": null,
            "_view_module_version": "1.5.0",
            "orientation": "horizontal",
            "min": 0,
            "description_tooltip": null,
            "_model_module": "@jupyter-widgets/controls",
            "layout": "IPY_MODEL_d41cc617a3624b31b6457460b522a756"
          }
        },
        "ad2f4a75f8794a02af2f3e9fdf312352": {
          "model_module": "@jupyter-widgets/controls",
          "model_name": "HTMLModel",
          "model_module_version": "1.5.0",
          "state": {
            "_view_name": "HTMLView",
            "style": "IPY_MODEL_6fac45e7ef9f457880b82ef816d9007c",
            "_dom_classes": [],
            "description": "",
            "_model_name": "HTMLModel",
            "placeholder": "​",
            "_view_module": "@jupyter-widgets/controls",
            "_model_module_version": "1.5.0",
            "value": " 500/500 [00:00&lt;00:00, 4597.55ex/s]",
            "_view_count": null,
            "_view_module_version": "1.5.0",
            "description_tooltip": null,
            "_model_module": "@jupyter-widgets/controls",
            "layout": "IPY_MODEL_bdbee9f93b6f4c82a33601de370dac9b"
          }
        },
        "0c0da2881318498bba7a35fab1b6ca7e": {
          "model_module": "@jupyter-widgets/controls",
          "model_name": "DescriptionStyleModel",
          "model_module_version": "1.5.0",
          "state": {
            "_view_name": "StyleView",
            "_model_name": "DescriptionStyleModel",
            "description_width": "",
            "_view_module": "@jupyter-widgets/base",
            "_model_module_version": "1.5.0",
            "_view_count": null,
            "_view_module_version": "1.2.0",
            "_model_module": "@jupyter-widgets/controls"
          }
        },
        "7f96fb47b6c64d629f8c2939bd95ca3a": {
          "model_module": "@jupyter-widgets/base",
          "model_name": "LayoutModel",
          "model_module_version": "1.2.0",
          "state": {
            "_view_name": "LayoutView",
            "grid_template_rows": null,
            "right": null,
            "justify_content": null,
            "_view_module": "@jupyter-widgets/base",
            "overflow": null,
            "_model_module_version": "1.2.0",
            "_view_count": null,
            "flex_flow": null,
            "width": null,
            "min_width": null,
            "border": null,
            "align_items": null,
            "bottom": null,
            "_model_module": "@jupyter-widgets/base",
            "top": null,
            "grid_column": null,
            "overflow_y": null,
            "overflow_x": null,
            "grid_auto_flow": null,
            "grid_area": null,
            "grid_template_columns": null,
            "flex": null,
            "_model_name": "LayoutModel",
            "justify_items": null,
            "grid_row": null,
            "max_height": null,
            "align_content": null,
            "visibility": null,
            "align_self": null,
            "height": null,
            "min_height": null,
            "padding": null,
            "grid_auto_rows": null,
            "grid_gap": null,
            "max_width": null,
            "order": null,
            "_view_module_version": "1.2.0",
            "grid_template_areas": null,
            "object_position": null,
            "object_fit": null,
            "grid_auto_columns": null,
            "margin": null,
            "display": null,
            "left": null
          }
        },
        "4046559d33d445e5b866190384ad6e92": {
          "model_module": "@jupyter-widgets/controls",
          "model_name": "ProgressStyleModel",
          "model_module_version": "1.5.0",
          "state": {
            "_view_name": "StyleView",
            "_model_name": "ProgressStyleModel",
            "description_width": "",
            "_view_module": "@jupyter-widgets/base",
            "_model_module_version": "1.5.0",
            "_view_count": null,
            "_view_module_version": "1.2.0",
            "bar_color": null,
            "_model_module": "@jupyter-widgets/controls"
          }
        },
        "d41cc617a3624b31b6457460b522a756": {
          "model_module": "@jupyter-widgets/base",
          "model_name": "LayoutModel",
          "model_module_version": "1.2.0",
          "state": {
            "_view_name": "LayoutView",
            "grid_template_rows": null,
            "right": null,
            "justify_content": null,
            "_view_module": "@jupyter-widgets/base",
            "overflow": null,
            "_model_module_version": "1.2.0",
            "_view_count": null,
            "flex_flow": null,
            "width": null,
            "min_width": null,
            "border": null,
            "align_items": null,
            "bottom": null,
            "_model_module": "@jupyter-widgets/base",
            "top": null,
            "grid_column": null,
            "overflow_y": null,
            "overflow_x": null,
            "grid_auto_flow": null,
            "grid_area": null,
            "grid_template_columns": null,
            "flex": null,
            "_model_name": "LayoutModel",
            "justify_items": null,
            "grid_row": null,
            "max_height": null,
            "align_content": null,
            "visibility": null,
            "align_self": null,
            "height": null,
            "min_height": null,
            "padding": null,
            "grid_auto_rows": null,
            "grid_gap": null,
            "max_width": null,
            "order": null,
            "_view_module_version": "1.2.0",
            "grid_template_areas": null,
            "object_position": null,
            "object_fit": null,
            "grid_auto_columns": null,
            "margin": null,
            "display": null,
            "left": null
          }
        },
        "6fac45e7ef9f457880b82ef816d9007c": {
          "model_module": "@jupyter-widgets/controls",
          "model_name": "DescriptionStyleModel",
          "model_module_version": "1.5.0",
          "state": {
            "_view_name": "StyleView",
            "_model_name": "DescriptionStyleModel",
            "description_width": "",
            "_view_module": "@jupyter-widgets/base",
            "_model_module_version": "1.5.0",
            "_view_count": null,
            "_view_module_version": "1.2.0",
            "_model_module": "@jupyter-widgets/controls"
          }
        },
        "bdbee9f93b6f4c82a33601de370dac9b": {
          "model_module": "@jupyter-widgets/base",
          "model_name": "LayoutModel",
          "model_module_version": "1.2.0",
          "state": {
            "_view_name": "LayoutView",
            "grid_template_rows": null,
            "right": null,
            "justify_content": null,
            "_view_module": "@jupyter-widgets/base",
            "overflow": null,
            "_model_module_version": "1.2.0",
            "_view_count": null,
            "flex_flow": null,
            "width": null,
            "min_width": null,
            "border": null,
            "align_items": null,
            "bottom": null,
            "_model_module": "@jupyter-widgets/base",
            "top": null,
            "grid_column": null,
            "overflow_y": null,
            "overflow_x": null,
            "grid_auto_flow": null,
            "grid_area": null,
            "grid_template_columns": null,
            "flex": null,
            "_model_name": "LayoutModel",
            "justify_items": null,
            "grid_row": null,
            "max_height": null,
            "align_content": null,
            "visibility": null,
            "align_self": null,
            "height": null,
            "min_height": null,
            "padding": null,
            "grid_auto_rows": null,
            "grid_gap": null,
            "max_width": null,
            "order": null,
            "_view_module_version": "1.2.0",
            "grid_template_areas": null,
            "object_position": null,
            "object_fit": null,
            "grid_auto_columns": null,
            "margin": null,
            "display": null,
            "left": null
          }
        },
        "52768a19c350405eb389698e00b0b1b2": {
          "model_module": "@jupyter-widgets/controls",
          "model_name": "HBoxModel",
          "model_module_version": "1.5.0",
          "state": {
            "_view_name": "HBoxView",
            "_dom_classes": [],
            "_model_name": "HBoxModel",
            "_view_module": "@jupyter-widgets/controls",
            "_model_module_version": "1.5.0",
            "_view_count": null,
            "_view_module_version": "1.5.0",
            "box_style": "",
            "layout": "IPY_MODEL_85a9b9af9a7a4bad8af395febcedd41e",
            "_model_module": "@jupyter-widgets/controls",
            "children": [
              "IPY_MODEL_21e7a796a1464d17ba34ea514d33fddc",
              "IPY_MODEL_5e0333c61f3d4201895945ae773653d4",
              "IPY_MODEL_bc910c1b657b4f9bae06c070a0cebaa4"
            ]
          }
        },
        "85a9b9af9a7a4bad8af395febcedd41e": {
          "model_module": "@jupyter-widgets/base",
          "model_name": "LayoutModel",
          "model_module_version": "1.2.0",
          "state": {
            "_view_name": "LayoutView",
            "grid_template_rows": null,
            "right": null,
            "justify_content": null,
            "_view_module": "@jupyter-widgets/base",
            "overflow": null,
            "_model_module_version": "1.2.0",
            "_view_count": null,
            "flex_flow": null,
            "width": null,
            "min_width": null,
            "border": null,
            "align_items": null,
            "bottom": null,
            "_model_module": "@jupyter-widgets/base",
            "top": null,
            "grid_column": null,
            "overflow_y": null,
            "overflow_x": null,
            "grid_auto_flow": null,
            "grid_area": null,
            "grid_template_columns": null,
            "flex": null,
            "_model_name": "LayoutModel",
            "justify_items": null,
            "grid_row": null,
            "max_height": null,
            "align_content": null,
            "visibility": null,
            "align_self": null,
            "height": null,
            "min_height": null,
            "padding": null,
            "grid_auto_rows": null,
            "grid_gap": null,
            "max_width": null,
            "order": null,
            "_view_module_version": "1.2.0",
            "grid_template_areas": null,
            "object_position": null,
            "object_fit": null,
            "grid_auto_columns": null,
            "margin": null,
            "display": null,
            "left": null
          }
        },
        "21e7a796a1464d17ba34ea514d33fddc": {
          "model_module": "@jupyter-widgets/controls",
          "model_name": "HTMLModel",
          "model_module_version": "1.5.0",
          "state": {
            "_view_name": "HTMLView",
            "style": "IPY_MODEL_5cf4f78cc1b24b1aa2b65a871b7633a7",
            "_dom_classes": [],
            "description": "",
            "_model_name": "HTMLModel",
            "placeholder": "​",
            "_view_module": "@jupyter-widgets/controls",
            "_model_module_version": "1.5.0",
            "value": "100%",
            "_view_count": null,
            "_view_module_version": "1.5.0",
            "description_tooltip": null,
            "_model_module": "@jupyter-widgets/controls",
            "layout": "IPY_MODEL_9668f51d653847c090fbc5d96f6b0a9a"
          }
        },
        "5e0333c61f3d4201895945ae773653d4": {
          "model_module": "@jupyter-widgets/controls",
          "model_name": "FloatProgressModel",
          "model_module_version": "1.5.0",
          "state": {
            "_view_name": "ProgressView",
            "style": "IPY_MODEL_1f9b42e1395c443cb62af9f1436345a6",
            "_dom_classes": [],
            "description": "",
            "_model_name": "FloatProgressModel",
            "bar_style": "success",
            "max": 200,
            "_view_module": "@jupyter-widgets/controls",
            "_model_module_version": "1.5.0",
            "value": 200,
            "_view_count": null,
            "_view_module_version": "1.5.0",
            "orientation": "horizontal",
            "min": 0,
            "description_tooltip": null,
            "_model_module": "@jupyter-widgets/controls",
            "layout": "IPY_MODEL_964f673eba1f441cb2125d185d2933b7"
          }
        },
        "bc910c1b657b4f9bae06c070a0cebaa4": {
          "model_module": "@jupyter-widgets/controls",
          "model_name": "HTMLModel",
          "model_module_version": "1.5.0",
          "state": {
            "_view_name": "HTMLView",
            "style": "IPY_MODEL_f9cb0b9c15cc4ceb9e4fe795c4c2200e",
            "_dom_classes": [],
            "description": "",
            "_model_name": "HTMLModel",
            "placeholder": "​",
            "_view_module": "@jupyter-widgets/controls",
            "_model_module_version": "1.5.0",
            "value": " 200/200 [00:00&lt;00:00, 3021.36ex/s]",
            "_view_count": null,
            "_view_module_version": "1.5.0",
            "description_tooltip": null,
            "_model_module": "@jupyter-widgets/controls",
            "layout": "IPY_MODEL_db245d2c64c94e9e9e5076352661daa8"
          }
        },
        "5cf4f78cc1b24b1aa2b65a871b7633a7": {
          "model_module": "@jupyter-widgets/controls",
          "model_name": "DescriptionStyleModel",
          "model_module_version": "1.5.0",
          "state": {
            "_view_name": "StyleView",
            "_model_name": "DescriptionStyleModel",
            "description_width": "",
            "_view_module": "@jupyter-widgets/base",
            "_model_module_version": "1.5.0",
            "_view_count": null,
            "_view_module_version": "1.2.0",
            "_model_module": "@jupyter-widgets/controls"
          }
        },
        "9668f51d653847c090fbc5d96f6b0a9a": {
          "model_module": "@jupyter-widgets/base",
          "model_name": "LayoutModel",
          "model_module_version": "1.2.0",
          "state": {
            "_view_name": "LayoutView",
            "grid_template_rows": null,
            "right": null,
            "justify_content": null,
            "_view_module": "@jupyter-widgets/base",
            "overflow": null,
            "_model_module_version": "1.2.0",
            "_view_count": null,
            "flex_flow": null,
            "width": null,
            "min_width": null,
            "border": null,
            "align_items": null,
            "bottom": null,
            "_model_module": "@jupyter-widgets/base",
            "top": null,
            "grid_column": null,
            "overflow_y": null,
            "overflow_x": null,
            "grid_auto_flow": null,
            "grid_area": null,
            "grid_template_columns": null,
            "flex": null,
            "_model_name": "LayoutModel",
            "justify_items": null,
            "grid_row": null,
            "max_height": null,
            "align_content": null,
            "visibility": null,
            "align_self": null,
            "height": null,
            "min_height": null,
            "padding": null,
            "grid_auto_rows": null,
            "grid_gap": null,
            "max_width": null,
            "order": null,
            "_view_module_version": "1.2.0",
            "grid_template_areas": null,
            "object_position": null,
            "object_fit": null,
            "grid_auto_columns": null,
            "margin": null,
            "display": null,
            "left": null
          }
        },
        "1f9b42e1395c443cb62af9f1436345a6": {
          "model_module": "@jupyter-widgets/controls",
          "model_name": "ProgressStyleModel",
          "model_module_version": "1.5.0",
          "state": {
            "_view_name": "StyleView",
            "_model_name": "ProgressStyleModel",
            "description_width": "",
            "_view_module": "@jupyter-widgets/base",
            "_model_module_version": "1.5.0",
            "_view_count": null,
            "_view_module_version": "1.2.0",
            "bar_color": null,
            "_model_module": "@jupyter-widgets/controls"
          }
        },
        "964f673eba1f441cb2125d185d2933b7": {
          "model_module": "@jupyter-widgets/base",
          "model_name": "LayoutModel",
          "model_module_version": "1.2.0",
          "state": {
            "_view_name": "LayoutView",
            "grid_template_rows": null,
            "right": null,
            "justify_content": null,
            "_view_module": "@jupyter-widgets/base",
            "overflow": null,
            "_model_module_version": "1.2.0",
            "_view_count": null,
            "flex_flow": null,
            "width": null,
            "min_width": null,
            "border": null,
            "align_items": null,
            "bottom": null,
            "_model_module": "@jupyter-widgets/base",
            "top": null,
            "grid_column": null,
            "overflow_y": null,
            "overflow_x": null,
            "grid_auto_flow": null,
            "grid_area": null,
            "grid_template_columns": null,
            "flex": null,
            "_model_name": "LayoutModel",
            "justify_items": null,
            "grid_row": null,
            "max_height": null,
            "align_content": null,
            "visibility": null,
            "align_self": null,
            "height": null,
            "min_height": null,
            "padding": null,
            "grid_auto_rows": null,
            "grid_gap": null,
            "max_width": null,
            "order": null,
            "_view_module_version": "1.2.0",
            "grid_template_areas": null,
            "object_position": null,
            "object_fit": null,
            "grid_auto_columns": null,
            "margin": null,
            "display": null,
            "left": null
          }
        },
        "f9cb0b9c15cc4ceb9e4fe795c4c2200e": {
          "model_module": "@jupyter-widgets/controls",
          "model_name": "DescriptionStyleModel",
          "model_module_version": "1.5.0",
          "state": {
            "_view_name": "StyleView",
            "_model_name": "DescriptionStyleModel",
            "description_width": "",
            "_view_module": "@jupyter-widgets/base",
            "_model_module_version": "1.5.0",
            "_view_count": null,
            "_view_module_version": "1.2.0",
            "_model_module": "@jupyter-widgets/controls"
          }
        },
        "db245d2c64c94e9e9e5076352661daa8": {
          "model_module": "@jupyter-widgets/base",
          "model_name": "LayoutModel",
          "model_module_version": "1.2.0",
          "state": {
            "_view_name": "LayoutView",
            "grid_template_rows": null,
            "right": null,
            "justify_content": null,
            "_view_module": "@jupyter-widgets/base",
            "overflow": null,
            "_model_module_version": "1.2.0",
            "_view_count": null,
            "flex_flow": null,
            "width": null,
            "min_width": null,
            "border": null,
            "align_items": null,
            "bottom": null,
            "_model_module": "@jupyter-widgets/base",
            "top": null,
            "grid_column": null,
            "overflow_y": null,
            "overflow_x": null,
            "grid_auto_flow": null,
            "grid_area": null,
            "grid_template_columns": null,
            "flex": null,
            "_model_name": "LayoutModel",
            "justify_items": null,
            "grid_row": null,
            "max_height": null,
            "align_content": null,
            "visibility": null,
            "align_self": null,
            "height": null,
            "min_height": null,
            "padding": null,
            "grid_auto_rows": null,
            "grid_gap": null,
            "max_width": null,
            "order": null,
            "_view_module_version": "1.2.0",
            "grid_template_areas": null,
            "object_position": null,
            "object_fit": null,
            "grid_auto_columns": null,
            "margin": null,
            "display": null,
            "left": null
          }
        },
        "f59ae39cb02f402c994e63697bfdc3d8": {
          "model_module": "@jupyter-widgets/controls",
          "model_name": "HBoxModel",
          "model_module_version": "1.5.0",
          "state": {
            "_view_name": "HBoxView",
            "_dom_classes": [],
            "_model_name": "HBoxModel",
            "_view_module": "@jupyter-widgets/controls",
            "_model_module_version": "1.5.0",
            "_view_count": null,
            "_view_module_version": "1.5.0",
            "box_style": "",
            "layout": "IPY_MODEL_71e2d811fea146809ed23f4ebf7b537a",
            "_model_module": "@jupyter-widgets/controls",
            "children": [
              "IPY_MODEL_6e08f597482c4dc9952365c12646cc25",
              "IPY_MODEL_560c4b1a7e9245dab8bcced70c7dacd9",
              "IPY_MODEL_e173433af9df4ab0b50ebfdc3d89b4f2"
            ]
          }
        },
        "71e2d811fea146809ed23f4ebf7b537a": {
          "model_module": "@jupyter-widgets/base",
          "model_name": "LayoutModel",
          "model_module_version": "1.2.0",
          "state": {
            "_view_name": "LayoutView",
            "grid_template_rows": null,
            "right": null,
            "justify_content": null,
            "_view_module": "@jupyter-widgets/base",
            "overflow": null,
            "_model_module_version": "1.2.0",
            "_view_count": null,
            "flex_flow": null,
            "width": null,
            "min_width": null,
            "border": null,
            "align_items": null,
            "bottom": null,
            "_model_module": "@jupyter-widgets/base",
            "top": null,
            "grid_column": null,
            "overflow_y": null,
            "overflow_x": null,
            "grid_auto_flow": null,
            "grid_area": null,
            "grid_template_columns": null,
            "flex": null,
            "_model_name": "LayoutModel",
            "justify_items": null,
            "grid_row": null,
            "max_height": null,
            "align_content": null,
            "visibility": null,
            "align_self": null,
            "height": null,
            "min_height": null,
            "padding": null,
            "grid_auto_rows": null,
            "grid_gap": null,
            "max_width": null,
            "order": null,
            "_view_module_version": "1.2.0",
            "grid_template_areas": null,
            "object_position": null,
            "object_fit": null,
            "grid_auto_columns": null,
            "margin": null,
            "display": null,
            "left": null
          }
        },
        "6e08f597482c4dc9952365c12646cc25": {
          "model_module": "@jupyter-widgets/controls",
          "model_name": "HTMLModel",
          "model_module_version": "1.5.0",
          "state": {
            "_view_name": "HTMLView",
            "style": "IPY_MODEL_bf4607e8de4e411cb98d2e75ec4b99ac",
            "_dom_classes": [],
            "description": "",
            "_model_name": "HTMLModel",
            "placeholder": "​",
            "_view_module": "@jupyter-widgets/controls",
            "_model_module_version": "1.5.0",
            "value": "100%",
            "_view_count": null,
            "_view_module_version": "1.5.0",
            "description_tooltip": null,
            "_model_module": "@jupyter-widgets/controls",
            "layout": "IPY_MODEL_3fa1e34a212642dbb9d373915cabde49"
          }
        },
        "560c4b1a7e9245dab8bcced70c7dacd9": {
          "model_module": "@jupyter-widgets/controls",
          "model_name": "FloatProgressModel",
          "model_module_version": "1.5.0",
          "state": {
            "_view_name": "ProgressView",
            "style": "IPY_MODEL_36096ab5bb3b4d4fb9768028c4c78077",
            "_dom_classes": [],
            "description": "",
            "_model_name": "FloatProgressModel",
            "bar_style": "success",
            "max": 1,
            "_view_module": "@jupyter-widgets/controls",
            "_model_module_version": "1.5.0",
            "value": 1,
            "_view_count": null,
            "_view_module_version": "1.5.0",
            "orientation": "horizontal",
            "min": 0,
            "description_tooltip": null,
            "_model_module": "@jupyter-widgets/controls",
            "layout": "IPY_MODEL_2bb718105e524091ab4ac5207875d763"
          }
        },
        "e173433af9df4ab0b50ebfdc3d89b4f2": {
          "model_module": "@jupyter-widgets/controls",
          "model_name": "HTMLModel",
          "model_module_version": "1.5.0",
          "state": {
            "_view_name": "HTMLView",
            "style": "IPY_MODEL_4971d8731cb94f82bb09ff20d7429af0",
            "_dom_classes": [],
            "description": "",
            "_model_name": "HTMLModel",
            "placeholder": "​",
            "_view_module": "@jupyter-widgets/controls",
            "_model_module_version": "1.5.0",
            "value": " 1/1 [00:00&lt;00:00, 27.11ba/s]",
            "_view_count": null,
            "_view_module_version": "1.5.0",
            "description_tooltip": null,
            "_model_module": "@jupyter-widgets/controls",
            "layout": "IPY_MODEL_c2d12d169a264460999b7d91f385ef70"
          }
        },
        "bf4607e8de4e411cb98d2e75ec4b99ac": {
          "model_module": "@jupyter-widgets/controls",
          "model_name": "DescriptionStyleModel",
          "model_module_version": "1.5.0",
          "state": {
            "_view_name": "StyleView",
            "_model_name": "DescriptionStyleModel",
            "description_width": "",
            "_view_module": "@jupyter-widgets/base",
            "_model_module_version": "1.5.0",
            "_view_count": null,
            "_view_module_version": "1.2.0",
            "_model_module": "@jupyter-widgets/controls"
          }
        },
        "3fa1e34a212642dbb9d373915cabde49": {
          "model_module": "@jupyter-widgets/base",
          "model_name": "LayoutModel",
          "model_module_version": "1.2.0",
          "state": {
            "_view_name": "LayoutView",
            "grid_template_rows": null,
            "right": null,
            "justify_content": null,
            "_view_module": "@jupyter-widgets/base",
            "overflow": null,
            "_model_module_version": "1.2.0",
            "_view_count": null,
            "flex_flow": null,
            "width": null,
            "min_width": null,
            "border": null,
            "align_items": null,
            "bottom": null,
            "_model_module": "@jupyter-widgets/base",
            "top": null,
            "grid_column": null,
            "overflow_y": null,
            "overflow_x": null,
            "grid_auto_flow": null,
            "grid_area": null,
            "grid_template_columns": null,
            "flex": null,
            "_model_name": "LayoutModel",
            "justify_items": null,
            "grid_row": null,
            "max_height": null,
            "align_content": null,
            "visibility": null,
            "align_self": null,
            "height": null,
            "min_height": null,
            "padding": null,
            "grid_auto_rows": null,
            "grid_gap": null,
            "max_width": null,
            "order": null,
            "_view_module_version": "1.2.0",
            "grid_template_areas": null,
            "object_position": null,
            "object_fit": null,
            "grid_auto_columns": null,
            "margin": null,
            "display": null,
            "left": null
          }
        },
        "36096ab5bb3b4d4fb9768028c4c78077": {
          "model_module": "@jupyter-widgets/controls",
          "model_name": "ProgressStyleModel",
          "model_module_version": "1.5.0",
          "state": {
            "_view_name": "StyleView",
            "_model_name": "ProgressStyleModel",
            "description_width": "",
            "_view_module": "@jupyter-widgets/base",
            "_model_module_version": "1.5.0",
            "_view_count": null,
            "_view_module_version": "1.2.0",
            "bar_color": null,
            "_model_module": "@jupyter-widgets/controls"
          }
        },
        "2bb718105e524091ab4ac5207875d763": {
          "model_module": "@jupyter-widgets/base",
          "model_name": "LayoutModel",
          "model_module_version": "1.2.0",
          "state": {
            "_view_name": "LayoutView",
            "grid_template_rows": null,
            "right": null,
            "justify_content": null,
            "_view_module": "@jupyter-widgets/base",
            "overflow": null,
            "_model_module_version": "1.2.0",
            "_view_count": null,
            "flex_flow": null,
            "width": null,
            "min_width": null,
            "border": null,
            "align_items": null,
            "bottom": null,
            "_model_module": "@jupyter-widgets/base",
            "top": null,
            "grid_column": null,
            "overflow_y": null,
            "overflow_x": null,
            "grid_auto_flow": null,
            "grid_area": null,
            "grid_template_columns": null,
            "flex": null,
            "_model_name": "LayoutModel",
            "justify_items": null,
            "grid_row": null,
            "max_height": null,
            "align_content": null,
            "visibility": null,
            "align_self": null,
            "height": null,
            "min_height": null,
            "padding": null,
            "grid_auto_rows": null,
            "grid_gap": null,
            "max_width": null,
            "order": null,
            "_view_module_version": "1.2.0",
            "grid_template_areas": null,
            "object_position": null,
            "object_fit": null,
            "grid_auto_columns": null,
            "margin": null,
            "display": null,
            "left": null
          }
        },
        "4971d8731cb94f82bb09ff20d7429af0": {
          "model_module": "@jupyter-widgets/controls",
          "model_name": "DescriptionStyleModel",
          "model_module_version": "1.5.0",
          "state": {
            "_view_name": "StyleView",
            "_model_name": "DescriptionStyleModel",
            "description_width": "",
            "_view_module": "@jupyter-widgets/base",
            "_model_module_version": "1.5.0",
            "_view_count": null,
            "_view_module_version": "1.2.0",
            "_model_module": "@jupyter-widgets/controls"
          }
        },
        "c2d12d169a264460999b7d91f385ef70": {
          "model_module": "@jupyter-widgets/base",
          "model_name": "LayoutModel",
          "model_module_version": "1.2.0",
          "state": {
            "_view_name": "LayoutView",
            "grid_template_rows": null,
            "right": null,
            "justify_content": null,
            "_view_module": "@jupyter-widgets/base",
            "overflow": null,
            "_model_module_version": "1.2.0",
            "_view_count": null,
            "flex_flow": null,
            "width": null,
            "min_width": null,
            "border": null,
            "align_items": null,
            "bottom": null,
            "_model_module": "@jupyter-widgets/base",
            "top": null,
            "grid_column": null,
            "overflow_y": null,
            "overflow_x": null,
            "grid_auto_flow": null,
            "grid_area": null,
            "grid_template_columns": null,
            "flex": null,
            "_model_name": "LayoutModel",
            "justify_items": null,
            "grid_row": null,
            "max_height": null,
            "align_content": null,
            "visibility": null,
            "align_self": null,
            "height": null,
            "min_height": null,
            "padding": null,
            "grid_auto_rows": null,
            "grid_gap": null,
            "max_width": null,
            "order": null,
            "_view_module_version": "1.2.0",
            "grid_template_areas": null,
            "object_position": null,
            "object_fit": null,
            "grid_auto_columns": null,
            "margin": null,
            "display": null,
            "left": null
          }
        },
        "7da5be3b062b41e289134456a6b28f3a": {
          "model_module": "@jupyter-widgets/controls",
          "model_name": "HBoxModel",
          "model_module_version": "1.5.0",
          "state": {
            "_view_name": "HBoxView",
            "_dom_classes": [],
            "_model_name": "HBoxModel",
            "_view_module": "@jupyter-widgets/controls",
            "_model_module_version": "1.5.0",
            "_view_count": null,
            "_view_module_version": "1.5.0",
            "box_style": "",
            "layout": "IPY_MODEL_bcf330f7ff7549659e44e961bcf8df7d",
            "_model_module": "@jupyter-widgets/controls",
            "children": [
              "IPY_MODEL_6c3383ba81c948bb8eec6d0ed07a0326",
              "IPY_MODEL_515de5994f2f47bc97431eaa7c7d3ae8",
              "IPY_MODEL_34834b509a8a44f38099293ca3c5db34"
            ]
          }
        },
        "bcf330f7ff7549659e44e961bcf8df7d": {
          "model_module": "@jupyter-widgets/base",
          "model_name": "LayoutModel",
          "model_module_version": "1.2.0",
          "state": {
            "_view_name": "LayoutView",
            "grid_template_rows": null,
            "right": null,
            "justify_content": null,
            "_view_module": "@jupyter-widgets/base",
            "overflow": null,
            "_model_module_version": "1.2.0",
            "_view_count": null,
            "flex_flow": null,
            "width": null,
            "min_width": null,
            "border": null,
            "align_items": null,
            "bottom": null,
            "_model_module": "@jupyter-widgets/base",
            "top": null,
            "grid_column": null,
            "overflow_y": null,
            "overflow_x": null,
            "grid_auto_flow": null,
            "grid_area": null,
            "grid_template_columns": null,
            "flex": null,
            "_model_name": "LayoutModel",
            "justify_items": null,
            "grid_row": null,
            "max_height": null,
            "align_content": null,
            "visibility": null,
            "align_self": null,
            "height": null,
            "min_height": null,
            "padding": null,
            "grid_auto_rows": null,
            "grid_gap": null,
            "max_width": null,
            "order": null,
            "_view_module_version": "1.2.0",
            "grid_template_areas": null,
            "object_position": null,
            "object_fit": null,
            "grid_auto_columns": null,
            "margin": null,
            "display": null,
            "left": null
          }
        },
        "6c3383ba81c948bb8eec6d0ed07a0326": {
          "model_module": "@jupyter-widgets/controls",
          "model_name": "HTMLModel",
          "model_module_version": "1.5.0",
          "state": {
            "_view_name": "HTMLView",
            "style": "IPY_MODEL_6c9ed5e7b3a245a38df61e791ca19ef0",
            "_dom_classes": [],
            "description": "",
            "_model_name": "HTMLModel",
            "placeholder": "​",
            "_view_module": "@jupyter-widgets/controls",
            "_model_module_version": "1.5.0",
            "value": "100%",
            "_view_count": null,
            "_view_module_version": "1.5.0",
            "description_tooltip": null,
            "_model_module": "@jupyter-widgets/controls",
            "layout": "IPY_MODEL_8b1964d8c3e744c4bab2fcbeaf9bec3e"
          }
        },
        "515de5994f2f47bc97431eaa7c7d3ae8": {
          "model_module": "@jupyter-widgets/controls",
          "model_name": "FloatProgressModel",
          "model_module_version": "1.5.0",
          "state": {
            "_view_name": "ProgressView",
            "style": "IPY_MODEL_f300c548c06745b39dd8b9946dc778dc",
            "_dom_classes": [],
            "description": "",
            "_model_name": "FloatProgressModel",
            "bar_style": "success",
            "max": 1,
            "_view_module": "@jupyter-widgets/controls",
            "_model_module_version": "1.5.0",
            "value": 1,
            "_view_count": null,
            "_view_module_version": "1.5.0",
            "orientation": "horizontal",
            "min": 0,
            "description_tooltip": null,
            "_model_module": "@jupyter-widgets/controls",
            "layout": "IPY_MODEL_f6f6fdd0446544479d61fefb447c7962"
          }
        },
        "34834b509a8a44f38099293ca3c5db34": {
          "model_module": "@jupyter-widgets/controls",
          "model_name": "HTMLModel",
          "model_module_version": "1.5.0",
          "state": {
            "_view_name": "HTMLView",
            "style": "IPY_MODEL_bc0e0699b15543aaa464f8b9cc560dce",
            "_dom_classes": [],
            "description": "",
            "_model_name": "HTMLModel",
            "placeholder": "​",
            "_view_module": "@jupyter-widgets/controls",
            "_model_module_version": "1.5.0",
            "value": " 1/1 [00:00&lt;00:00, 23.15ba/s]",
            "_view_count": null,
            "_view_module_version": "1.5.0",
            "description_tooltip": null,
            "_model_module": "@jupyter-widgets/controls",
            "layout": "IPY_MODEL_6f059f049b354678a79935cc54a8dea9"
          }
        },
        "6c9ed5e7b3a245a38df61e791ca19ef0": {
          "model_module": "@jupyter-widgets/controls",
          "model_name": "DescriptionStyleModel",
          "model_module_version": "1.5.0",
          "state": {
            "_view_name": "StyleView",
            "_model_name": "DescriptionStyleModel",
            "description_width": "",
            "_view_module": "@jupyter-widgets/base",
            "_model_module_version": "1.5.0",
            "_view_count": null,
            "_view_module_version": "1.2.0",
            "_model_module": "@jupyter-widgets/controls"
          }
        },
        "8b1964d8c3e744c4bab2fcbeaf9bec3e": {
          "model_module": "@jupyter-widgets/base",
          "model_name": "LayoutModel",
          "model_module_version": "1.2.0",
          "state": {
            "_view_name": "LayoutView",
            "grid_template_rows": null,
            "right": null,
            "justify_content": null,
            "_view_module": "@jupyter-widgets/base",
            "overflow": null,
            "_model_module_version": "1.2.0",
            "_view_count": null,
            "flex_flow": null,
            "width": null,
            "min_width": null,
            "border": null,
            "align_items": null,
            "bottom": null,
            "_model_module": "@jupyter-widgets/base",
            "top": null,
            "grid_column": null,
            "overflow_y": null,
            "overflow_x": null,
            "grid_auto_flow": null,
            "grid_area": null,
            "grid_template_columns": null,
            "flex": null,
            "_model_name": "LayoutModel",
            "justify_items": null,
            "grid_row": null,
            "max_height": null,
            "align_content": null,
            "visibility": null,
            "align_self": null,
            "height": null,
            "min_height": null,
            "padding": null,
            "grid_auto_rows": null,
            "grid_gap": null,
            "max_width": null,
            "order": null,
            "_view_module_version": "1.2.0",
            "grid_template_areas": null,
            "object_position": null,
            "object_fit": null,
            "grid_auto_columns": null,
            "margin": null,
            "display": null,
            "left": null
          }
        },
        "f300c548c06745b39dd8b9946dc778dc": {
          "model_module": "@jupyter-widgets/controls",
          "model_name": "ProgressStyleModel",
          "model_module_version": "1.5.0",
          "state": {
            "_view_name": "StyleView",
            "_model_name": "ProgressStyleModel",
            "description_width": "",
            "_view_module": "@jupyter-widgets/base",
            "_model_module_version": "1.5.0",
            "_view_count": null,
            "_view_module_version": "1.2.0",
            "bar_color": null,
            "_model_module": "@jupyter-widgets/controls"
          }
        },
        "f6f6fdd0446544479d61fefb447c7962": {
          "model_module": "@jupyter-widgets/base",
          "model_name": "LayoutModel",
          "model_module_version": "1.2.0",
          "state": {
            "_view_name": "LayoutView",
            "grid_template_rows": null,
            "right": null,
            "justify_content": null,
            "_view_module": "@jupyter-widgets/base",
            "overflow": null,
            "_model_module_version": "1.2.0",
            "_view_count": null,
            "flex_flow": null,
            "width": null,
            "min_width": null,
            "border": null,
            "align_items": null,
            "bottom": null,
            "_model_module": "@jupyter-widgets/base",
            "top": null,
            "grid_column": null,
            "overflow_y": null,
            "overflow_x": null,
            "grid_auto_flow": null,
            "grid_area": null,
            "grid_template_columns": null,
            "flex": null,
            "_model_name": "LayoutModel",
            "justify_items": null,
            "grid_row": null,
            "max_height": null,
            "align_content": null,
            "visibility": null,
            "align_self": null,
            "height": null,
            "min_height": null,
            "padding": null,
            "grid_auto_rows": null,
            "grid_gap": null,
            "max_width": null,
            "order": null,
            "_view_module_version": "1.2.0",
            "grid_template_areas": null,
            "object_position": null,
            "object_fit": null,
            "grid_auto_columns": null,
            "margin": null,
            "display": null,
            "left": null
          }
        },
        "bc0e0699b15543aaa464f8b9cc560dce": {
          "model_module": "@jupyter-widgets/controls",
          "model_name": "DescriptionStyleModel",
          "model_module_version": "1.5.0",
          "state": {
            "_view_name": "StyleView",
            "_model_name": "DescriptionStyleModel",
            "description_width": "",
            "_view_module": "@jupyter-widgets/base",
            "_model_module_version": "1.5.0",
            "_view_count": null,
            "_view_module_version": "1.2.0",
            "_model_module": "@jupyter-widgets/controls"
          }
        },
        "6f059f049b354678a79935cc54a8dea9": {
          "model_module": "@jupyter-widgets/base",
          "model_name": "LayoutModel",
          "model_module_version": "1.2.0",
          "state": {
            "_view_name": "LayoutView",
            "grid_template_rows": null,
            "right": null,
            "justify_content": null,
            "_view_module": "@jupyter-widgets/base",
            "overflow": null,
            "_model_module_version": "1.2.0",
            "_view_count": null,
            "flex_flow": null,
            "width": null,
            "min_width": null,
            "border": null,
            "align_items": null,
            "bottom": null,
            "_model_module": "@jupyter-widgets/base",
            "top": null,
            "grid_column": null,
            "overflow_y": null,
            "overflow_x": null,
            "grid_auto_flow": null,
            "grid_area": null,
            "grid_template_columns": null,
            "flex": null,
            "_model_name": "LayoutModel",
            "justify_items": null,
            "grid_row": null,
            "max_height": null,
            "align_content": null,
            "visibility": null,
            "align_self": null,
            "height": null,
            "min_height": null,
            "padding": null,
            "grid_auto_rows": null,
            "grid_gap": null,
            "max_width": null,
            "order": null,
            "_view_module_version": "1.2.0",
            "grid_template_areas": null,
            "object_position": null,
            "object_fit": null,
            "grid_auto_columns": null,
            "margin": null,
            "display": null,
            "left": null
          }
        },
        "05cd1f4e4123466289fc2de0008b1499": {
          "model_module": "@jupyter-widgets/controls",
          "model_name": "HBoxModel",
          "model_module_version": "1.5.0",
          "state": {
            "_view_name": "HBoxView",
            "_dom_classes": [],
            "_model_name": "HBoxModel",
            "_view_module": "@jupyter-widgets/controls",
            "_model_module_version": "1.5.0",
            "_view_count": null,
            "_view_module_version": "1.5.0",
            "box_style": "",
            "layout": "IPY_MODEL_9d87b1f0e95d42828780ddaa6482cb5a",
            "_model_module": "@jupyter-widgets/controls",
            "children": [
              "IPY_MODEL_e90bb98f36a34d548141844cd73c44ee",
              "IPY_MODEL_94f8a7c9922b43c2bb3d82128e52343e",
              "IPY_MODEL_ded57f45296b4fe590b1b41750407777"
            ]
          }
        },
        "9d87b1f0e95d42828780ddaa6482cb5a": {
          "model_module": "@jupyter-widgets/base",
          "model_name": "LayoutModel",
          "model_module_version": "1.2.0",
          "state": {
            "_view_name": "LayoutView",
            "grid_template_rows": null,
            "right": null,
            "justify_content": null,
            "_view_module": "@jupyter-widgets/base",
            "overflow": null,
            "_model_module_version": "1.2.0",
            "_view_count": null,
            "flex_flow": null,
            "width": null,
            "min_width": null,
            "border": null,
            "align_items": null,
            "bottom": null,
            "_model_module": "@jupyter-widgets/base",
            "top": null,
            "grid_column": null,
            "overflow_y": null,
            "overflow_x": null,
            "grid_auto_flow": null,
            "grid_area": null,
            "grid_template_columns": null,
            "flex": null,
            "_model_name": "LayoutModel",
            "justify_items": null,
            "grid_row": null,
            "max_height": null,
            "align_content": null,
            "visibility": null,
            "align_self": null,
            "height": null,
            "min_height": null,
            "padding": null,
            "grid_auto_rows": null,
            "grid_gap": null,
            "max_width": null,
            "order": null,
            "_view_module_version": "1.2.0",
            "grid_template_areas": null,
            "object_position": null,
            "object_fit": null,
            "grid_auto_columns": null,
            "margin": null,
            "display": null,
            "left": null
          }
        },
        "e90bb98f36a34d548141844cd73c44ee": {
          "model_module": "@jupyter-widgets/controls",
          "model_name": "HTMLModel",
          "model_module_version": "1.5.0",
          "state": {
            "_view_name": "HTMLView",
            "style": "IPY_MODEL_67a1ce707b4e402f93113d12a0c704d8",
            "_dom_classes": [],
            "description": "",
            "_model_name": "HTMLModel",
            "placeholder": "​",
            "_view_module": "@jupyter-widgets/controls",
            "_model_module_version": "1.5.0",
            "value": "Downloading: 100%",
            "_view_count": null,
            "_view_module_version": "1.5.0",
            "description_tooltip": null,
            "_model_module": "@jupyter-widgets/controls",
            "layout": "IPY_MODEL_6a67519123874f4599bb130da9c68625"
          }
        },
        "94f8a7c9922b43c2bb3d82128e52343e": {
          "model_module": "@jupyter-widgets/controls",
          "model_name": "FloatProgressModel",
          "model_module_version": "1.5.0",
          "state": {
            "_view_name": "ProgressView",
            "style": "IPY_MODEL_85a6a4a6a33d4f67a925a0bef9dd9745",
            "_dom_classes": [],
            "description": "",
            "_model_name": "FloatProgressModel",
            "bar_style": "success",
            "max": 1636,
            "_view_module": "@jupyter-widgets/controls",
            "_model_module_version": "1.5.0",
            "value": 1636,
            "_view_count": null,
            "_view_module_version": "1.5.0",
            "orientation": "horizontal",
            "min": 0,
            "description_tooltip": null,
            "_model_module": "@jupyter-widgets/controls",
            "layout": "IPY_MODEL_0ec082ab2d404b63a4646a29190dd11b"
          }
        },
        "ded57f45296b4fe590b1b41750407777": {
          "model_module": "@jupyter-widgets/controls",
          "model_name": "HTMLModel",
          "model_module_version": "1.5.0",
          "state": {
            "_view_name": "HTMLView",
            "style": "IPY_MODEL_e32dde7bc7bd4e41918846c7d2d27afc",
            "_dom_classes": [],
            "description": "",
            "_model_name": "HTMLModel",
            "placeholder": "​",
            "_view_module": "@jupyter-widgets/controls",
            "_model_module_version": "1.5.0",
            "value": " 1.60k/1.60k [00:00&lt;00:00, 50.0kB/s]",
            "_view_count": null,
            "_view_module_version": "1.5.0",
            "description_tooltip": null,
            "_model_module": "@jupyter-widgets/controls",
            "layout": "IPY_MODEL_d13358f64008427d8b12ae542af92f4a"
          }
        },
        "67a1ce707b4e402f93113d12a0c704d8": {
          "model_module": "@jupyter-widgets/controls",
          "model_name": "DescriptionStyleModel",
          "model_module_version": "1.5.0",
          "state": {
            "_view_name": "StyleView",
            "_model_name": "DescriptionStyleModel",
            "description_width": "",
            "_view_module": "@jupyter-widgets/base",
            "_model_module_version": "1.5.0",
            "_view_count": null,
            "_view_module_version": "1.2.0",
            "_model_module": "@jupyter-widgets/controls"
          }
        },
        "6a67519123874f4599bb130da9c68625": {
          "model_module": "@jupyter-widgets/base",
          "model_name": "LayoutModel",
          "model_module_version": "1.2.0",
          "state": {
            "_view_name": "LayoutView",
            "grid_template_rows": null,
            "right": null,
            "justify_content": null,
            "_view_module": "@jupyter-widgets/base",
            "overflow": null,
            "_model_module_version": "1.2.0",
            "_view_count": null,
            "flex_flow": null,
            "width": null,
            "min_width": null,
            "border": null,
            "align_items": null,
            "bottom": null,
            "_model_module": "@jupyter-widgets/base",
            "top": null,
            "grid_column": null,
            "overflow_y": null,
            "overflow_x": null,
            "grid_auto_flow": null,
            "grid_area": null,
            "grid_template_columns": null,
            "flex": null,
            "_model_name": "LayoutModel",
            "justify_items": null,
            "grid_row": null,
            "max_height": null,
            "align_content": null,
            "visibility": null,
            "align_self": null,
            "height": null,
            "min_height": null,
            "padding": null,
            "grid_auto_rows": null,
            "grid_gap": null,
            "max_width": null,
            "order": null,
            "_view_module_version": "1.2.0",
            "grid_template_areas": null,
            "object_position": null,
            "object_fit": null,
            "grid_auto_columns": null,
            "margin": null,
            "display": null,
            "left": null
          }
        },
        "85a6a4a6a33d4f67a925a0bef9dd9745": {
          "model_module": "@jupyter-widgets/controls",
          "model_name": "ProgressStyleModel",
          "model_module_version": "1.5.0",
          "state": {
            "_view_name": "StyleView",
            "_model_name": "ProgressStyleModel",
            "description_width": "",
            "_view_module": "@jupyter-widgets/base",
            "_model_module_version": "1.5.0",
            "_view_count": null,
            "_view_module_version": "1.2.0",
            "bar_color": null,
            "_model_module": "@jupyter-widgets/controls"
          }
        },
        "0ec082ab2d404b63a4646a29190dd11b": {
          "model_module": "@jupyter-widgets/base",
          "model_name": "LayoutModel",
          "model_module_version": "1.2.0",
          "state": {
            "_view_name": "LayoutView",
            "grid_template_rows": null,
            "right": null,
            "justify_content": null,
            "_view_module": "@jupyter-widgets/base",
            "overflow": null,
            "_model_module_version": "1.2.0",
            "_view_count": null,
            "flex_flow": null,
            "width": null,
            "min_width": null,
            "border": null,
            "align_items": null,
            "bottom": null,
            "_model_module": "@jupyter-widgets/base",
            "top": null,
            "grid_column": null,
            "overflow_y": null,
            "overflow_x": null,
            "grid_auto_flow": null,
            "grid_area": null,
            "grid_template_columns": null,
            "flex": null,
            "_model_name": "LayoutModel",
            "justify_items": null,
            "grid_row": null,
            "max_height": null,
            "align_content": null,
            "visibility": null,
            "align_self": null,
            "height": null,
            "min_height": null,
            "padding": null,
            "grid_auto_rows": null,
            "grid_gap": null,
            "max_width": null,
            "order": null,
            "_view_module_version": "1.2.0",
            "grid_template_areas": null,
            "object_position": null,
            "object_fit": null,
            "grid_auto_columns": null,
            "margin": null,
            "display": null,
            "left": null
          }
        },
        "e32dde7bc7bd4e41918846c7d2d27afc": {
          "model_module": "@jupyter-widgets/controls",
          "model_name": "DescriptionStyleModel",
          "model_module_version": "1.5.0",
          "state": {
            "_view_name": "StyleView",
            "_model_name": "DescriptionStyleModel",
            "description_width": "",
            "_view_module": "@jupyter-widgets/base",
            "_model_module_version": "1.5.0",
            "_view_count": null,
            "_view_module_version": "1.2.0",
            "_model_module": "@jupyter-widgets/controls"
          }
        },
        "d13358f64008427d8b12ae542af92f4a": {
          "model_module": "@jupyter-widgets/base",
          "model_name": "LayoutModel",
          "model_module_version": "1.2.0",
          "state": {
            "_view_name": "LayoutView",
            "grid_template_rows": null,
            "right": null,
            "justify_content": null,
            "_view_module": "@jupyter-widgets/base",
            "overflow": null,
            "_model_module_version": "1.2.0",
            "_view_count": null,
            "flex_flow": null,
            "width": null,
            "min_width": null,
            "border": null,
            "align_items": null,
            "bottom": null,
            "_model_module": "@jupyter-widgets/base",
            "top": null,
            "grid_column": null,
            "overflow_y": null,
            "overflow_x": null,
            "grid_auto_flow": null,
            "grid_area": null,
            "grid_template_columns": null,
            "flex": null,
            "_model_name": "LayoutModel",
            "justify_items": null,
            "grid_row": null,
            "max_height": null,
            "align_content": null,
            "visibility": null,
            "align_self": null,
            "height": null,
            "min_height": null,
            "padding": null,
            "grid_auto_rows": null,
            "grid_gap": null,
            "max_width": null,
            "order": null,
            "_view_module_version": "1.2.0",
            "grid_template_areas": null,
            "object_position": null,
            "object_fit": null,
            "grid_auto_columns": null,
            "margin": null,
            "display": null,
            "left": null
          }
        },
        "37b34933102249b185b5d3828126341b": {
          "model_module": "@jupyter-widgets/controls",
          "model_name": "HBoxModel",
          "model_module_version": "1.5.0",
          "state": {
            "_view_name": "HBoxView",
            "_dom_classes": [],
            "_model_name": "HBoxModel",
            "_view_module": "@jupyter-widgets/controls",
            "_model_module_version": "1.5.0",
            "_view_count": null,
            "_view_module_version": "1.5.0",
            "box_style": "",
            "layout": "IPY_MODEL_9f9e3f2f3e6d47a49269efcee0620ca5",
            "_model_module": "@jupyter-widgets/controls",
            "children": [
              "IPY_MODEL_890602a235114f19b7b482773fc2afc8",
              "IPY_MODEL_f7116767dcb0437a90006036a9477ec9",
              "IPY_MODEL_3baabfaba3934c2488ba52b40da537ae"
            ]
          }
        },
        "9f9e3f2f3e6d47a49269efcee0620ca5": {
          "model_module": "@jupyter-widgets/base",
          "model_name": "LayoutModel",
          "model_module_version": "1.2.0",
          "state": {
            "_view_name": "LayoutView",
            "grid_template_rows": null,
            "right": null,
            "justify_content": null,
            "_view_module": "@jupyter-widgets/base",
            "overflow": null,
            "_model_module_version": "1.2.0",
            "_view_count": null,
            "flex_flow": null,
            "width": null,
            "min_width": null,
            "border": null,
            "align_items": null,
            "bottom": null,
            "_model_module": "@jupyter-widgets/base",
            "top": null,
            "grid_column": null,
            "overflow_y": null,
            "overflow_x": null,
            "grid_auto_flow": null,
            "grid_area": null,
            "grid_template_columns": null,
            "flex": null,
            "_model_name": "LayoutModel",
            "justify_items": null,
            "grid_row": null,
            "max_height": null,
            "align_content": null,
            "visibility": null,
            "align_self": null,
            "height": null,
            "min_height": null,
            "padding": null,
            "grid_auto_rows": null,
            "grid_gap": null,
            "max_width": null,
            "order": null,
            "_view_module_version": "1.2.0",
            "grid_template_areas": null,
            "object_position": null,
            "object_fit": null,
            "grid_auto_columns": null,
            "margin": null,
            "display": null,
            "left": null
          }
        },
        "890602a235114f19b7b482773fc2afc8": {
          "model_module": "@jupyter-widgets/controls",
          "model_name": "HTMLModel",
          "model_module_version": "1.5.0",
          "state": {
            "_view_name": "HTMLView",
            "style": "IPY_MODEL_7c784128f76245ef9f38de0f57f55489",
            "_dom_classes": [],
            "description": "",
            "_model_name": "HTMLModel",
            "placeholder": "​",
            "_view_module": "@jupyter-widgets/controls",
            "_model_module_version": "1.5.0",
            "value": "Downloading: 100%",
            "_view_count": null,
            "_view_module_version": "1.5.0",
            "description_tooltip": null,
            "_model_module": "@jupyter-widgets/controls",
            "layout": "IPY_MODEL_602fecb675f74ec391dfffc759a88765"
          }
        },
        "f7116767dcb0437a90006036a9477ec9": {
          "model_module": "@jupyter-widgets/controls",
          "model_name": "FloatProgressModel",
          "model_module_version": "1.5.0",
          "state": {
            "_view_name": "ProgressView",
            "style": "IPY_MODEL_42299fae30154f68b1bfc343bd7be72c",
            "_dom_classes": [],
            "description": "",
            "_model_name": "FloatProgressModel",
            "bar_style": "success",
            "max": 212,
            "_view_module": "@jupyter-widgets/controls",
            "_model_module_version": "1.5.0",
            "value": 212,
            "_view_count": null,
            "_view_module_version": "1.5.0",
            "orientation": "horizontal",
            "min": 0,
            "description_tooltip": null,
            "_model_module": "@jupyter-widgets/controls",
            "layout": "IPY_MODEL_5469bf3f05a6474abf36892d2e8fbc22"
          }
        },
        "3baabfaba3934c2488ba52b40da537ae": {
          "model_module": "@jupyter-widgets/controls",
          "model_name": "HTMLModel",
          "model_module_version": "1.5.0",
          "state": {
            "_view_name": "HTMLView",
            "style": "IPY_MODEL_5538657c9d1249a78d4214effa43c15a",
            "_dom_classes": [],
            "description": "",
            "_model_name": "HTMLModel",
            "placeholder": "​",
            "_view_module": "@jupyter-widgets/controls",
            "_model_module_version": "1.5.0",
            "value": " 212/212 [00:00&lt;00:00, 5.79kB/s]",
            "_view_count": null,
            "_view_module_version": "1.5.0",
            "description_tooltip": null,
            "_model_module": "@jupyter-widgets/controls",
            "layout": "IPY_MODEL_a90ba736cbc84a88a9008c2a1f801d9e"
          }
        },
        "7c784128f76245ef9f38de0f57f55489": {
          "model_module": "@jupyter-widgets/controls",
          "model_name": "DescriptionStyleModel",
          "model_module_version": "1.5.0",
          "state": {
            "_view_name": "StyleView",
            "_model_name": "DescriptionStyleModel",
            "description_width": "",
            "_view_module": "@jupyter-widgets/base",
            "_model_module_version": "1.5.0",
            "_view_count": null,
            "_view_module_version": "1.2.0",
            "_model_module": "@jupyter-widgets/controls"
          }
        },
        "602fecb675f74ec391dfffc759a88765": {
          "model_module": "@jupyter-widgets/base",
          "model_name": "LayoutModel",
          "model_module_version": "1.2.0",
          "state": {
            "_view_name": "LayoutView",
            "grid_template_rows": null,
            "right": null,
            "justify_content": null,
            "_view_module": "@jupyter-widgets/base",
            "overflow": null,
            "_model_module_version": "1.2.0",
            "_view_count": null,
            "flex_flow": null,
            "width": null,
            "min_width": null,
            "border": null,
            "align_items": null,
            "bottom": null,
            "_model_module": "@jupyter-widgets/base",
            "top": null,
            "grid_column": null,
            "overflow_y": null,
            "overflow_x": null,
            "grid_auto_flow": null,
            "grid_area": null,
            "grid_template_columns": null,
            "flex": null,
            "_model_name": "LayoutModel",
            "justify_items": null,
            "grid_row": null,
            "max_height": null,
            "align_content": null,
            "visibility": null,
            "align_self": null,
            "height": null,
            "min_height": null,
            "padding": null,
            "grid_auto_rows": null,
            "grid_gap": null,
            "max_width": null,
            "order": null,
            "_view_module_version": "1.2.0",
            "grid_template_areas": null,
            "object_position": null,
            "object_fit": null,
            "grid_auto_columns": null,
            "margin": null,
            "display": null,
            "left": null
          }
        },
        "42299fae30154f68b1bfc343bd7be72c": {
          "model_module": "@jupyter-widgets/controls",
          "model_name": "ProgressStyleModel",
          "model_module_version": "1.5.0",
          "state": {
            "_view_name": "StyleView",
            "_model_name": "ProgressStyleModel",
            "description_width": "",
            "_view_module": "@jupyter-widgets/base",
            "_model_module_version": "1.5.0",
            "_view_count": null,
            "_view_module_version": "1.2.0",
            "bar_color": null,
            "_model_module": "@jupyter-widgets/controls"
          }
        },
        "5469bf3f05a6474abf36892d2e8fbc22": {
          "model_module": "@jupyter-widgets/base",
          "model_name": "LayoutModel",
          "model_module_version": "1.2.0",
          "state": {
            "_view_name": "LayoutView",
            "grid_template_rows": null,
            "right": null,
            "justify_content": null,
            "_view_module": "@jupyter-widgets/base",
            "overflow": null,
            "_model_module_version": "1.2.0",
            "_view_count": null,
            "flex_flow": null,
            "width": null,
            "min_width": null,
            "border": null,
            "align_items": null,
            "bottom": null,
            "_model_module": "@jupyter-widgets/base",
            "top": null,
            "grid_column": null,
            "overflow_y": null,
            "overflow_x": null,
            "grid_auto_flow": null,
            "grid_area": null,
            "grid_template_columns": null,
            "flex": null,
            "_model_name": "LayoutModel",
            "justify_items": null,
            "grid_row": null,
            "max_height": null,
            "align_content": null,
            "visibility": null,
            "align_self": null,
            "height": null,
            "min_height": null,
            "padding": null,
            "grid_auto_rows": null,
            "grid_gap": null,
            "max_width": null,
            "order": null,
            "_view_module_version": "1.2.0",
            "grid_template_areas": null,
            "object_position": null,
            "object_fit": null,
            "grid_auto_columns": null,
            "margin": null,
            "display": null,
            "left": null
          }
        },
        "5538657c9d1249a78d4214effa43c15a": {
          "model_module": "@jupyter-widgets/controls",
          "model_name": "DescriptionStyleModel",
          "model_module_version": "1.5.0",
          "state": {
            "_view_name": "StyleView",
            "_model_name": "DescriptionStyleModel",
            "description_width": "",
            "_view_module": "@jupyter-widgets/base",
            "_model_module_version": "1.5.0",
            "_view_count": null,
            "_view_module_version": "1.2.0",
            "_model_module": "@jupyter-widgets/controls"
          }
        },
        "a90ba736cbc84a88a9008c2a1f801d9e": {
          "model_module": "@jupyter-widgets/base",
          "model_name": "LayoutModel",
          "model_module_version": "1.2.0",
          "state": {
            "_view_name": "LayoutView",
            "grid_template_rows": null,
            "right": null,
            "justify_content": null,
            "_view_module": "@jupyter-widgets/base",
            "overflow": null,
            "_model_module_version": "1.2.0",
            "_view_count": null,
            "flex_flow": null,
            "width": null,
            "min_width": null,
            "border": null,
            "align_items": null,
            "bottom": null,
            "_model_module": "@jupyter-widgets/base",
            "top": null,
            "grid_column": null,
            "overflow_y": null,
            "overflow_x": null,
            "grid_auto_flow": null,
            "grid_area": null,
            "grid_template_columns": null,
            "flex": null,
            "_model_name": "LayoutModel",
            "justify_items": null,
            "grid_row": null,
            "max_height": null,
            "align_content": null,
            "visibility": null,
            "align_self": null,
            "height": null,
            "min_height": null,
            "padding": null,
            "grid_auto_rows": null,
            "grid_gap": null,
            "max_width": null,
            "order": null,
            "_view_module_version": "1.2.0",
            "grid_template_areas": null,
            "object_position": null,
            "object_fit": null,
            "grid_auto_columns": null,
            "margin": null,
            "display": null,
            "left": null
          }
        },
        "a70265c22fc145ea84218426b3915f59": {
          "model_module": "@jupyter-widgets/controls",
          "model_name": "HBoxModel",
          "model_module_version": "1.5.0",
          "state": {
            "_view_name": "HBoxView",
            "_dom_classes": [],
            "_model_name": "HBoxModel",
            "_view_module": "@jupyter-widgets/controls",
            "_model_module_version": "1.5.0",
            "_view_count": null,
            "_view_module_version": "1.5.0",
            "box_style": "",
            "layout": "IPY_MODEL_cf11b0cb36cd4e008d5af1b68f172c09",
            "_model_module": "@jupyter-widgets/controls",
            "children": [
              "IPY_MODEL_026b150d6a4a4d5e84a23c5dbc929cb5",
              "IPY_MODEL_887d719224d04b93b8559c9f63c57dc3",
              "IPY_MODEL_f35fb14a67a94bdeaade356813e86924"
            ]
          }
        },
        "cf11b0cb36cd4e008d5af1b68f172c09": {
          "model_module": "@jupyter-widgets/base",
          "model_name": "LayoutModel",
          "model_module_version": "1.2.0",
          "state": {
            "_view_name": "LayoutView",
            "grid_template_rows": null,
            "right": null,
            "justify_content": null,
            "_view_module": "@jupyter-widgets/base",
            "overflow": null,
            "_model_module_version": "1.2.0",
            "_view_count": null,
            "flex_flow": null,
            "width": null,
            "min_width": null,
            "border": null,
            "align_items": null,
            "bottom": null,
            "_model_module": "@jupyter-widgets/base",
            "top": null,
            "grid_column": null,
            "overflow_y": null,
            "overflow_x": null,
            "grid_auto_flow": null,
            "grid_area": null,
            "grid_template_columns": null,
            "flex": null,
            "_model_name": "LayoutModel",
            "justify_items": null,
            "grid_row": null,
            "max_height": null,
            "align_content": null,
            "visibility": null,
            "align_self": null,
            "height": null,
            "min_height": null,
            "padding": null,
            "grid_auto_rows": null,
            "grid_gap": null,
            "max_width": null,
            "order": null,
            "_view_module_version": "1.2.0",
            "grid_template_areas": null,
            "object_position": null,
            "object_fit": null,
            "grid_auto_columns": null,
            "margin": null,
            "display": null,
            "left": null
          }
        },
        "026b150d6a4a4d5e84a23c5dbc929cb5": {
          "model_module": "@jupyter-widgets/controls",
          "model_name": "HTMLModel",
          "model_module_version": "1.5.0",
          "state": {
            "_view_name": "HTMLView",
            "style": "IPY_MODEL_d26b2a9a772a4765acbf5ed10ed1428f",
            "_dom_classes": [],
            "description": "",
            "_model_name": "HTMLModel",
            "placeholder": "​",
            "_view_module": "@jupyter-widgets/controls",
            "_model_module_version": "1.5.0",
            "value": "100%",
            "_view_count": null,
            "_view_module_version": "1.5.0",
            "description_tooltip": null,
            "_model_module": "@jupyter-widgets/controls",
            "layout": "IPY_MODEL_64027528f17e4044912212ba1052f623"
          }
        },
        "887d719224d04b93b8559c9f63c57dc3": {
          "model_module": "@jupyter-widgets/controls",
          "model_name": "FloatProgressModel",
          "model_module_version": "1.5.0",
          "state": {
            "_view_name": "ProgressView",
            "style": "IPY_MODEL_e5dfb99feb4b4167abe567425f149a92",
            "_dom_classes": [],
            "description": "",
            "_model_name": "FloatProgressModel",
            "bar_style": "success",
            "max": 500,
            "_view_module": "@jupyter-widgets/controls",
            "_model_module_version": "1.5.0",
            "value": 500,
            "_view_count": null,
            "_view_module_version": "1.5.0",
            "orientation": "horizontal",
            "min": 0,
            "description_tooltip": null,
            "_model_module": "@jupyter-widgets/controls",
            "layout": "IPY_MODEL_5165a4569cd942478763f7c6fb146541"
          }
        },
        "f35fb14a67a94bdeaade356813e86924": {
          "model_module": "@jupyter-widgets/controls",
          "model_name": "HTMLModel",
          "model_module_version": "1.5.0",
          "state": {
            "_view_name": "HTMLView",
            "style": "IPY_MODEL_1d6ca90bcc7f4c1c8e9b6b8113aee306",
            "_dom_classes": [],
            "description": "",
            "_model_name": "HTMLModel",
            "placeholder": "​",
            "_view_module": "@jupyter-widgets/controls",
            "_model_module_version": "1.5.0",
            "value": " 500/500 [00:04&lt;00:00, 116.60ex/s]",
            "_view_count": null,
            "_view_module_version": "1.5.0",
            "description_tooltip": null,
            "_model_module": "@jupyter-widgets/controls",
            "layout": "IPY_MODEL_641195fedc394956afb4b9b606edc157"
          }
        },
        "d26b2a9a772a4765acbf5ed10ed1428f": {
          "model_module": "@jupyter-widgets/controls",
          "model_name": "DescriptionStyleModel",
          "model_module_version": "1.5.0",
          "state": {
            "_view_name": "StyleView",
            "_model_name": "DescriptionStyleModel",
            "description_width": "",
            "_view_module": "@jupyter-widgets/base",
            "_model_module_version": "1.5.0",
            "_view_count": null,
            "_view_module_version": "1.2.0",
            "_model_module": "@jupyter-widgets/controls"
          }
        },
        "64027528f17e4044912212ba1052f623": {
          "model_module": "@jupyter-widgets/base",
          "model_name": "LayoutModel",
          "model_module_version": "1.2.0",
          "state": {
            "_view_name": "LayoutView",
            "grid_template_rows": null,
            "right": null,
            "justify_content": null,
            "_view_module": "@jupyter-widgets/base",
            "overflow": null,
            "_model_module_version": "1.2.0",
            "_view_count": null,
            "flex_flow": null,
            "width": null,
            "min_width": null,
            "border": null,
            "align_items": null,
            "bottom": null,
            "_model_module": "@jupyter-widgets/base",
            "top": null,
            "grid_column": null,
            "overflow_y": null,
            "overflow_x": null,
            "grid_auto_flow": null,
            "grid_area": null,
            "grid_template_columns": null,
            "flex": null,
            "_model_name": "LayoutModel",
            "justify_items": null,
            "grid_row": null,
            "max_height": null,
            "align_content": null,
            "visibility": null,
            "align_self": null,
            "height": null,
            "min_height": null,
            "padding": null,
            "grid_auto_rows": null,
            "grid_gap": null,
            "max_width": null,
            "order": null,
            "_view_module_version": "1.2.0",
            "grid_template_areas": null,
            "object_position": null,
            "object_fit": null,
            "grid_auto_columns": null,
            "margin": null,
            "display": null,
            "left": null
          }
        },
        "e5dfb99feb4b4167abe567425f149a92": {
          "model_module": "@jupyter-widgets/controls",
          "model_name": "ProgressStyleModel",
          "model_module_version": "1.5.0",
          "state": {
            "_view_name": "StyleView",
            "_model_name": "ProgressStyleModel",
            "description_width": "",
            "_view_module": "@jupyter-widgets/base",
            "_model_module_version": "1.5.0",
            "_view_count": null,
            "_view_module_version": "1.2.0",
            "bar_color": null,
            "_model_module": "@jupyter-widgets/controls"
          }
        },
        "5165a4569cd942478763f7c6fb146541": {
          "model_module": "@jupyter-widgets/base",
          "model_name": "LayoutModel",
          "model_module_version": "1.2.0",
          "state": {
            "_view_name": "LayoutView",
            "grid_template_rows": null,
            "right": null,
            "justify_content": null,
            "_view_module": "@jupyter-widgets/base",
            "overflow": null,
            "_model_module_version": "1.2.0",
            "_view_count": null,
            "flex_flow": null,
            "width": null,
            "min_width": null,
            "border": null,
            "align_items": null,
            "bottom": null,
            "_model_module": "@jupyter-widgets/base",
            "top": null,
            "grid_column": null,
            "overflow_y": null,
            "overflow_x": null,
            "grid_auto_flow": null,
            "grid_area": null,
            "grid_template_columns": null,
            "flex": null,
            "_model_name": "LayoutModel",
            "justify_items": null,
            "grid_row": null,
            "max_height": null,
            "align_content": null,
            "visibility": null,
            "align_self": null,
            "height": null,
            "min_height": null,
            "padding": null,
            "grid_auto_rows": null,
            "grid_gap": null,
            "max_width": null,
            "order": null,
            "_view_module_version": "1.2.0",
            "grid_template_areas": null,
            "object_position": null,
            "object_fit": null,
            "grid_auto_columns": null,
            "margin": null,
            "display": null,
            "left": null
          }
        },
        "1d6ca90bcc7f4c1c8e9b6b8113aee306": {
          "model_module": "@jupyter-widgets/controls",
          "model_name": "DescriptionStyleModel",
          "model_module_version": "1.5.0",
          "state": {
            "_view_name": "StyleView",
            "_model_name": "DescriptionStyleModel",
            "description_width": "",
            "_view_module": "@jupyter-widgets/base",
            "_model_module_version": "1.5.0",
            "_view_count": null,
            "_view_module_version": "1.2.0",
            "_model_module": "@jupyter-widgets/controls"
          }
        },
        "641195fedc394956afb4b9b606edc157": {
          "model_module": "@jupyter-widgets/base",
          "model_name": "LayoutModel",
          "model_module_version": "1.2.0",
          "state": {
            "_view_name": "LayoutView",
            "grid_template_rows": null,
            "right": null,
            "justify_content": null,
            "_view_module": "@jupyter-widgets/base",
            "overflow": null,
            "_model_module_version": "1.2.0",
            "_view_count": null,
            "flex_flow": null,
            "width": null,
            "min_width": null,
            "border": null,
            "align_items": null,
            "bottom": null,
            "_model_module": "@jupyter-widgets/base",
            "top": null,
            "grid_column": null,
            "overflow_y": null,
            "overflow_x": null,
            "grid_auto_flow": null,
            "grid_area": null,
            "grid_template_columns": null,
            "flex": null,
            "_model_name": "LayoutModel",
            "justify_items": null,
            "grid_row": null,
            "max_height": null,
            "align_content": null,
            "visibility": null,
            "align_self": null,
            "height": null,
            "min_height": null,
            "padding": null,
            "grid_auto_rows": null,
            "grid_gap": null,
            "max_width": null,
            "order": null,
            "_view_module_version": "1.2.0",
            "grid_template_areas": null,
            "object_position": null,
            "object_fit": null,
            "grid_auto_columns": null,
            "margin": null,
            "display": null,
            "left": null
          }
        },
        "1491539189e243599454365c727f9859": {
          "model_module": "@jupyter-widgets/controls",
          "model_name": "HBoxModel",
          "model_module_version": "1.5.0",
          "state": {
            "_view_name": "HBoxView",
            "_dom_classes": [],
            "_model_name": "HBoxModel",
            "_view_module": "@jupyter-widgets/controls",
            "_model_module_version": "1.5.0",
            "_view_count": null,
            "_view_module_version": "1.5.0",
            "box_style": "",
            "layout": "IPY_MODEL_6f5a59c5ee7a4024a941ee9a473f21b6",
            "_model_module": "@jupyter-widgets/controls",
            "children": [
              "IPY_MODEL_5b145f1c334041988ba8313e87aa6dd4",
              "IPY_MODEL_39594935b7a04303b5e1e18854ab43e7",
              "IPY_MODEL_cef086808ee24961bd9c415e22731c4e"
            ]
          }
        },
        "6f5a59c5ee7a4024a941ee9a473f21b6": {
          "model_module": "@jupyter-widgets/base",
          "model_name": "LayoutModel",
          "model_module_version": "1.2.0",
          "state": {
            "_view_name": "LayoutView",
            "grid_template_rows": null,
            "right": null,
            "justify_content": null,
            "_view_module": "@jupyter-widgets/base",
            "overflow": null,
            "_model_module_version": "1.2.0",
            "_view_count": null,
            "flex_flow": null,
            "width": null,
            "min_width": null,
            "border": null,
            "align_items": null,
            "bottom": null,
            "_model_module": "@jupyter-widgets/base",
            "top": null,
            "grid_column": null,
            "overflow_y": null,
            "overflow_x": null,
            "grid_auto_flow": null,
            "grid_area": null,
            "grid_template_columns": null,
            "flex": null,
            "_model_name": "LayoutModel",
            "justify_items": null,
            "grid_row": null,
            "max_height": null,
            "align_content": null,
            "visibility": null,
            "align_self": null,
            "height": null,
            "min_height": null,
            "padding": null,
            "grid_auto_rows": null,
            "grid_gap": null,
            "max_width": null,
            "order": null,
            "_view_module_version": "1.2.0",
            "grid_template_areas": null,
            "object_position": null,
            "object_fit": null,
            "grid_auto_columns": null,
            "margin": null,
            "display": null,
            "left": null
          }
        },
        "5b145f1c334041988ba8313e87aa6dd4": {
          "model_module": "@jupyter-widgets/controls",
          "model_name": "HTMLModel",
          "model_module_version": "1.5.0",
          "state": {
            "_view_name": "HTMLView",
            "style": "IPY_MODEL_55f24e035c8e45b986ecb47ec7ba8e8f",
            "_dom_classes": [],
            "description": "",
            "_model_name": "HTMLModel",
            "placeholder": "​",
            "_view_module": "@jupyter-widgets/controls",
            "_model_module_version": "1.5.0",
            "value": "100%",
            "_view_count": null,
            "_view_module_version": "1.5.0",
            "description_tooltip": null,
            "_model_module": "@jupyter-widgets/controls",
            "layout": "IPY_MODEL_32448c0ca3bf474aba7bff38ee4891e2"
          }
        },
        "39594935b7a04303b5e1e18854ab43e7": {
          "model_module": "@jupyter-widgets/controls",
          "model_name": "FloatProgressModel",
          "model_module_version": "1.5.0",
          "state": {
            "_view_name": "ProgressView",
            "style": "IPY_MODEL_62a171c0f8b34a0f85753c2b821c5f6d",
            "_dom_classes": [],
            "description": "",
            "_model_name": "FloatProgressModel",
            "bar_style": "success",
            "max": 200,
            "_view_module": "@jupyter-widgets/controls",
            "_model_module_version": "1.5.0",
            "value": 200,
            "_view_count": null,
            "_view_module_version": "1.5.0",
            "orientation": "horizontal",
            "min": 0,
            "description_tooltip": null,
            "_model_module": "@jupyter-widgets/controls",
            "layout": "IPY_MODEL_772432fc066e4f089b0b486036abc466"
          }
        },
        "cef086808ee24961bd9c415e22731c4e": {
          "model_module": "@jupyter-widgets/controls",
          "model_name": "HTMLModel",
          "model_module_version": "1.5.0",
          "state": {
            "_view_name": "HTMLView",
            "style": "IPY_MODEL_14888a40dd33471aaadb0e20b0d5fac6",
            "_dom_classes": [],
            "description": "",
            "_model_name": "HTMLModel",
            "placeholder": "​",
            "_view_module": "@jupyter-widgets/controls",
            "_model_module_version": "1.5.0",
            "value": " 200/200 [00:02&lt;00:00, 93.13ex/s]",
            "_view_count": null,
            "_view_module_version": "1.5.0",
            "description_tooltip": null,
            "_model_module": "@jupyter-widgets/controls",
            "layout": "IPY_MODEL_8fd3a3d9e772405bba05280cd4407c0c"
          }
        },
        "55f24e035c8e45b986ecb47ec7ba8e8f": {
          "model_module": "@jupyter-widgets/controls",
          "model_name": "DescriptionStyleModel",
          "model_module_version": "1.5.0",
          "state": {
            "_view_name": "StyleView",
            "_model_name": "DescriptionStyleModel",
            "description_width": "",
            "_view_module": "@jupyter-widgets/base",
            "_model_module_version": "1.5.0",
            "_view_count": null,
            "_view_module_version": "1.2.0",
            "_model_module": "@jupyter-widgets/controls"
          }
        },
        "32448c0ca3bf474aba7bff38ee4891e2": {
          "model_module": "@jupyter-widgets/base",
          "model_name": "LayoutModel",
          "model_module_version": "1.2.0",
          "state": {
            "_view_name": "LayoutView",
            "grid_template_rows": null,
            "right": null,
            "justify_content": null,
            "_view_module": "@jupyter-widgets/base",
            "overflow": null,
            "_model_module_version": "1.2.0",
            "_view_count": null,
            "flex_flow": null,
            "width": null,
            "min_width": null,
            "border": null,
            "align_items": null,
            "bottom": null,
            "_model_module": "@jupyter-widgets/base",
            "top": null,
            "grid_column": null,
            "overflow_y": null,
            "overflow_x": null,
            "grid_auto_flow": null,
            "grid_area": null,
            "grid_template_columns": null,
            "flex": null,
            "_model_name": "LayoutModel",
            "justify_items": null,
            "grid_row": null,
            "max_height": null,
            "align_content": null,
            "visibility": null,
            "align_self": null,
            "height": null,
            "min_height": null,
            "padding": null,
            "grid_auto_rows": null,
            "grid_gap": null,
            "max_width": null,
            "order": null,
            "_view_module_version": "1.2.0",
            "grid_template_areas": null,
            "object_position": null,
            "object_fit": null,
            "grid_auto_columns": null,
            "margin": null,
            "display": null,
            "left": null
          }
        },
        "62a171c0f8b34a0f85753c2b821c5f6d": {
          "model_module": "@jupyter-widgets/controls",
          "model_name": "ProgressStyleModel",
          "model_module_version": "1.5.0",
          "state": {
            "_view_name": "StyleView",
            "_model_name": "ProgressStyleModel",
            "description_width": "",
            "_view_module": "@jupyter-widgets/base",
            "_model_module_version": "1.5.0",
            "_view_count": null,
            "_view_module_version": "1.2.0",
            "bar_color": null,
            "_model_module": "@jupyter-widgets/controls"
          }
        },
        "772432fc066e4f089b0b486036abc466": {
          "model_module": "@jupyter-widgets/base",
          "model_name": "LayoutModel",
          "model_module_version": "1.2.0",
          "state": {
            "_view_name": "LayoutView",
            "grid_template_rows": null,
            "right": null,
            "justify_content": null,
            "_view_module": "@jupyter-widgets/base",
            "overflow": null,
            "_model_module_version": "1.2.0",
            "_view_count": null,
            "flex_flow": null,
            "width": null,
            "min_width": null,
            "border": null,
            "align_items": null,
            "bottom": null,
            "_model_module": "@jupyter-widgets/base",
            "top": null,
            "grid_column": null,
            "overflow_y": null,
            "overflow_x": null,
            "grid_auto_flow": null,
            "grid_area": null,
            "grid_template_columns": null,
            "flex": null,
            "_model_name": "LayoutModel",
            "justify_items": null,
            "grid_row": null,
            "max_height": null,
            "align_content": null,
            "visibility": null,
            "align_self": null,
            "height": null,
            "min_height": null,
            "padding": null,
            "grid_auto_rows": null,
            "grid_gap": null,
            "max_width": null,
            "order": null,
            "_view_module_version": "1.2.0",
            "grid_template_areas": null,
            "object_position": null,
            "object_fit": null,
            "grid_auto_columns": null,
            "margin": null,
            "display": null,
            "left": null
          }
        },
        "14888a40dd33471aaadb0e20b0d5fac6": {
          "model_module": "@jupyter-widgets/controls",
          "model_name": "DescriptionStyleModel",
          "model_module_version": "1.5.0",
          "state": {
            "_view_name": "StyleView",
            "_model_name": "DescriptionStyleModel",
            "description_width": "",
            "_view_module": "@jupyter-widgets/base",
            "_model_module_version": "1.5.0",
            "_view_count": null,
            "_view_module_version": "1.2.0",
            "_model_module": "@jupyter-widgets/controls"
          }
        },
        "8fd3a3d9e772405bba05280cd4407c0c": {
          "model_module": "@jupyter-widgets/base",
          "model_name": "LayoutModel",
          "model_module_version": "1.2.0",
          "state": {
            "_view_name": "LayoutView",
            "grid_template_rows": null,
            "right": null,
            "justify_content": null,
            "_view_module": "@jupyter-widgets/base",
            "overflow": null,
            "_model_module_version": "1.2.0",
            "_view_count": null,
            "flex_flow": null,
            "width": null,
            "min_width": null,
            "border": null,
            "align_items": null,
            "bottom": null,
            "_model_module": "@jupyter-widgets/base",
            "top": null,
            "grid_column": null,
            "overflow_y": null,
            "overflow_x": null,
            "grid_auto_flow": null,
            "grid_area": null,
            "grid_template_columns": null,
            "flex": null,
            "_model_name": "LayoutModel",
            "justify_items": null,
            "grid_row": null,
            "max_height": null,
            "align_content": null,
            "visibility": null,
            "align_self": null,
            "height": null,
            "min_height": null,
            "padding": null,
            "grid_auto_rows": null,
            "grid_gap": null,
            "max_width": null,
            "order": null,
            "_view_module_version": "1.2.0",
            "grid_template_areas": null,
            "object_position": null,
            "object_fit": null,
            "grid_auto_columns": null,
            "margin": null,
            "display": null,
            "left": null
          }
        },
        "2ebaac9f52634a1c885563afd4b0c864": {
          "model_module": "@jupyter-widgets/controls",
          "model_name": "HBoxModel",
          "model_module_version": "1.5.0",
          "state": {
            "_view_name": "HBoxView",
            "_dom_classes": [],
            "_model_name": "HBoxModel",
            "_view_module": "@jupyter-widgets/controls",
            "_model_module_version": "1.5.0",
            "_view_count": null,
            "_view_module_version": "1.5.0",
            "box_style": "",
            "layout": "IPY_MODEL_642c5e43a3034f9d99f15bccff9347e9",
            "_model_module": "@jupyter-widgets/controls",
            "children": [
              "IPY_MODEL_c6d013d5346f4d35a4951dd55fdbd8f4",
              "IPY_MODEL_76b59902f9c243499e3717618dff4abf",
              "IPY_MODEL_b2ef2f4ce91c495dbad10bcd12e2b22b"
            ]
          }
        },
        "642c5e43a3034f9d99f15bccff9347e9": {
          "model_module": "@jupyter-widgets/base",
          "model_name": "LayoutModel",
          "model_module_version": "1.2.0",
          "state": {
            "_view_name": "LayoutView",
            "grid_template_rows": null,
            "right": null,
            "justify_content": null,
            "_view_module": "@jupyter-widgets/base",
            "overflow": null,
            "_model_module_version": "1.2.0",
            "_view_count": null,
            "flex_flow": null,
            "width": null,
            "min_width": null,
            "border": null,
            "align_items": null,
            "bottom": null,
            "_model_module": "@jupyter-widgets/base",
            "top": null,
            "grid_column": null,
            "overflow_y": null,
            "overflow_x": null,
            "grid_auto_flow": null,
            "grid_area": null,
            "grid_template_columns": null,
            "flex": null,
            "_model_name": "LayoutModel",
            "justify_items": null,
            "grid_row": null,
            "max_height": null,
            "align_content": null,
            "visibility": null,
            "align_self": null,
            "height": null,
            "min_height": null,
            "padding": null,
            "grid_auto_rows": null,
            "grid_gap": null,
            "max_width": null,
            "order": null,
            "_view_module_version": "1.2.0",
            "grid_template_areas": null,
            "object_position": null,
            "object_fit": null,
            "grid_auto_columns": null,
            "margin": null,
            "display": null,
            "left": null
          }
        },
        "c6d013d5346f4d35a4951dd55fdbd8f4": {
          "model_module": "@jupyter-widgets/controls",
          "model_name": "HTMLModel",
          "model_module_version": "1.5.0",
          "state": {
            "_view_name": "HTMLView",
            "style": "IPY_MODEL_3f32ab095bf8439c915671be50d10c34",
            "_dom_classes": [],
            "description": "",
            "_model_name": "HTMLModel",
            "placeholder": "​",
            "_view_module": "@jupyter-widgets/controls",
            "_model_module_version": "1.5.0",
            "value": "100%",
            "_view_count": null,
            "_view_module_version": "1.5.0",
            "description_tooltip": null,
            "_model_module": "@jupyter-widgets/controls",
            "layout": "IPY_MODEL_f7909ca66d474c8da15a49046b131813"
          }
        },
        "76b59902f9c243499e3717618dff4abf": {
          "model_module": "@jupyter-widgets/controls",
          "model_name": "FloatProgressModel",
          "model_module_version": "1.5.0",
          "state": {
            "_view_name": "ProgressView",
            "style": "IPY_MODEL_65f3d100a6d249f18e2b08a612dba6da",
            "_dom_classes": [],
            "description": "",
            "_model_name": "FloatProgressModel",
            "bar_style": "success",
            "max": 1,
            "_view_module": "@jupyter-widgets/controls",
            "_model_module_version": "1.5.0",
            "value": 1,
            "_view_count": null,
            "_view_module_version": "1.5.0",
            "orientation": "horizontal",
            "min": 0,
            "description_tooltip": null,
            "_model_module": "@jupyter-widgets/controls",
            "layout": "IPY_MODEL_4a3a3d12eaa84cc0b32485f47bb0ea68"
          }
        },
        "b2ef2f4ce91c495dbad10bcd12e2b22b": {
          "model_module": "@jupyter-widgets/controls",
          "model_name": "HTMLModel",
          "model_module_version": "1.5.0",
          "state": {
            "_view_name": "HTMLView",
            "style": "IPY_MODEL_6dd9d156df2b4fe9bee43e9b963479ce",
            "_dom_classes": [],
            "description": "",
            "_model_name": "HTMLModel",
            "placeholder": "​",
            "_view_module": "@jupyter-widgets/controls",
            "_model_module_version": "1.5.0",
            "value": " 1/1 [00:00&lt;00:00, 27.71ba/s]",
            "_view_count": null,
            "_view_module_version": "1.5.0",
            "description_tooltip": null,
            "_model_module": "@jupyter-widgets/controls",
            "layout": "IPY_MODEL_9ecad43611fc42beaa49e5569475bc9f"
          }
        },
        "3f32ab095bf8439c915671be50d10c34": {
          "model_module": "@jupyter-widgets/controls",
          "model_name": "DescriptionStyleModel",
          "model_module_version": "1.5.0",
          "state": {
            "_view_name": "StyleView",
            "_model_name": "DescriptionStyleModel",
            "description_width": "",
            "_view_module": "@jupyter-widgets/base",
            "_model_module_version": "1.5.0",
            "_view_count": null,
            "_view_module_version": "1.2.0",
            "_model_module": "@jupyter-widgets/controls"
          }
        },
        "f7909ca66d474c8da15a49046b131813": {
          "model_module": "@jupyter-widgets/base",
          "model_name": "LayoutModel",
          "model_module_version": "1.2.0",
          "state": {
            "_view_name": "LayoutView",
            "grid_template_rows": null,
            "right": null,
            "justify_content": null,
            "_view_module": "@jupyter-widgets/base",
            "overflow": null,
            "_model_module_version": "1.2.0",
            "_view_count": null,
            "flex_flow": null,
            "width": null,
            "min_width": null,
            "border": null,
            "align_items": null,
            "bottom": null,
            "_model_module": "@jupyter-widgets/base",
            "top": null,
            "grid_column": null,
            "overflow_y": null,
            "overflow_x": null,
            "grid_auto_flow": null,
            "grid_area": null,
            "grid_template_columns": null,
            "flex": null,
            "_model_name": "LayoutModel",
            "justify_items": null,
            "grid_row": null,
            "max_height": null,
            "align_content": null,
            "visibility": null,
            "align_self": null,
            "height": null,
            "min_height": null,
            "padding": null,
            "grid_auto_rows": null,
            "grid_gap": null,
            "max_width": null,
            "order": null,
            "_view_module_version": "1.2.0",
            "grid_template_areas": null,
            "object_position": null,
            "object_fit": null,
            "grid_auto_columns": null,
            "margin": null,
            "display": null,
            "left": null
          }
        },
        "65f3d100a6d249f18e2b08a612dba6da": {
          "model_module": "@jupyter-widgets/controls",
          "model_name": "ProgressStyleModel",
          "model_module_version": "1.5.0",
          "state": {
            "_view_name": "StyleView",
            "_model_name": "ProgressStyleModel",
            "description_width": "",
            "_view_module": "@jupyter-widgets/base",
            "_model_module_version": "1.5.0",
            "_view_count": null,
            "_view_module_version": "1.2.0",
            "bar_color": null,
            "_model_module": "@jupyter-widgets/controls"
          }
        },
        "4a3a3d12eaa84cc0b32485f47bb0ea68": {
          "model_module": "@jupyter-widgets/base",
          "model_name": "LayoutModel",
          "model_module_version": "1.2.0",
          "state": {
            "_view_name": "LayoutView",
            "grid_template_rows": null,
            "right": null,
            "justify_content": null,
            "_view_module": "@jupyter-widgets/base",
            "overflow": null,
            "_model_module_version": "1.2.0",
            "_view_count": null,
            "flex_flow": null,
            "width": null,
            "min_width": null,
            "border": null,
            "align_items": null,
            "bottom": null,
            "_model_module": "@jupyter-widgets/base",
            "top": null,
            "grid_column": null,
            "overflow_y": null,
            "overflow_x": null,
            "grid_auto_flow": null,
            "grid_area": null,
            "grid_template_columns": null,
            "flex": null,
            "_model_name": "LayoutModel",
            "justify_items": null,
            "grid_row": null,
            "max_height": null,
            "align_content": null,
            "visibility": null,
            "align_self": null,
            "height": null,
            "min_height": null,
            "padding": null,
            "grid_auto_rows": null,
            "grid_gap": null,
            "max_width": null,
            "order": null,
            "_view_module_version": "1.2.0",
            "grid_template_areas": null,
            "object_position": null,
            "object_fit": null,
            "grid_auto_columns": null,
            "margin": null,
            "display": null,
            "left": null
          }
        },
        "6dd9d156df2b4fe9bee43e9b963479ce": {
          "model_module": "@jupyter-widgets/controls",
          "model_name": "DescriptionStyleModel",
          "model_module_version": "1.5.0",
          "state": {
            "_view_name": "StyleView",
            "_model_name": "DescriptionStyleModel",
            "description_width": "",
            "_view_module": "@jupyter-widgets/base",
            "_model_module_version": "1.5.0",
            "_view_count": null,
            "_view_module_version": "1.2.0",
            "_model_module": "@jupyter-widgets/controls"
          }
        },
        "9ecad43611fc42beaa49e5569475bc9f": {
          "model_module": "@jupyter-widgets/base",
          "model_name": "LayoutModel",
          "model_module_version": "1.2.0",
          "state": {
            "_view_name": "LayoutView",
            "grid_template_rows": null,
            "right": null,
            "justify_content": null,
            "_view_module": "@jupyter-widgets/base",
            "overflow": null,
            "_model_module_version": "1.2.0",
            "_view_count": null,
            "flex_flow": null,
            "width": null,
            "min_width": null,
            "border": null,
            "align_items": null,
            "bottom": null,
            "_model_module": "@jupyter-widgets/base",
            "top": null,
            "grid_column": null,
            "overflow_y": null,
            "overflow_x": null,
            "grid_auto_flow": null,
            "grid_area": null,
            "grid_template_columns": null,
            "flex": null,
            "_model_name": "LayoutModel",
            "justify_items": null,
            "grid_row": null,
            "max_height": null,
            "align_content": null,
            "visibility": null,
            "align_self": null,
            "height": null,
            "min_height": null,
            "padding": null,
            "grid_auto_rows": null,
            "grid_gap": null,
            "max_width": null,
            "order": null,
            "_view_module_version": "1.2.0",
            "grid_template_areas": null,
            "object_position": null,
            "object_fit": null,
            "grid_auto_columns": null,
            "margin": null,
            "display": null,
            "left": null
          }
        },
        "b3bd4f10b1ea4687af33360750c1873c": {
          "model_module": "@jupyter-widgets/controls",
          "model_name": "HBoxModel",
          "model_module_version": "1.5.0",
          "state": {
            "_view_name": "HBoxView",
            "_dom_classes": [],
            "_model_name": "HBoxModel",
            "_view_module": "@jupyter-widgets/controls",
            "_model_module_version": "1.5.0",
            "_view_count": null,
            "_view_module_version": "1.5.0",
            "box_style": "",
            "layout": "IPY_MODEL_0bc3ebfdf00c40798a575f337d9d0e4d",
            "_model_module": "@jupyter-widgets/controls",
            "children": [
              "IPY_MODEL_d79d721d311e4163b1b9bc78687d3e37",
              "IPY_MODEL_a17989f8a34c4e04b7e58ec51c935940",
              "IPY_MODEL_f57f44e9807144c8b49144641d79a7f9"
            ]
          }
        },
        "0bc3ebfdf00c40798a575f337d9d0e4d": {
          "model_module": "@jupyter-widgets/base",
          "model_name": "LayoutModel",
          "model_module_version": "1.2.0",
          "state": {
            "_view_name": "LayoutView",
            "grid_template_rows": null,
            "right": null,
            "justify_content": null,
            "_view_module": "@jupyter-widgets/base",
            "overflow": null,
            "_model_module_version": "1.2.0",
            "_view_count": null,
            "flex_flow": null,
            "width": null,
            "min_width": null,
            "border": null,
            "align_items": null,
            "bottom": null,
            "_model_module": "@jupyter-widgets/base",
            "top": null,
            "grid_column": null,
            "overflow_y": null,
            "overflow_x": null,
            "grid_auto_flow": null,
            "grid_area": null,
            "grid_template_columns": null,
            "flex": null,
            "_model_name": "LayoutModel",
            "justify_items": null,
            "grid_row": null,
            "max_height": null,
            "align_content": null,
            "visibility": null,
            "align_self": null,
            "height": null,
            "min_height": null,
            "padding": null,
            "grid_auto_rows": null,
            "grid_gap": null,
            "max_width": null,
            "order": null,
            "_view_module_version": "1.2.0",
            "grid_template_areas": null,
            "object_position": null,
            "object_fit": null,
            "grid_auto_columns": null,
            "margin": null,
            "display": null,
            "left": null
          }
        },
        "d79d721d311e4163b1b9bc78687d3e37": {
          "model_module": "@jupyter-widgets/controls",
          "model_name": "HTMLModel",
          "model_module_version": "1.5.0",
          "state": {
            "_view_name": "HTMLView",
            "style": "IPY_MODEL_1fbc0bdda11e474688e7583b324de642",
            "_dom_classes": [],
            "description": "",
            "_model_name": "HTMLModel",
            "placeholder": "​",
            "_view_module": "@jupyter-widgets/controls",
            "_model_module_version": "1.5.0",
            "value": "Downloading: ",
            "_view_count": null,
            "_view_module_version": "1.5.0",
            "description_tooltip": null,
            "_model_module": "@jupyter-widgets/controls",
            "layout": "IPY_MODEL_b5956f3c2e6444538606f5804df1a934"
          }
        },
        "a17989f8a34c4e04b7e58ec51c935940": {
          "model_module": "@jupyter-widgets/controls",
          "model_name": "FloatProgressModel",
          "model_module_version": "1.5.0",
          "state": {
            "_view_name": "ProgressView",
            "style": "IPY_MODEL_43dce1f4b34a4224ac633687fbd6b1a2",
            "_dom_classes": [],
            "description": "",
            "_model_name": "FloatProgressModel",
            "bar_style": "success",
            "max": 1947,
            "_view_module": "@jupyter-widgets/controls",
            "_model_module_version": "1.5.0",
            "value": 1947,
            "_view_count": null,
            "_view_module_version": "1.5.0",
            "orientation": "horizontal",
            "min": 0,
            "description_tooltip": null,
            "_model_module": "@jupyter-widgets/controls",
            "layout": "IPY_MODEL_23f79c63cfa541f79406a06fe7a55acc"
          }
        },
        "f57f44e9807144c8b49144641d79a7f9": {
          "model_module": "@jupyter-widgets/controls",
          "model_name": "HTMLModel",
          "model_module_version": "1.5.0",
          "state": {
            "_view_name": "HTMLView",
            "style": "IPY_MODEL_1c838f8595834fae928c4a09bf1ea34d",
            "_dom_classes": [],
            "description": "",
            "_model_name": "HTMLModel",
            "placeholder": "​",
            "_view_module": "@jupyter-widgets/controls",
            "_model_module_version": "1.5.0",
            "value": " 4.55k/? [00:00&lt;00:00, 122kB/s]",
            "_view_count": null,
            "_view_module_version": "1.5.0",
            "description_tooltip": null,
            "_model_module": "@jupyter-widgets/controls",
            "layout": "IPY_MODEL_b03cec7e9b7d4728a89b78b870ab907f"
          }
        },
        "1fbc0bdda11e474688e7583b324de642": {
          "model_module": "@jupyter-widgets/controls",
          "model_name": "DescriptionStyleModel",
          "model_module_version": "1.5.0",
          "state": {
            "_view_name": "StyleView",
            "_model_name": "DescriptionStyleModel",
            "description_width": "",
            "_view_module": "@jupyter-widgets/base",
            "_model_module_version": "1.5.0",
            "_view_count": null,
            "_view_module_version": "1.2.0",
            "_model_module": "@jupyter-widgets/controls"
          }
        },
        "b5956f3c2e6444538606f5804df1a934": {
          "model_module": "@jupyter-widgets/base",
          "model_name": "LayoutModel",
          "model_module_version": "1.2.0",
          "state": {
            "_view_name": "LayoutView",
            "grid_template_rows": null,
            "right": null,
            "justify_content": null,
            "_view_module": "@jupyter-widgets/base",
            "overflow": null,
            "_model_module_version": "1.2.0",
            "_view_count": null,
            "flex_flow": null,
            "width": null,
            "min_width": null,
            "border": null,
            "align_items": null,
            "bottom": null,
            "_model_module": "@jupyter-widgets/base",
            "top": null,
            "grid_column": null,
            "overflow_y": null,
            "overflow_x": null,
            "grid_auto_flow": null,
            "grid_area": null,
            "grid_template_columns": null,
            "flex": null,
            "_model_name": "LayoutModel",
            "justify_items": null,
            "grid_row": null,
            "max_height": null,
            "align_content": null,
            "visibility": null,
            "align_self": null,
            "height": null,
            "min_height": null,
            "padding": null,
            "grid_auto_rows": null,
            "grid_gap": null,
            "max_width": null,
            "order": null,
            "_view_module_version": "1.2.0",
            "grid_template_areas": null,
            "object_position": null,
            "object_fit": null,
            "grid_auto_columns": null,
            "margin": null,
            "display": null,
            "left": null
          }
        },
        "43dce1f4b34a4224ac633687fbd6b1a2": {
          "model_module": "@jupyter-widgets/controls",
          "model_name": "ProgressStyleModel",
          "model_module_version": "1.5.0",
          "state": {
            "_view_name": "StyleView",
            "_model_name": "ProgressStyleModel",
            "description_width": "",
            "_view_module": "@jupyter-widgets/base",
            "_model_module_version": "1.5.0",
            "_view_count": null,
            "_view_module_version": "1.2.0",
            "bar_color": null,
            "_model_module": "@jupyter-widgets/controls"
          }
        },
        "23f79c63cfa541f79406a06fe7a55acc": {
          "model_module": "@jupyter-widgets/base",
          "model_name": "LayoutModel",
          "model_module_version": "1.2.0",
          "state": {
            "_view_name": "LayoutView",
            "grid_template_rows": null,
            "right": null,
            "justify_content": null,
            "_view_module": "@jupyter-widgets/base",
            "overflow": null,
            "_model_module_version": "1.2.0",
            "_view_count": null,
            "flex_flow": null,
            "width": null,
            "min_width": null,
            "border": null,
            "align_items": null,
            "bottom": null,
            "_model_module": "@jupyter-widgets/base",
            "top": null,
            "grid_column": null,
            "overflow_y": null,
            "overflow_x": null,
            "grid_auto_flow": null,
            "grid_area": null,
            "grid_template_columns": null,
            "flex": null,
            "_model_name": "LayoutModel",
            "justify_items": null,
            "grid_row": null,
            "max_height": null,
            "align_content": null,
            "visibility": null,
            "align_self": null,
            "height": null,
            "min_height": null,
            "padding": null,
            "grid_auto_rows": null,
            "grid_gap": null,
            "max_width": null,
            "order": null,
            "_view_module_version": "1.2.0",
            "grid_template_areas": null,
            "object_position": null,
            "object_fit": null,
            "grid_auto_columns": null,
            "margin": null,
            "display": null,
            "left": null
          }
        },
        "1c838f8595834fae928c4a09bf1ea34d": {
          "model_module": "@jupyter-widgets/controls",
          "model_name": "DescriptionStyleModel",
          "model_module_version": "1.5.0",
          "state": {
            "_view_name": "StyleView",
            "_model_name": "DescriptionStyleModel",
            "description_width": "",
            "_view_module": "@jupyter-widgets/base",
            "_model_module_version": "1.5.0",
            "_view_count": null,
            "_view_module_version": "1.2.0",
            "_model_module": "@jupyter-widgets/controls"
          }
        },
        "b03cec7e9b7d4728a89b78b870ab907f": {
          "model_module": "@jupyter-widgets/base",
          "model_name": "LayoutModel",
          "model_module_version": "1.2.0",
          "state": {
            "_view_name": "LayoutView",
            "grid_template_rows": null,
            "right": null,
            "justify_content": null,
            "_view_module": "@jupyter-widgets/base",
            "overflow": null,
            "_model_module_version": "1.2.0",
            "_view_count": null,
            "flex_flow": null,
            "width": null,
            "min_width": null,
            "border": null,
            "align_items": null,
            "bottom": null,
            "_model_module": "@jupyter-widgets/base",
            "top": null,
            "grid_column": null,
            "overflow_y": null,
            "overflow_x": null,
            "grid_auto_flow": null,
            "grid_area": null,
            "grid_template_columns": null,
            "flex": null,
            "_model_name": "LayoutModel",
            "justify_items": null,
            "grid_row": null,
            "max_height": null,
            "align_content": null,
            "visibility": null,
            "align_self": null,
            "height": null,
            "min_height": null,
            "padding": null,
            "grid_auto_rows": null,
            "grid_gap": null,
            "max_width": null,
            "order": null,
            "_view_module_version": "1.2.0",
            "grid_template_areas": null,
            "object_position": null,
            "object_fit": null,
            "grid_auto_columns": null,
            "margin": null,
            "display": null,
            "left": null
          }
        },
        "ff93a653e150409398c25d4520338d09": {
          "model_module": "@jupyter-widgets/controls",
          "model_name": "HBoxModel",
          "model_module_version": "1.5.0",
          "state": {
            "_view_name": "HBoxView",
            "_dom_classes": [],
            "_model_name": "HBoxModel",
            "_view_module": "@jupyter-widgets/controls",
            "_model_module_version": "1.5.0",
            "_view_count": null,
            "_view_module_version": "1.5.0",
            "box_style": "",
            "layout": "IPY_MODEL_b03bc76b3c6a422db0dafd36d363398d",
            "_model_module": "@jupyter-widgets/controls",
            "children": [
              "IPY_MODEL_4e301a18f6db47ea832313a670231b90",
              "IPY_MODEL_b005b80927d1455fa0d6bd2f4719a3b6",
              "IPY_MODEL_60dad90b86104720b90084cfe7738913"
            ]
          }
        },
        "b03bc76b3c6a422db0dafd36d363398d": {
          "model_module": "@jupyter-widgets/base",
          "model_name": "LayoutModel",
          "model_module_version": "1.2.0",
          "state": {
            "_view_name": "LayoutView",
            "grid_template_rows": null,
            "right": null,
            "justify_content": null,
            "_view_module": "@jupyter-widgets/base",
            "overflow": null,
            "_model_module_version": "1.2.0",
            "_view_count": null,
            "flex_flow": null,
            "width": null,
            "min_width": null,
            "border": null,
            "align_items": null,
            "bottom": null,
            "_model_module": "@jupyter-widgets/base",
            "top": null,
            "grid_column": null,
            "overflow_y": null,
            "overflow_x": null,
            "grid_auto_flow": null,
            "grid_area": null,
            "grid_template_columns": null,
            "flex": null,
            "_model_name": "LayoutModel",
            "justify_items": null,
            "grid_row": null,
            "max_height": null,
            "align_content": null,
            "visibility": null,
            "align_self": null,
            "height": null,
            "min_height": null,
            "padding": null,
            "grid_auto_rows": null,
            "grid_gap": null,
            "max_width": null,
            "order": null,
            "_view_module_version": "1.2.0",
            "grid_template_areas": null,
            "object_position": null,
            "object_fit": null,
            "grid_auto_columns": null,
            "margin": null,
            "display": null,
            "left": null
          }
        },
        "4e301a18f6db47ea832313a670231b90": {
          "model_module": "@jupyter-widgets/controls",
          "model_name": "HTMLModel",
          "model_module_version": "1.5.0",
          "state": {
            "_view_name": "HTMLView",
            "style": "IPY_MODEL_b91c547e29ed46389c2ce4d54443bb7e",
            "_dom_classes": [],
            "description": "",
            "_model_name": "HTMLModel",
            "placeholder": "​",
            "_view_module": "@jupyter-widgets/controls",
            "_model_module_version": "1.5.0",
            "value": "Downloading: 100%",
            "_view_count": null,
            "_view_module_version": "1.5.0",
            "description_tooltip": null,
            "_model_module": "@jupyter-widgets/controls",
            "layout": "IPY_MODEL_c344f38a91c747b1a4c116fbefc4f6fa"
          }
        },
        "b005b80927d1455fa0d6bd2f4719a3b6": {
          "model_module": "@jupyter-widgets/controls",
          "model_name": "FloatProgressModel",
          "model_module_version": "1.5.0",
          "state": {
            "_view_name": "ProgressView",
            "style": "IPY_MODEL_b4a06f24fae347f08df36a14a130d732",
            "_dom_classes": [],
            "description": "",
            "_model_name": "FloatProgressModel",
            "bar_style": "success",
            "max": 1271916758,
            "_view_module": "@jupyter-widgets/controls",
            "_model_module_version": "1.5.0",
            "value": 1271916758,
            "_view_count": null,
            "_view_module_version": "1.5.0",
            "orientation": "horizontal",
            "min": 0,
            "description_tooltip": null,
            "_model_module": "@jupyter-widgets/controls",
            "layout": "IPY_MODEL_5c2c333964684f6a85c8c6a378646f59"
          }
        },
        "60dad90b86104720b90084cfe7738913": {
          "model_module": "@jupyter-widgets/controls",
          "model_name": "HTMLModel",
          "model_module_version": "1.5.0",
          "state": {
            "_view_name": "HTMLView",
            "style": "IPY_MODEL_6bcd659f056847fbbc37f4a0e07a6007",
            "_dom_classes": [],
            "description": "",
            "_model_name": "HTMLModel",
            "placeholder": "​",
            "_view_module": "@jupyter-widgets/controls",
            "_model_module_version": "1.5.0",
            "value": " 1.18G/1.18G [00:56&lt;00:00, 24.0MB/s]",
            "_view_count": null,
            "_view_module_version": "1.5.0",
            "description_tooltip": null,
            "_model_module": "@jupyter-widgets/controls",
            "layout": "IPY_MODEL_5f6ca7e780034803b96e2d652b3e6dca"
          }
        },
        "b91c547e29ed46389c2ce4d54443bb7e": {
          "model_module": "@jupyter-widgets/controls",
          "model_name": "DescriptionStyleModel",
          "model_module_version": "1.5.0",
          "state": {
            "_view_name": "StyleView",
            "_model_name": "DescriptionStyleModel",
            "description_width": "",
            "_view_module": "@jupyter-widgets/base",
            "_model_module_version": "1.5.0",
            "_view_count": null,
            "_view_module_version": "1.2.0",
            "_model_module": "@jupyter-widgets/controls"
          }
        },
        "c344f38a91c747b1a4c116fbefc4f6fa": {
          "model_module": "@jupyter-widgets/base",
          "model_name": "LayoutModel",
          "model_module_version": "1.2.0",
          "state": {
            "_view_name": "LayoutView",
            "grid_template_rows": null,
            "right": null,
            "justify_content": null,
            "_view_module": "@jupyter-widgets/base",
            "overflow": null,
            "_model_module_version": "1.2.0",
            "_view_count": null,
            "flex_flow": null,
            "width": null,
            "min_width": null,
            "border": null,
            "align_items": null,
            "bottom": null,
            "_model_module": "@jupyter-widgets/base",
            "top": null,
            "grid_column": null,
            "overflow_y": null,
            "overflow_x": null,
            "grid_auto_flow": null,
            "grid_area": null,
            "grid_template_columns": null,
            "flex": null,
            "_model_name": "LayoutModel",
            "justify_items": null,
            "grid_row": null,
            "max_height": null,
            "align_content": null,
            "visibility": null,
            "align_self": null,
            "height": null,
            "min_height": null,
            "padding": null,
            "grid_auto_rows": null,
            "grid_gap": null,
            "max_width": null,
            "order": null,
            "_view_module_version": "1.2.0",
            "grid_template_areas": null,
            "object_position": null,
            "object_fit": null,
            "grid_auto_columns": null,
            "margin": null,
            "display": null,
            "left": null
          }
        },
        "b4a06f24fae347f08df36a14a130d732": {
          "model_module": "@jupyter-widgets/controls",
          "model_name": "ProgressStyleModel",
          "model_module_version": "1.5.0",
          "state": {
            "_view_name": "StyleView",
            "_model_name": "ProgressStyleModel",
            "description_width": "",
            "_view_module": "@jupyter-widgets/base",
            "_model_module_version": "1.5.0",
            "_view_count": null,
            "_view_module_version": "1.2.0",
            "bar_color": null,
            "_model_module": "@jupyter-widgets/controls"
          }
        },
        "5c2c333964684f6a85c8c6a378646f59": {
          "model_module": "@jupyter-widgets/base",
          "model_name": "LayoutModel",
          "model_module_version": "1.2.0",
          "state": {
            "_view_name": "LayoutView",
            "grid_template_rows": null,
            "right": null,
            "justify_content": null,
            "_view_module": "@jupyter-widgets/base",
            "overflow": null,
            "_model_module_version": "1.2.0",
            "_view_count": null,
            "flex_flow": null,
            "width": null,
            "min_width": null,
            "border": null,
            "align_items": null,
            "bottom": null,
            "_model_module": "@jupyter-widgets/base",
            "top": null,
            "grid_column": null,
            "overflow_y": null,
            "overflow_x": null,
            "grid_auto_flow": null,
            "grid_area": null,
            "grid_template_columns": null,
            "flex": null,
            "_model_name": "LayoutModel",
            "justify_items": null,
            "grid_row": null,
            "max_height": null,
            "align_content": null,
            "visibility": null,
            "align_self": null,
            "height": null,
            "min_height": null,
            "padding": null,
            "grid_auto_rows": null,
            "grid_gap": null,
            "max_width": null,
            "order": null,
            "_view_module_version": "1.2.0",
            "grid_template_areas": null,
            "object_position": null,
            "object_fit": null,
            "grid_auto_columns": null,
            "margin": null,
            "display": null,
            "left": null
          }
        },
        "6bcd659f056847fbbc37f4a0e07a6007": {
          "model_module": "@jupyter-widgets/controls",
          "model_name": "DescriptionStyleModel",
          "model_module_version": "1.5.0",
          "state": {
            "_view_name": "StyleView",
            "_model_name": "DescriptionStyleModel",
            "description_width": "",
            "_view_module": "@jupyter-widgets/base",
            "_model_module_version": "1.5.0",
            "_view_count": null,
            "_view_module_version": "1.2.0",
            "_model_module": "@jupyter-widgets/controls"
          }
        },
        "5f6ca7e780034803b96e2d652b3e6dca": {
          "model_module": "@jupyter-widgets/base",
          "model_name": "LayoutModel",
          "model_module_version": "1.2.0",
          "state": {
            "_view_name": "LayoutView",
            "grid_template_rows": null,
            "right": null,
            "justify_content": null,
            "_view_module": "@jupyter-widgets/base",
            "overflow": null,
            "_model_module_version": "1.2.0",
            "_view_count": null,
            "flex_flow": null,
            "width": null,
            "min_width": null,
            "border": null,
            "align_items": null,
            "bottom": null,
            "_model_module": "@jupyter-widgets/base",
            "top": null,
            "grid_column": null,
            "overflow_y": null,
            "overflow_x": null,
            "grid_auto_flow": null,
            "grid_area": null,
            "grid_template_columns": null,
            "flex": null,
            "_model_name": "LayoutModel",
            "justify_items": null,
            "grid_row": null,
            "max_height": null,
            "align_content": null,
            "visibility": null,
            "align_self": null,
            "height": null,
            "min_height": null,
            "padding": null,
            "grid_auto_rows": null,
            "grid_gap": null,
            "max_width": null,
            "order": null,
            "_view_module_version": "1.2.0",
            "grid_template_areas": null,
            "object_position": null,
            "object_fit": null,
            "grid_auto_columns": null,
            "margin": null,
            "display": null,
            "left": null
          }
        }
      }
    },
    "accelerator": "GPU"
  },
  "cells": [
    {
      "cell_type": "markdown",
      "metadata": {
        "id": "view-in-github",
        "colab_type": "text"
      },
      "source": [
        "<a href=\"https://colab.research.google.com/github/huggingface/notebooks/blob/add_xlsr_wav2vec2/examples/multi_lingual_speech_recognition.ipynb\" target=\"_parent\"><img src=\"https://colab.research.google.com/assets/colab-badge.svg\" alt=\"Open In Colab\"/></a>"
      ]
    },
    {
      "cell_type": "markdown",
      "metadata": {
        "id": "LBSYoWbi-45k"
      },
      "source": [
        "# **Fine-tuning Multi-Lingual Speech Model with 🤗 Transformers**"
      ]
    },
    {
      "cell_type": "markdown",
      "metadata": {
        "id": "nT_QrfWtsxIz"
      },
      "source": [
        "This notebook shows how to fine-tune multi-lingual pretrained speech models for Automatic Speech Recognition."
      ]
    },
    {
      "cell_type": "markdown",
      "metadata": {
        "id": "OK7AOAkwVOrx"
      },
      "source": [
        "This notebook is built to run on the [Common Voice dataset](https://huggingface.co/datasets/common_voice) with any multi-lingual speech model checkpoint from the [Model Hub](https://huggingface.co/models?language=multilingual&pipeline_tag=automatic-speech-recognition&sort=downloads) as long as that model has a version with a Connectionist Temporal Classification (CTC) head. Depending on the model and the GPU you are using, you might need to adjust the batch size to avoid out-of-memory errors. Set those two parameters, then the rest of the notebook should run smoothly:"
      ]
    },
    {
      "cell_type": "code",
      "metadata": {
        "id": "fw_GGnvwVjOl"
      },
      "source": [
        "model_checkpoint = \"facebook/wav2vec2-large-xlsr-53\"\n",
        "batch_size = 16"
      ],
      "execution_count": 1,
      "outputs": []
    },
    {
      "cell_type": "markdown",
      "metadata": {
        "id": "ZUUqzyKnVpvc"
      },
      "source": [
        "For a more in-detail explanation of how multi-lingual pretrained speech models function, please take a look at the [🤗 Blog](https://huggingface.co/blog/fine-tune-xlsr-wav2vec2)."
      ]
    },
    {
      "cell_type": "markdown",
      "metadata": {
        "id": "e335hPmdtASZ"
      },
      "source": [
        "Before we start, let's install both `datasets` and `transformers` from master. Also, we need the `torchaudio` and `librosa` package to load audio files and the `jiwer` to evaluate our fine-tuned model using the [word error rate (WER)](https://huggingface.co/metrics/wer) metric ${}^1$."
      ]
    },
    {
      "cell_type": "code",
      "metadata": {
        "id": "c8eh87Hoee5d"
      },
      "source": [
        "%%capture\n",
        "!pip install datasets==1.14\n",
        "!pip install transformers==4.11.3\n",
        "!pip install torchaudio\n",
        "!pip install librosa\n",
        "!pip install jiwer"
      ],
      "execution_count": 2,
      "outputs": []
    },
    {
      "cell_type": "markdown",
      "metadata": {
        "id": "0xxt_LwxDQlO"
      },
      "source": [
        "Next we strongly suggest to upload your training checkpoints directly to the [🤗 Hub](https://huggingface.co/) while training. The [🤗 Hub](https://huggingface.co/) has integrated version control so you can be sure that no model checkpoint is getting lost during training. \n",
        "\n",
        "To do so you have to store your authentication token from the Hugging Face website (sign up [here](https://huggingface.co/join) if you haven't already!)"
      ]
    },
    {
      "cell_type": "code",
      "metadata": {
        "colab": {
          "base_uri": "https://localhost:8080/",
          "height": 239,
          "referenced_widgets": [
            "c7651ea22ebd4b8899e733243cbbd87a",
            "a3ce3dd062834fdf98f01e900858606f",
            "36729a46c0804d5ab25ffaa0045b222e",
            "d285af05acf74db58d0fe1d0a76ecb01",
            "44a1776ca1bb425eae6202f076e0ce7e",
            "ec951bebcb7a4829aacab763c4e68f5e",
            "3aff1403c61b47a89f67e60c4096919e",
            "39b8d523227a4b6fa16dd53d5a0111de",
            "4153370184644df1b01eccaebc5b5bd3",
            "de2735960a9949c2b98d52e45785be95",
            "e1340f7521f24dd5b0bb8d00824e2f93",
            "8f72e050a1e94011939175fcc66ce5af",
            "0fd7b10e00c241729bf7f7efcd8f6642",
            "ee89d76afd224ebea8f1a638fd3f643b",
            "4e44134fd122408992b5d299ff076a0d",
            "24d6ef02d79849ea8194d72684b16d9d"
          ]
        },
        "id": "mlMSH3T3EazV",
        "outputId": "ca66a462-e2e7-4dd5-9656-8768d4d318c8"
      },
      "source": [
        "from huggingface_hub import notebook_login\n",
        "\n",
        "notebook_login()"
      ],
      "execution_count": 4,
      "outputs": [
        {
          "output_type": "stream",
          "name": "stdout",
          "text": [
            "Login successful\n",
            "Your token has been saved to /root/.huggingface/token\n",
            "\u001b[1m\u001b[31mAuthenticated through git-crendential store but this isn't the helper defined on your machine.\n",
            "You will have to re-authenticate when pushing to the Hugging Face Hub. Run the following command in your terminal to set it as the default\n",
            "\n",
            "git config --global credential.helper store\u001b[0m\n"
          ]
        }
      ]
    },
    {
      "cell_type": "markdown",
      "metadata": {
        "id": "ujdZ2TxhElk6"
      },
      "source": [
        "\n",
        "Then you need to install Git-LFS to upload your model checkpoints:"
      ]
    },
    {
      "cell_type": "code",
      "metadata": {
        "id": "WcR-d83OEkqb"
      },
      "source": [
        "%%capture\n",
        "!apt install git-lfs"
      ],
      "execution_count": 5,
      "outputs": []
    },
    {
      "cell_type": "markdown",
      "metadata": {
        "id": "Mn9swf6EQ9Vd"
      },
      "source": [
        "\n",
        "\n",
        "\n",
        "---\n",
        "\n",
        "${}^1$ In the [paper](https://arxiv.org/pdf/2006.13979.pdf), the model was evaluated using the phoneme error rate (PER), but by far the most common metric in ASR is the word error rate (WER). To keep this notebook as general as possible we decided to evaluate the model using WER."
      ]
    },
    {
      "cell_type": "markdown",
      "metadata": {
        "id": "0mW-C1Nt-j7k"
      },
      "source": [
        "## Prepare Data, Tokenizer, Feature Extractor"
      ]
    },
    {
      "cell_type": "markdown",
      "metadata": {
        "id": "BeBosnY9BH3e"
      },
      "source": [
        "ASR models transcribe speech to text, which means that we both need a feature extractor that processes the speech signal to the model's input format, *e.g.* a feature vector, and a tokenizer that processes the model's output format to text. \n",
        "\n",
        "In 🤗 Transformers, speech recognition models are thus accompanied by both a tokenizer, and a feature extractor.\n",
        "\n",
        "Let's start by creating the tokenizer responsible for decoding the model's predictions."
      ]
    },
    {
      "cell_type": "markdown",
      "metadata": {
        "id": "sEXEWEJGQPqD"
      },
      "source": [
        "### Create Tokenizer for Speech Recognition"
      ]
    },
    {
      "cell_type": "markdown",
      "metadata": {
        "id": "idBczw8mWzgt"
      },
      "source": [
        "First, let's go to [Common Voice](https://commonvoice.mozilla.org/en/datasets) and pick a language to fine-tune XLSR-Wav2Vec2 on. For this notebook, we will use Turkish. \n",
        "\n",
        "For each language-specific dataset, you can find a language code corresponding to your chosen language. On [Common Voice](https://commonvoice.mozilla.org/en/datasets), look for the field \"Version\". The language code then corresponds to the prefix before the underscore. For Turkish, *e.g.* the language code is `\"tr\"`.\n",
        "\n",
        "Great, now we can use 🤗 Datasets' simple API to download the data. The dataset name will be `\"common_voice\"`, the config name corresponds to the language code - `\"tr\"` in our case."
      ]
    },
    {
      "cell_type": "markdown",
      "metadata": {
        "id": "bee4g9rpLxll"
      },
      "source": [
        "Common Voice has many different splits including `invalidated`, which refers to data that was not rated as \"clean enough\" to be considered useful. In this notebook, we will only make use of the splits `\"train\"`, `\"validation\"` and `\"test\"`. \n",
        "\n",
        "Because the Turkish dataset is so small, we will merge both the validation and training data into a training dataset and simply use the test data for validation."
      ]
    },
    {
      "cell_type": "code",
      "metadata": {
        "id": "2MMXcWFFgCXU",
        "colab": {
          "base_uri": "https://localhost:8080/",
          "height": 71,
          "referenced_widgets": [
            "db3e59f74f40437e8175d4dbcea83640",
            "fd2b07da65d446b49f46e54b166a462d",
            "3107cec7b4ec4c9980a4633ad6bccb21",
            "56cc29e545664e1a8e025b5c2aa06243",
            "146f7bea18bb40d5ba8c3964370838ef",
            "2a843b3afc4d4168a58423798206dede",
            "56f7916a591d48b2b9b208b7e0c68195",
            "aabf8c4d6da949efb21341d36c13d8fc",
            "ccd9a055d0cc4a6597dc8a031b0441f3",
            "f8a6c04035184359b9e909d469eb452b",
            "80e7a03ffb4d4d5485473e7ca135e957",
            "54e9f789ca724c47a7b40269c0eb18a6",
            "3be53e5b0d43414ea4c2a5bdfc5593d0",
            "bbfc5e2cba5d4373a7ea205c37b6d884",
            "1280c800ca4048f79c9f12fa7773a3cf",
            "fa09341528834bfbb32994e80f93b1ea",
            "7bd0f04b0f024f8a961e43ee4bc49740",
            "6ce10692950447d5ae17683f37cfcf19",
            "c18603d69e304fada4a0e43e6fad8fe4",
            "8357470985f94bdda76c8b26c9470420",
            "424a06a45102486eb00aeaf875c5b725",
            "6a1521b0eb7d4420844b7b98ad77e823",
            "d93e8b67889947348efe9a269d79401c",
            "c7c7f6ea740446e0925625a19f62bae7",
            "f5a3c24f6e56429a9fb6ce4bb52b16d4",
            "686ced9df8e34d8096adef344ad1a851",
            "8f857f7409654aac9bd7bcfb9e614f98",
            "d32abc38cccc4761b12c08603011424d",
            "2e14b323b6254d3fbd04bdcf4be80511",
            "6e0e320d5dc04a4c9643a22777ee2176",
            "f151e0759d594e5bb74360664e708eab",
            "20ac29ce2e3a4bd7867bab1287e5de63",
            "5483ff5a6a3e4ee6b88722c9f261fbe4",
            "cf24a36ed31a4bc89312cb81b8581cb9",
            "854c196fc7064ad7b3bd4fcc699a9789",
            "d1b27b874c8b4208b822b718327590f8",
            "1108de17d7b74da3ba4d9bdadaec898d",
            "fb5af0db24824d35beef703e5d195c80",
            "460ac9f036514c448e55f9f51b1d163c",
            "bc2f221030e345839ab38cefea31c9b3",
            "fb766d08efef4c209e21f790bbd161d3",
            "bee6dd1d13604295a972c287c1ed5b86",
            "66c6ca817a6f4b76a4a6c4a62f706281",
            "1fac41e8479c42309fa1adf411bf1782",
            "c2369a65dec74e37a4ac2adb8bb1d241",
            "feb8d209a6ca44d197f7c6a258373e64",
            "24e16f21caf141af80d876812e6c4c8e",
            "96c36f655d9a4a4e96975120f0024339",
            "0c43c921201f4c7885ef7b5e1a3137b7",
            "770b8dc7ae1742faafa9c1bb7464ef8e",
            "dc32d6186c57400d804f1043001adcf8",
            "0d0451125a4d4aed8c7405f2970d8081",
            "8ffcdfb690dc4e4dbf615ca58fecc27f",
            "b49c3f2767954300b66b294049445a92",
            "659a899ca8134c658a0afa1954f3cb94"
          ]
        },
        "outputId": "2a6aabd9-84ba-49d3-d7c8-8d4487469409"
      },
      "source": [
        "from datasets import load_dataset, load_metric, Audio\n",
        "\n",
        "common_voice_train = load_dataset(\"common_voice\", \"tr\", split=\"train+validation\")\n",
        "common_voice_test = load_dataset(\"common_voice\", \"tr\", split=\"test\")"
      ],
      "execution_count": 3,
      "outputs": [
        {
          "output_type": "stream",
          "name": "stdout",
          "text": [
            "Downloading and preparing dataset common_voice/tr (download: 592.09 MiB, generated: 2.89 MiB, post-processed: Unknown size, total: 594.98 MiB) to /root/.cache/huggingface/datasets/common_voice/tr/6.1.0/f7a9d973839b7706e9e281c19b7e512f31badf3c0fdbd21c671f3c4bf9acf3b9...\n"
          ]
        },
        {
          "output_type": "display_data",
          "data": {
            "application/vnd.jupyter.widget-view+json": {
              "model_id": "db3e59f74f40437e8175d4dbcea83640",
              "version_minor": 0,
              "version_major": 2
            },
            "text/plain": [
              "0 examples [00:00, ? examples/s]"
            ]
          },
          "metadata": {}
        },
        {
          "output_type": "display_data",
          "data": {
            "application/vnd.jupyter.widget-view+json": {
              "model_id": "54e9f789ca724c47a7b40269c0eb18a6",
              "version_minor": 0,
              "version_major": 2
            },
            "text/plain": [
              "0 examples [00:00, ? examples/s]"
            ]
          },
          "metadata": {}
        },
        {
          "output_type": "display_data",
          "data": {
            "application/vnd.jupyter.widget-view+json": {
              "model_id": "d93e8b67889947348efe9a269d79401c",
              "version_minor": 0,
              "version_major": 2
            },
            "text/plain": [
              "0 examples [00:00, ? examples/s]"
            ]
          },
          "metadata": {}
        },
        {
          "output_type": "display_data",
          "data": {
            "application/vnd.jupyter.widget-view+json": {
              "model_id": "cf24a36ed31a4bc89312cb81b8581cb9",
              "version_minor": 0,
              "version_major": 2
            },
            "text/plain": [
              "0 examples [00:00, ? examples/s]"
            ]
          },
          "metadata": {}
        },
        {
          "output_type": "display_data",
          "data": {
            "application/vnd.jupyter.widget-view+json": {
              "model_id": "c2369a65dec74e37a4ac2adb8bb1d241",
              "version_minor": 0,
              "version_major": 2
            },
            "text/plain": [
              "0 examples [00:00, ? examples/s]"
            ]
          },
          "metadata": {}
        },
        {
          "output_type": "stream",
          "name": "stdout",
          "text": [
            "Dataset common_voice downloaded and prepared to /root/.cache/huggingface/datasets/common_voice/tr/6.1.0/f7a9d973839b7706e9e281c19b7e512f31badf3c0fdbd21c671f3c4bf9acf3b9. Subsequent calls will reuse this data.\n"
          ]
        },
        {
          "output_type": "stream",
          "name": "stderr",
          "text": [
            "Reusing dataset common_voice (/root/.cache/huggingface/datasets/common_voice/tr/6.1.0/f7a9d973839b7706e9e281c19b7e512f31badf3c0fdbd21c671f3c4bf9acf3b9)\n"
          ]
        }
      ]
    },
    {
      "cell_type": "markdown",
      "metadata": {
        "id": "ri5y5N_HMANq"
      },
      "source": [
        "Many ASR datasets only provide the target text, `'sentence'` for each audio array `'audio'` and file `'path'`. Common Voice actually provides much more information about each audio file, such as the `'accent'`, etc. However, we want to keep the notebook as general as possible, so that we will only consider the transcribed text for fine-tuning.\n",
        "\n"
      ]
    },
    {
      "cell_type": "code",
      "metadata": {
        "id": "kbyq6lDgQc2a"
      },
      "source": [
        "common_voice_train = common_voice_train.remove_columns([\"accent\", \"age\", \"client_id\", \"down_votes\", \"gender\", \"locale\", \"segment\", \"up_votes\"])\n",
        "common_voice_test = common_voice_test.remove_columns([\"accent\", \"age\", \"client_id\", \"down_votes\", \"gender\", \"locale\", \"segment\", \"up_votes\"])"
      ],
      "execution_count": 6,
      "outputs": []
    },
    {
      "cell_type": "markdown",
      "metadata": {
        "id": "Go9Hq4e4NDT9"
      },
      "source": [
        "Let's write a short function to display some random samples of the dataset and run it a couple of times to get a feeling for the transcriptions."
      ]
    },
    {
      "cell_type": "code",
      "metadata": {
        "id": "72737oog2F6U"
      },
      "source": [
        "from datasets import ClassLabel\n",
        "import random\n",
        "import pandas as pd\n",
        "from IPython.display import display, HTML\n",
        "\n",
        "def show_random_elements(dataset, num_examples=10):\n",
        "    assert num_examples <= len(dataset), \"Can't pick more elements than there are in the dataset.\"\n",
        "    picks = []\n",
        "    for _ in range(num_examples):\n",
        "        pick = random.randint(0, len(dataset)-1)\n",
        "        while pick in picks:\n",
        "            pick = random.randint(0, len(dataset)-1)\n",
        "        picks.append(pick)\n",
        "    \n",
        "    df = pd.DataFrame(dataset[picks])\n",
        "    display(HTML(df.to_html()))"
      ],
      "execution_count": 7,
      "outputs": []
    },
    {
      "cell_type": "code",
      "metadata": {
        "colab": {
          "base_uri": "https://localhost:8080/",
          "height": 359
        },
        "id": "K_JUmf3G3b9S",
        "outputId": "6c5372d2-f5bf-435a-c71d-9015090cbdac"
      },
      "source": [
        "show_random_elements(common_voice_train.remove_columns([\"path\", \"audio\"]), num_examples=10)"
      ],
      "execution_count": 8,
      "outputs": [
        {
          "output_type": "display_data",
          "data": {
            "text/html": [
              "<table border=\"1\" class=\"dataframe\">\n",
              "  <thead>\n",
              "    <tr style=\"text-align: right;\">\n",
              "      <th></th>\n",
              "      <th>sentence</th>\n",
              "    </tr>\n",
              "  </thead>\n",
              "  <tbody>\n",
              "    <tr>\n",
              "      <th>0</th>\n",
              "      <td>Sergi bu ayın sonuna kadar devam edecek.</td>\n",
              "    </tr>\n",
              "    <tr>\n",
              "      <th>1</th>\n",
              "      <td>Parti son seçimlerde parlamentoya girememişti.</td>\n",
              "    </tr>\n",
              "    <tr>\n",
              "      <th>2</th>\n",
              "      <td>\"Anlaşmanın otuz bir Ekim'de kesinleşmesi bekleniyor.\"</td>\n",
              "    </tr>\n",
              "    <tr>\n",
              "      <th>3</th>\n",
              "      <td>Ancak bu iş şu ana kadar hiç de kolay gorunmuyor.</td>\n",
              "    </tr>\n",
              "    <tr>\n",
              "      <th>4</th>\n",
              "      <td>Her ikisi de bin dokuz yüz doksan altıdan beri saklanıyor.</td>\n",
              "    </tr>\n",
              "    <tr>\n",
              "      <th>5</th>\n",
              "      <td>Bu bakımdan Kosova ile kıyaslanamaz.</td>\n",
              "    </tr>\n",
              "    <tr>\n",
              "      <th>6</th>\n",
              "      <td>Ancak bazı uzmanlar sorular soruyor.</td>\n",
              "    </tr>\n",
              "    <tr>\n",
              "      <th>7</th>\n",
              "      <td>Üstelik çok stresli.</td>\n",
              "    </tr>\n",
              "    <tr>\n",
              "      <th>8</th>\n",
              "      <td>Dükkânlar kapanıyor.</td>\n",
              "    </tr>\n",
              "    <tr>\n",
              "      <th>9</th>\n",
              "      <td>Oysa gerçekte durum bundan daha karmaşık.</td>\n",
              "    </tr>\n",
              "  </tbody>\n",
              "</table>"
            ],
            "text/plain": [
              "<IPython.core.display.HTML object>"
            ]
          },
          "metadata": {}
        }
      ]
    },
    {
      "cell_type": "markdown",
      "metadata": {
        "id": "fowcOllGNNju"
      },
      "source": [
        "Alright! The transcriptions look fairly clean. Having translated the transcribed sentences, it seems that the language corresponds more to written-out text than noisy dialogue. This makes sense considering that [Common Voice](https://huggingface.co/datasets/common_voice) is a crowd-sourced read speech corpus."
      ]
    },
    {
      "cell_type": "markdown",
      "metadata": {
        "id": "vq7OR50LN49m"
      },
      "source": [
        "We can see that the transcriptions contain some special characters, such as `,.?!;:`. Without a language model, it is much harder to classify speech chunks to such special characters because they don't really correspond to a characteristic sound unit. *E.g.*, the letter `\"s\"` has a more or less clear sound, whereas the special character `\".\"` does not.\n",
        "Also in order to understand the meaning of a speech signal, it is usually not necessary to include special characters in the transcription.\n",
        "\n",
        "In addition, we normalize the text to only have lower case letters and append a word separator token at the end."
      ]
    },
    {
      "cell_type": "code",
      "metadata": {
        "id": "svKzVJ_hQGK6"
      },
      "source": [
        "import re\n",
        "chars_to_ignore_regex = '[\\,\\?\\.\\!\\-\\;\\:\\\"\\“\\%\\‘\\”\\�]'\n",
        "\n",
        "def remove_special_characters(batch):\n",
        "    batch[\"sentence\"] = re.sub(chars_to_ignore_regex, '', batch[\"sentence\"]).lower() + \" \"\n",
        "    return batch"
      ],
      "execution_count": 9,
      "outputs": []
    },
    {
      "cell_type": "code",
      "metadata": {
        "colab": {
          "base_uri": "https://localhost:8080/",
          "height": 81,
          "referenced_widgets": [
            "caafc6be098f40bf939051aa89ba0e07",
            "a29fb4e1977e4afdbba340060d645991",
            "0d7f9a33a909479396a507022f271437",
            "a1be5fb469bd49cc8081f1606b173c01",
            "ad2f4a75f8794a02af2f3e9fdf312352",
            "0c0da2881318498bba7a35fab1b6ca7e",
            "7f96fb47b6c64d629f8c2939bd95ca3a",
            "4046559d33d445e5b866190384ad6e92",
            "d41cc617a3624b31b6457460b522a756",
            "6fac45e7ef9f457880b82ef816d9007c",
            "bdbee9f93b6f4c82a33601de370dac9b",
            "52768a19c350405eb389698e00b0b1b2",
            "85a9b9af9a7a4bad8af395febcedd41e",
            "21e7a796a1464d17ba34ea514d33fddc",
            "5e0333c61f3d4201895945ae773653d4",
            "bc910c1b657b4f9bae06c070a0cebaa4",
            "5cf4f78cc1b24b1aa2b65a871b7633a7",
            "9668f51d653847c090fbc5d96f6b0a9a",
            "1f9b42e1395c443cb62af9f1436345a6",
            "964f673eba1f441cb2125d185d2933b7",
            "f9cb0b9c15cc4ceb9e4fe795c4c2200e",
            "db245d2c64c94e9e9e5076352661daa8"
          ]
        },
        "id": "XIHocAuTQbBR",
        "outputId": "ae0bda60-9c01-4e42-b786-b929a5fd4c08"
      },
      "source": [
        "common_voice_train = common_voice_train.map(remove_special_characters)\n",
        "common_voice_test = common_voice_test.map(remove_special_characters)"
      ],
      "execution_count": 10,
      "outputs": [
        {
          "output_type": "display_data",
          "data": {
            "application/vnd.jupyter.widget-view+json": {
              "model_id": "caafc6be098f40bf939051aa89ba0e07",
              "version_minor": 0,
              "version_major": 2
            },
            "text/plain": [
              "  0%|          | 0/500 [00:00<?, ?ex/s]"
            ]
          },
          "metadata": {}
        },
        {
          "output_type": "display_data",
          "data": {
            "application/vnd.jupyter.widget-view+json": {
              "model_id": "52768a19c350405eb389698e00b0b1b2",
              "version_minor": 0,
              "version_major": 2
            },
            "text/plain": [
              "  0%|          | 0/200 [00:00<?, ?ex/s]"
            ]
          },
          "metadata": {}
        }
      ]
    },
    {
      "cell_type": "code",
      "metadata": {
        "colab": {
          "base_uri": "https://localhost:8080/",
          "height": 359
        },
        "id": "RBDRAAYxRE6n",
        "outputId": "2d3122af-dd9e-49c8-db6a-06b81ef80433"
      },
      "source": [
        "show_random_elements(common_voice_train.remove_columns([\"path\",\"audio\"]))"
      ],
      "execution_count": 11,
      "outputs": [
        {
          "output_type": "display_data",
          "data": {
            "text/html": [
              "<table border=\"1\" class=\"dataframe\">\n",
              "  <thead>\n",
              "    <tr style=\"text-align: right;\">\n",
              "      <th></th>\n",
              "      <th>sentence</th>\n",
              "    </tr>\n",
              "  </thead>\n",
              "  <tbody>\n",
              "    <tr>\n",
              "      <th>0</th>\n",
              "      <td>sizin de ilerde birgün teknik direktör olma planlarınız var mı</td>\n",
              "    </tr>\n",
              "    <tr>\n",
              "      <th>1</th>\n",
              "      <td>katılım oranı yaklaşık yüzde kırk yedi idi</td>\n",
              "    </tr>\n",
              "    <tr>\n",
              "      <th>2</th>\n",
              "      <td>ancak bu sadece son bölümdü</td>\n",
              "    </tr>\n",
              "    <tr>\n",
              "      <th>3</th>\n",
              "      <td>artık iktidardaki kimseye güvenmediğini söylüyor</td>\n",
              "    </tr>\n",
              "    <tr>\n",
              "      <th>4</th>\n",
              "      <td>fakat iş arayanların hepsi ikna olmuş değil</td>\n",
              "    </tr>\n",
              "    <tr>\n",
              "      <th>5</th>\n",
              "      <td>onların arzularını dikkate almak gerekir</td>\n",
              "    </tr>\n",
              "    <tr>\n",
              "      <th>6</th>\n",
              "      <td>son on yıldır süren savaşı kazandı</td>\n",
              "    </tr>\n",
              "    <tr>\n",
              "      <th>7</th>\n",
              "      <td>çok kötüydü</td>\n",
              "    </tr>\n",
              "    <tr>\n",
              "      <th>8</th>\n",
              "      <td>ancak süreçte daha fazla ilerleme kaydedilmedi</td>\n",
              "    </tr>\n",
              "    <tr>\n",
              "      <th>9</th>\n",
              "      <td>i̇ki bölümlük ropörtaj dizisinin ikinci bölümü</td>\n",
              "    </tr>\n",
              "  </tbody>\n",
              "</table>"
            ],
            "text/plain": [
              "<IPython.core.display.HTML object>"
            ]
          },
          "metadata": {}
        }
      ]
    },
    {
      "cell_type": "markdown",
      "metadata": {
        "id": "jwfaptH5RJwA"
      },
      "source": [
        "Good! This looks better. We have removed most special characters from transcriptions and normalized them to lower-case only.\n",
        "\n",
        "In CTC, it is common to classify speech chunks into letters, so we will do the same here. \n",
        "Let's extract all distinct letters of the training and test data and build our vocabulary from this set of letters.\n",
        "\n",
        "We write a mapping function that concatenates all transcriptions into one long transcription and then transforms the string into a set of chars. \n",
        "It is important to pass the argument `batched=True` to the `map(...)` function so that the mapping function has access to all transcriptions at once."
      ]
    },
    {
      "cell_type": "code",
      "metadata": {
        "id": "LwCshNbbeRZR"
      },
      "source": [
        "def extract_all_chars(batch):\n",
        "  all_text = \" \".join(batch[\"sentence\"])\n",
        "  vocab = list(set(all_text))\n",
        "  return {\"vocab\": [vocab], \"all_text\": [all_text]}"
      ],
      "execution_count": 12,
      "outputs": []
    },
    {
      "cell_type": "code",
      "metadata": {
        "colab": {
          "base_uri": "https://localhost:8080/",
          "height": 81,
          "referenced_widgets": [
            "f59ae39cb02f402c994e63697bfdc3d8",
            "71e2d811fea146809ed23f4ebf7b537a",
            "6e08f597482c4dc9952365c12646cc25",
            "560c4b1a7e9245dab8bcced70c7dacd9",
            "e173433af9df4ab0b50ebfdc3d89b4f2",
            "bf4607e8de4e411cb98d2e75ec4b99ac",
            "3fa1e34a212642dbb9d373915cabde49",
            "36096ab5bb3b4d4fb9768028c4c78077",
            "2bb718105e524091ab4ac5207875d763",
            "4971d8731cb94f82bb09ff20d7429af0",
            "c2d12d169a264460999b7d91f385ef70",
            "7da5be3b062b41e289134456a6b28f3a",
            "bcf330f7ff7549659e44e961bcf8df7d",
            "6c3383ba81c948bb8eec6d0ed07a0326",
            "515de5994f2f47bc97431eaa7c7d3ae8",
            "34834b509a8a44f38099293ca3c5db34",
            "6c9ed5e7b3a245a38df61e791ca19ef0",
            "8b1964d8c3e744c4bab2fcbeaf9bec3e",
            "f300c548c06745b39dd8b9946dc778dc",
            "f6f6fdd0446544479d61fefb447c7962",
            "bc0e0699b15543aaa464f8b9cc560dce",
            "6f059f049b354678a79935cc54a8dea9"
          ]
        },
        "id": "_m6uUjjcfbjH",
        "outputId": "a9c4a995-017c-4bac-a73f-45a9116e3a58"
      },
      "source": [
        "vocab_train = common_voice_train.map(\n",
        "  extract_all_chars, batched=True, \n",
        "  batch_size=-1, keep_in_memory=True, \n",
        "  remove_columns=common_voice_train.column_names\n",
        ")\n",
        "vocab_test = common_voice_test.map(\n",
        "  extract_all_chars, batched=True, \n",
        "  batch_size=-1, keep_in_memory=True, \n",
        "  remove_columns=common_voice_test.column_names\n",
        ")"
      ],
      "execution_count": 13,
      "outputs": [
        {
          "output_type": "display_data",
          "data": {
            "application/vnd.jupyter.widget-view+json": {
              "model_id": "f59ae39cb02f402c994e63697bfdc3d8",
              "version_minor": 0,
              "version_major": 2
            },
            "text/plain": [
              "  0%|          | 0/1 [00:00<?, ?ba/s]"
            ]
          },
          "metadata": {}
        },
        {
          "output_type": "display_data",
          "data": {
            "application/vnd.jupyter.widget-view+json": {
              "model_id": "7da5be3b062b41e289134456a6b28f3a",
              "version_minor": 0,
              "version_major": 2
            },
            "text/plain": [
              "  0%|          | 0/1 [00:00<?, ?ba/s]"
            ]
          },
          "metadata": {}
        }
      ]
    },
    {
      "cell_type": "markdown",
      "metadata": {
        "id": "7oVgE8RZSJNP"
      },
      "source": [
        "Now, we create the union of all distinct letters in the training dataset and test dataset and convert the resulting list into an enumerated dictionary."
      ]
    },
    {
      "cell_type": "code",
      "metadata": {
        "id": "aQfneNsmlJI0"
      },
      "source": [
        "vocab_list = list(set(vocab_train[\"vocab\"][0]) | set(vocab_test[\"vocab\"][0]))"
      ],
      "execution_count": 14,
      "outputs": []
    },
    {
      "cell_type": "code",
      "metadata": {
        "colab": {
          "base_uri": "https://localhost:8080/"
        },
        "id": "_0kRndSvqaKk",
        "outputId": "2a9ec57e-feff-49ff-af54-2ef056f4d6b1"
      },
      "source": [
        "vocab_dict = {v: k for k, v in enumerate(vocab_list)}\n",
        "vocab_dict"
      ],
      "execution_count": 15,
      "outputs": [
        {
          "output_type": "execute_result",
          "data": {
            "text/plain": [
              "{' ': 6,\n",
              " \"'\": 32,\n",
              " 'a': 22,\n",
              " 'b': 0,\n",
              " 'c': 14,\n",
              " 'd': 24,\n",
              " 'e': 8,\n",
              " 'f': 28,\n",
              " 'g': 23,\n",
              " 'h': 5,\n",
              " 'i': 7,\n",
              " 'j': 11,\n",
              " 'k': 10,\n",
              " 'l': 3,\n",
              " 'm': 13,\n",
              " 'n': 2,\n",
              " 'o': 9,\n",
              " 'p': 26,\n",
              " 'r': 27,\n",
              " 's': 21,\n",
              " 't': 1,\n",
              " 'u': 17,\n",
              " 'v': 31,\n",
              " 'x': 29,\n",
              " 'y': 20,\n",
              " 'z': 4,\n",
              " 'â': 33,\n",
              " 'ç': 16,\n",
              " 'ö': 25,\n",
              " 'ü': 12,\n",
              " 'ğ': 15,\n",
              " 'ı': 18,\n",
              " 'ş': 19,\n",
              " '̇': 30}"
            ]
          },
          "metadata": {},
          "execution_count": 15
        }
      ]
    },
    {
      "cell_type": "markdown",
      "metadata": {
        "id": "JOSzbvs9SXT1"
      },
      "source": [
        "Cool, we see that all letters of the alphabet occur in the dataset (which is not really surprising) and we also extracted the special characters `\" \"` and `'`. Note that we did not exclude those special characters because: \n",
        "\n",
        "- The model has to learn to predict when a word is finished or else the model prediction would always be a sequence of chars which would make it impossible to separate words from each other.\n",
        "- From the transcriptions above it seems that words that include an apostrophe, such as `maktouf'un` do exist in Turkish, so I decided to keep the apostrophe in the dataset. This might be a wrong assumption though.\n",
        "\n",
        "One should always keep in mind that the data-preprocessing is a very important step before training your model. E.g., we don't want our model to differentiate between `a` and `A` just because we forgot to normalize the data. The difference between `a` and `A` does not depend on the \"sound\" of the letter at all, but more on grammatical rules - *e.g.* use a capitalized letter at the beginning of the sentence. So it is sensible to remove the difference between capitalized and non-capitalized letters so that the model has an easier time learning to transcribe speech. \n",
        "\n",
        "It is always advantageous to get help from a native speaker of the language you would like to transcribe to verify whether the assumptions you made are sensible, *e.g.* I should have made sure that keeping `'`, but removing other special characters is a sensible choice for Turkish. "
      ]
    },
    {
      "cell_type": "markdown",
      "metadata": {
        "id": "b1fBRCn-TRaO"
      },
      "source": [
        "To make it clearer to the reader that `\" \"` has its own token class, we give it a more visible character `|`. In addition, we also add an \"unknown\" token so that the model can later deal with characters not encountered in Common Voice's training set. \n",
        "\n",
        "Finally, we also add a padding token that corresponds to CTC's \"*blank token*\". The \"blank token\" is a core component of the CTC algorithm. For more information, please take a look at the \"Alignment\" section [here](https://distill.pub/2017/ctc/)."
      ]
    },
    {
      "cell_type": "code",
      "metadata": {
        "id": "npbIbBoLgaFX"
      },
      "source": [
        "vocab_dict[\"|\"] = vocab_dict[\" \"]\n",
        "del vocab_dict[\" \"]"
      ],
      "execution_count": 16,
      "outputs": []
    },
    {
      "cell_type": "code",
      "metadata": {
        "id": "znF0bNunsjbl",
        "colab": {
          "base_uri": "https://localhost:8080/"
        },
        "outputId": "c88a07a0-9c93-4474-cd7a-e14f1df372f6"
      },
      "source": [
        "vocab_dict[\"[UNK]\"] = len(vocab_dict)\n",
        "vocab_dict[\"[PAD]\"] = len(vocab_dict)\n",
        "len(vocab_dict)"
      ],
      "execution_count": 17,
      "outputs": [
        {
          "output_type": "execute_result",
          "data": {
            "text/plain": [
              "36"
            ]
          },
          "metadata": {},
          "execution_count": 17
        }
      ]
    },
    {
      "cell_type": "markdown",
      "metadata": {
        "id": "SFPGfet8U5sL"
      },
      "source": [
        "Cool, now our vocabulary is complete and consists of 39 tokens, which means that the linear layer that we will add on top of the pretrained XLSR-Wav2Vec2 checkpoint will have an output dimension of 39."
      ]
    },
    {
      "cell_type": "markdown",
      "metadata": {
        "id": "1CujRgBNVRaD"
      },
      "source": [
        "Let's now save the vocabulary as a json file."
      ]
    },
    {
      "cell_type": "code",
      "metadata": {
        "id": "ehyUoh9vk191"
      },
      "source": [
        "import json\n",
        "with open('vocab.json', 'w') as vocab_file:\n",
        "    json.dump(vocab_dict, vocab_file)"
      ],
      "execution_count": 18,
      "outputs": []
    },
    {
      "cell_type": "markdown",
      "metadata": {
        "id": "SHJDaKlIVVim"
      },
      "source": [
        "In a final step, we use the json file to instantiate a tokenizer object with the just created vocabulary file. The correct `tokenizer_type` can be retrieved from the model configuration. If a `tokenizer_class` is defined in the config, we can use it, else we assume the `tokenizer_type` corresponds to the `model_type`."
      ]
    },
    {
      "cell_type": "code",
      "metadata": {
        "colab": {
          "base_uri": "https://localhost:8080/",
          "height": 49,
          "referenced_widgets": [
            "05cd1f4e4123466289fc2de0008b1499",
            "9d87b1f0e95d42828780ddaa6482cb5a",
            "e90bb98f36a34d548141844cd73c44ee",
            "94f8a7c9922b43c2bb3d82128e52343e",
            "ded57f45296b4fe590b1b41750407777",
            "67a1ce707b4e402f93113d12a0c704d8",
            "6a67519123874f4599bb130da9c68625",
            "85a6a4a6a33d4f67a925a0bef9dd9745",
            "0ec082ab2d404b63a4646a29190dd11b",
            "e32dde7bc7bd4e41918846c7d2d27afc",
            "d13358f64008427d8b12ae542af92f4a"
          ]
        },
        "id": "1VKVaSZm7Clh",
        "outputId": "58b73921-cf71-4591-bb23-2e3e0f69cba4"
      },
      "source": [
        "from transformers import AutoConfig\n",
        "\n",
        "config = AutoConfig.from_pretrained(model_checkpoint)\n",
        "\n",
        "tokenizer_type = config.model_type if config.tokenizer_class is None else None\n",
        "config = config if config.tokenizer_class is not None else None"
      ],
      "execution_count": 22,
      "outputs": [
        {
          "output_type": "display_data",
          "data": {
            "application/vnd.jupyter.widget-view+json": {
              "model_id": "05cd1f4e4123466289fc2de0008b1499",
              "version_minor": 0,
              "version_major": 2
            },
            "text/plain": [
              "Downloading:   0%|          | 0.00/1.60k [00:00<?, ?B/s]"
            ]
          },
          "metadata": {}
        }
      ]
    },
    {
      "cell_type": "markdown",
      "metadata": {
        "id": "P5B_bVhf7H_K"
      },
      "source": [
        "Now we can instantiate a tokenizer using `AutoTokenizer`. Additionally, we set the tokenizer's special tokens."
      ]
    },
    {
      "cell_type": "code",
      "metadata": {
        "id": "xriFGEWQkO4M",
        "colab": {
          "base_uri": "https://localhost:8080/"
        },
        "outputId": "2e555d9e-8e58-4be0-d86c-2f391c0c3e69"
      },
      "source": [
        "from transformers import AutoTokenizer\n",
        "\n",
        "tokenizer = AutoTokenizer.from_pretrained(\n",
        "  \"./\",\n",
        "  config=config,\n",
        "  tokenizer_type=tokenizer_type,\n",
        "  unk_token=\"[UNK]\",\n",
        "  pad_token=\"[PAD]\",\n",
        "  word_delimiter_token=\"|\",\n",
        ")"
      ],
      "execution_count": 23,
      "outputs": [
        {
          "output_type": "stream",
          "name": "stderr",
          "text": [
            "file ./config.json not found\n",
            "Special tokens have been added in the vocabulary, make sure the associated word embeddings are fine-tuned or trained.\n"
          ]
        }
      ]
    },
    {
      "cell_type": "markdown",
      "metadata": {
        "id": "KvL12DrNV4cx"
      },
      "source": [
        "If one wants to re-use the just created tokenizer with the fine-tuned model of this notebook, it is strongly advised to upload the `tokenizer` to the [🤗 Hub](https://huggingface.co/). Let's call the repo to which we will upload the files\n",
        "`\"wav2vec2-large-xlsr-turkish-demo-colab\"`:"
      ]
    },
    {
      "cell_type": "code",
      "metadata": {
        "id": "A1XApZBAF2zr"
      },
      "source": [
        "model_checkpoint_name = model_checkpoint.split(\"/\")[-1]\n",
        "repo_name = f\"{model_checkpoint_name}-demo-colab\""
      ],
      "execution_count": 24,
      "outputs": []
    },
    {
      "cell_type": "markdown",
      "metadata": {
        "id": "B1BiezWZF16d"
      },
      "source": [
        "and upload the tokenizer to the [🤗 Hub](https://huggingface.co/)."
      ]
    },
    {
      "cell_type": "code",
      "metadata": {
        "colab": {
          "base_uri": "https://localhost:8080/",
          "height": 107
        },
        "id": "zytE1175GAKM",
        "outputId": "f747dded-b8ef-4a20-fe48-74bb6c58a0a7"
      },
      "source": [
        "tokenizer.push_to_hub(repo_name)"
      ],
      "execution_count": 25,
      "outputs": [
        {
          "output_type": "stream",
          "name": "stderr",
          "text": [
            "Cloning https://huggingface.co/patrickvonplaten/unispeech-large-multi-lingual-1500h-cv-demo-colab into local empty directory.\n",
            "To https://huggingface.co/patrickvonplaten/unispeech-large-multi-lingual-1500h-cv-demo-colab\n",
            "   71f6f09..541f0c1  main -> main\n",
            "\n"
          ]
        },
        {
          "output_type": "execute_result",
          "data": {
            "application/vnd.google.colaboratory.intrinsic+json": {
              "type": "string"
            },
            "text/plain": [
              "'https://huggingface.co/patrickvonplaten/unispeech-large-multi-lingual-1500h-cv-demo-colab/commit/541f0c122c9e87ef4bdcb2176811d19090a46bcf'"
            ]
          },
          "metadata": {},
          "execution_count": 25
        }
      ]
    },
    {
      "cell_type": "markdown",
      "metadata": {
        "id": "SwQM8lH_GGuP"
      },
      "source": [
        "Great, you can see the just created repository under `https://huggingface.co/<your-username>/wav2vec2-large-xlsr-turkish-demo-colab` ."
      ]
    },
    {
      "cell_type": "markdown",
      "metadata": {
        "id": "YFmShnl7RE35"
      },
      "source": [
        "### Preprocess Data\n",
        "\n",
        "So far, we have not looked at the actual values of the speech signal but just the transcription. In addition to `sentence`, our datasets include two more column names `path` and `audio`. `path` states the absolute path of the audio file. Let's take a look.\n"
      ]
    },
    {
      "cell_type": "code",
      "metadata": {
        "colab": {
          "base_uri": "https://localhost:8080/",
          "height": 35
        },
        "id": "TTCS7W6XJ9BG",
        "outputId": "1a463af7-393e-4ddb-d033-d334d64bb2e0"
      },
      "source": [
        "common_voice_train[0][\"path\"]"
      ],
      "execution_count": 26,
      "outputs": [
        {
          "output_type": "execute_result",
          "data": {
            "application/vnd.google.colaboratory.intrinsic+json": {
              "type": "string"
            },
            "text/plain": [
              "'/root/.cache/huggingface/datasets/downloads/extracted/05be0c29807a73c9b099873d2f5975dae6d05e9f7d577458a2466ecb9a2b0c6b/cv-corpus-6.1-2020-12-11/tr/clips/common_voice_tr_21921195.mp3'"
            ]
          },
          "metadata": {},
          "execution_count": 26
        }
      ]
    },
    {
      "cell_type": "markdown",
      "metadata": {
        "id": "T6ndIjHGFp0W"
      },
      "source": [
        "`XLSR-Wav2Vec2` expects the input in the format of a 1-dimensional array of 16 kHz. This means that the audio file has to be loaded and resampled.\n",
        "\n",
        " Thankfully, `datasets` does this automatically by calling the other column `audio`. Let try it out. "
      ]
    },
    {
      "cell_type": "code",
      "metadata": {
        "colab": {
          "base_uri": "https://localhost:8080/"
        },
        "id": "qj_z5Zc3GAs9",
        "outputId": "cbad7e4b-b4c7-4463-c676-01356ecc2f6e"
      },
      "source": [
        "common_voice_train[0][\"audio\"]"
      ],
      "execution_count": 27,
      "outputs": [
        {
          "output_type": "execute_result",
          "data": {
            "text/plain": [
              "{'array': array([ 0.0000000e+00,  0.0000000e+00,  0.0000000e+00, ...,\n",
              "        -8.8930130e-05, -3.8027763e-05, -2.9146671e-05], dtype=float32),\n",
              " 'path': '/root/.cache/huggingface/datasets/downloads/extracted/05be0c29807a73c9b099873d2f5975dae6d05e9f7d577458a2466ecb9a2b0c6b/cv-corpus-6.1-2020-12-11/tr/clips/common_voice_tr_21921195.mp3',\n",
              " 'sampling_rate': 48000}"
            ]
          },
          "metadata": {},
          "execution_count": 27
        }
      ]
    },
    {
      "cell_type": "markdown",
      "metadata": {
        "id": "WUUTgI1bGHW-"
      },
      "source": [
        "Great, we can see that the audio file has automatically been loaded. This is thanks to the new [`\"Audio\"` feature](https://huggingface.co/docs/datasets/package_reference/main_classes.html?highlight=audio#datasets.Audio) introduced in `datasets == 1.13.3`, which loads and resamples audio files on-the-fly upon calling.\n",
        "\n",
        "In the example above we can see that the audio data is loaded with a sampling rate of 48kHz whereas 16kHz are expected by the model. We can set the audio feature to the correct sampling rate by making use of [`cast_column`](https://huggingface.co/docs/datasets/package_reference/main_classes.html?highlight=cast_column#datasets.DatasetDict.cast_column):"
      ]
    },
    {
      "cell_type": "code",
      "metadata": {
        "id": "rrv65aj7G95i"
      },
      "source": [
        "common_voice_train = common_voice_train.cast_column(\"audio\", Audio(sampling_rate=16_000))\n",
        "common_voice_test = common_voice_test.cast_column(\"audio\", Audio(sampling_rate=16_000))"
      ],
      "execution_count": 28,
      "outputs": []
    },
    {
      "cell_type": "markdown",
      "metadata": {
        "id": "PcnO4x-NGBEi"
      },
      "source": [
        "Let's take a look at `\"audio\"` again."
      ]
    },
    {
      "cell_type": "code",
      "metadata": {
        "colab": {
          "base_uri": "https://localhost:8080/"
        },
        "id": "aKtkc1o_HWHC",
        "outputId": "18031cca-70cc-43cd-c301-7e19af6c453e"
      },
      "source": [
        "common_voice_train[0][\"audio\"]"
      ],
      "execution_count": 29,
      "outputs": [
        {
          "output_type": "execute_result",
          "data": {
            "text/plain": [
              "{'array': array([ 0.0000000e+00,  0.0000000e+00,  0.0000000e+00, ...,\n",
              "        -7.4556941e-05, -1.4621433e-05, -5.7861507e-05], dtype=float32),\n",
              " 'path': '/root/.cache/huggingface/datasets/downloads/extracted/05be0c29807a73c9b099873d2f5975dae6d05e9f7d577458a2466ecb9a2b0c6b/cv-corpus-6.1-2020-12-11/tr/clips/common_voice_tr_21921195.mp3',\n",
              " 'sampling_rate': 16000}"
            ]
          },
          "metadata": {},
          "execution_count": 29
        }
      ]
    },
    {
      "cell_type": "markdown",
      "metadata": {
        "id": "SOckzFd4Mbzq"
      },
      "source": [
        "This seemed to have worked! Let's listen to a couple of audio files to better understand the dataset and verify that the audio was correctly loaded. \n",
        "\n",
        "**Note**: *You can click the following cell a couple of times to listen to different speech samples.*"
      ]
    },
    {
      "cell_type": "code",
      "metadata": {
        "colab": {
          "base_uri": "https://localhost:8080/",
          "height": 92
        },
        "id": "dueM6U7Ev0OA",
        "outputId": "6bd5417e-187c-4d4b-8d83-23ce3a5ef985"
      },
      "source": [
        "import IPython.display as ipd\n",
        "import numpy as np\n",
        "import random\n",
        "\n",
        "rand_int = random.randint(0, len(common_voice_train)-1)\n",
        "\n",
        "print(common_voice_train[rand_int][\"sentence\"])\n",
        "ipd.Audio(data=common_voice_train[rand_int][\"audio\"][\"array\"], autoplay=True, rate=16000)"
      ],
      "execution_count": 30,
      "outputs": [
        {
          "output_type": "stream",
          "name": "stdout",
          "text": [
            "festival iki yıl içinde tekrarlanacak \n"
          ]
        },
        {
          "output_type": "execute_result",
          "data": {
            "text/html": [
              "\n",
              "                <audio controls=\"controls\" autoplay=\"autoplay\">\n",
              "                    <source src=\"data:audio/wav;base64,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\" type=\"audio/wav\" />\n",
              "                    Your browser does not support the audio element.\n",
              "                </audio>\n",
              "              "
            ],
            "text/plain": [
              "<IPython.lib.display.Audio object>"
            ]
          },
          "metadata": {},
          "execution_count": 30
        }
      ]
    },
    {
      "cell_type": "markdown",
      "metadata": {
        "id": "gY8m3vARHYTa"
      },
      "source": [
        "It seems like the data is now correctly loaded and resampled. "
      ]
    },
    {
      "cell_type": "markdown",
      "metadata": {
        "id": "1MaL9J2dNVtG"
      },
      "source": [
        "It can be heard, that the speakers change along with their speaking rate, accent, and background environment, etc. Overall, the recordings sound acceptably clear though, which is to be expected from a crowd-sourced read speech corpus.\n",
        "\n",
        "Let's do a final check that the data is correctly prepared, by printing the shape of the speech input, its transcription, and the corresponding sampling rate.\n",
        "\n",
        "**Note**: *You can click the following cell a couple of times to verify multiple samples.*"
      ]
    },
    {
      "cell_type": "code",
      "metadata": {
        "colab": {
          "base_uri": "https://localhost:8080/"
        },
        "id": "1Po2g7YPuRTx",
        "outputId": "411fa5a0-1718-4244-afea-15c68eb9a834"
      },
      "source": [
        "rand_int = random.randint(0, len(common_voice_train)-1)\n",
        "\n",
        "print(\"Target text:\", common_voice_train[rand_int][\"sentence\"])\n",
        "print(\"Input array shape:\", common_voice_train[rand_int][\"audio\"][\"array\"].shape)\n",
        "print(\"Sampling rate:\", common_voice_train[rand_int][\"audio\"][\"sampling_rate\"])"
      ],
      "execution_count": 31,
      "outputs": [
        {
          "output_type": "stream",
          "name": "stdout",
          "text": [
            "Target text: yine de ordunun değişmekte olduğuna inanıyor \n",
            "Input array shape: (72192,)\n",
            "Sampling rate: 16000\n"
          ]
        }
      ]
    },
    {
      "cell_type": "markdown",
      "metadata": {
        "id": "M9teZcSwOBJ4"
      },
      "source": [
        "Good! Everything looks fine - the data is a 1-dimensional array, the sampling rate always corresponds to 16kHz, and the target text is normalized.\n",
        "\n",
        "Next, we should process the data with the model's feature extractor. Let's load the feature extractor"
      ]
    },
    {
      "cell_type": "code",
      "metadata": {
        "colab": {
          "base_uri": "https://localhost:8080/",
          "height": 49,
          "referenced_widgets": [
            "37b34933102249b185b5d3828126341b",
            "9f9e3f2f3e6d47a49269efcee0620ca5",
            "890602a235114f19b7b482773fc2afc8",
            "f7116767dcb0437a90006036a9477ec9",
            "3baabfaba3934c2488ba52b40da537ae",
            "7c784128f76245ef9f38de0f57f55489",
            "602fecb675f74ec391dfffc759a88765",
            "42299fae30154f68b1bfc343bd7be72c",
            "5469bf3f05a6474abf36892d2e8fbc22",
            "5538657c9d1249a78d4214effa43c15a",
            "a90ba736cbc84a88a9008c2a1f801d9e"
          ]
        },
        "id": "UuA-9bgBYT4x",
        "outputId": "ddd9231e-a0f9-403a-83b0-31446c8c9309"
      },
      "source": [
        "from transformers import AutoFeatureExtractor\n",
        "\n",
        "feature_extractor = AutoFeatureExtractor.from_pretrained(model_checkpoint)"
      ],
      "execution_count": 32,
      "outputs": [
        {
          "output_type": "display_data",
          "data": {
            "application/vnd.jupyter.widget-view+json": {
              "model_id": "37b34933102249b185b5d3828126341b",
              "version_minor": 0,
              "version_major": 2
            },
            "text/plain": [
              "Downloading:   0%|          | 0.00/212 [00:00<?, ?B/s]"
            ]
          },
          "metadata": {}
        }
      ]
    },
    {
      "cell_type": "markdown",
      "metadata": {
        "id": "VgcfxUSAYaCQ"
      },
      "source": [
        "and wrap it into a `Wav2Vec2Processor` together with the tokenizer."
      ]
    },
    {
      "cell_type": "code",
      "metadata": {
        "id": "byshSGTjYcdu"
      },
      "source": [
        "from transformers import Wav2Vec2Processor\n",
        "\n",
        "processor = Wav2Vec2Processor(feature_extractor=feature_extractor, tokenizer=tokenizer)"
      ],
      "execution_count": 33,
      "outputs": []
    },
    {
      "cell_type": "markdown",
      "metadata": {
        "id": "GNFuvi26Yiw6"
      },
      "source": [
        "Finally, we can leverage `Wav2Vec2Processor` to process the data to the format expected by the model for training. To do so let's make use of Dataset's [`map(...)`](https://huggingface.co/docs/datasets/package_reference/main_classes.html?highlight=map#datasets.DatasetDict.map) function.\n",
        "\n",
        "First, we load and resample the audio data, simply by calling `batch[\"audio\"]`.\n",
        "Second, we extract the `input_values` from the loaded audio file. In our case, the `Wav2Vec2Processor` only normalizes the data. For other speech models, however, this step can include more complex feature extraction, such as [Log-Mel feature extraction](https://en.wikipedia.org/wiki/Mel-frequency_cepstrum). \n",
        "Third, we encode the transcriptions to label ids."
      ]
    },
    {
      "cell_type": "code",
      "metadata": {
        "id": "eJY7I0XAwe9p"
      },
      "source": [
        "def prepare_dataset(batch):\n",
        "    audio = batch[\"audio\"]\n",
        "\n",
        "    # batched output is \"un-batched\"\n",
        "    batch[\"input_values\"] = processor(audio[\"array\"], sampling_rate=audio[\"sampling_rate\"]).input_values[0]\n",
        "    batch[\"input_length\"] = len(batch[\"input_values\"])\n",
        "    \n",
        "    with processor.as_target_processor():\n",
        "        batch[\"labels\"] = processor(batch[\"sentence\"]).input_ids\n",
        "    return batch"
      ],
      "execution_count": 34,
      "outputs": []
    },
    {
      "cell_type": "markdown",
      "metadata": {
        "id": "q6Pg_WR3OGAP"
      },
      "source": [
        "Let's apply the data preparation function to all examples."
      ]
    },
    {
      "cell_type": "code",
      "metadata": {
        "id": "-np9xYK-wl8q",
        "colab": {
          "base_uri": "https://localhost:8080/",
          "height": 81,
          "referenced_widgets": [
            "a70265c22fc145ea84218426b3915f59",
            "cf11b0cb36cd4e008d5af1b68f172c09",
            "026b150d6a4a4d5e84a23c5dbc929cb5",
            "887d719224d04b93b8559c9f63c57dc3",
            "f35fb14a67a94bdeaade356813e86924",
            "d26b2a9a772a4765acbf5ed10ed1428f",
            "64027528f17e4044912212ba1052f623",
            "e5dfb99feb4b4167abe567425f149a92",
            "5165a4569cd942478763f7c6fb146541",
            "1d6ca90bcc7f4c1c8e9b6b8113aee306",
            "641195fedc394956afb4b9b606edc157",
            "1491539189e243599454365c727f9859",
            "6f5a59c5ee7a4024a941ee9a473f21b6",
            "5b145f1c334041988ba8313e87aa6dd4",
            "39594935b7a04303b5e1e18854ab43e7",
            "cef086808ee24961bd9c415e22731c4e",
            "55f24e035c8e45b986ecb47ec7ba8e8f",
            "32448c0ca3bf474aba7bff38ee4891e2",
            "62a171c0f8b34a0f85753c2b821c5f6d",
            "772432fc066e4f089b0b486036abc466",
            "14888a40dd33471aaadb0e20b0d5fac6",
            "8fd3a3d9e772405bba05280cd4407c0c"
          ]
        },
        "outputId": "7747b9d7-01c8-4584-cb40-ce27eb0e4370"
      },
      "source": [
        "common_voice_train = common_voice_train.map(prepare_dataset, remove_columns=common_voice_train.column_names)\n",
        "common_voice_test = common_voice_test.map(prepare_dataset, remove_columns=common_voice_test.column_names)"
      ],
      "execution_count": 35,
      "outputs": [
        {
          "output_type": "display_data",
          "data": {
            "application/vnd.jupyter.widget-view+json": {
              "model_id": "a70265c22fc145ea84218426b3915f59",
              "version_minor": 0,
              "version_major": 2
            },
            "text/plain": [
              "  0%|          | 0/500 [00:00<?, ?ex/s]"
            ]
          },
          "metadata": {}
        },
        {
          "output_type": "display_data",
          "data": {
            "application/vnd.jupyter.widget-view+json": {
              "model_id": "1491539189e243599454365c727f9859",
              "version_minor": 0,
              "version_major": 2
            },
            "text/plain": [
              "  0%|          | 0/200 [00:00<?, ?ex/s]"
            ]
          },
          "metadata": {}
        }
      ]
    },
    {
      "cell_type": "markdown",
      "metadata": {
        "id": "nKcEWHvKI1by"
      },
      "source": [
        "**Note**: Currently `datasets` make use of [`torchaudio`](https://pytorch.org/audio/stable/index.html) and [`librosa`](https://librosa.org/doc/latest/index.html) for audio loading and resampling. If you wish to implement your own costumized data loading/sampling, feel free to just make use of the `\"path\"` column instead and disregard the `\"audio\"` column."
      ]
    },
    {
      "cell_type": "markdown",
      "metadata": {
        "id": "24CxHd5ewI4T"
      },
      "source": [
        "Long input sequences require a lot of memory. Since speech models in `transformers` are based on `self-attention` the memory requirement scales quadratically with the input length for long input sequences (*cf.* with [this](https://www.reddit.com/r/MachineLearning/comments/genjvb/d_why_is_the_maximum_input_sequence_length_of/) reddit post). For this demo, let's filter all sequences that are longer than 5\n",
        " seconds out of the training dataset."
      ]
    },
    {
      "cell_type": "code",
      "metadata": {
        "colab": {
          "base_uri": "https://localhost:8080/",
          "height": 49,
          "referenced_widgets": [
            "2ebaac9f52634a1c885563afd4b0c864",
            "642c5e43a3034f9d99f15bccff9347e9",
            "c6d013d5346f4d35a4951dd55fdbd8f4",
            "76b59902f9c243499e3717618dff4abf",
            "b2ef2f4ce91c495dbad10bcd12e2b22b",
            "3f32ab095bf8439c915671be50d10c34",
            "f7909ca66d474c8da15a49046b131813",
            "65f3d100a6d249f18e2b08a612dba6da",
            "4a3a3d12eaa84cc0b32485f47bb0ea68",
            "6dd9d156df2b4fe9bee43e9b963479ce",
            "9ecad43611fc42beaa49e5569475bc9f"
          ]
        },
        "id": "tdHfbUJ_09iA",
        "outputId": "16bfc944-a7ee-40dc-ca62-87a8061d457a"
      },
      "source": [
        "max_input_length_in_sec = 5.0\n",
        "common_voice_train = common_voice_train.filter(lambda x: x < max_input_length_in_sec * processor.feature_extractor.sampling_rate, input_columns=[\"input_length\"])"
      ],
      "execution_count": 36,
      "outputs": [
        {
          "output_type": "display_data",
          "data": {
            "application/vnd.jupyter.widget-view+json": {
              "model_id": "2ebaac9f52634a1c885563afd4b0c864",
              "version_minor": 0,
              "version_major": 2
            },
            "text/plain": [
              "  0%|          | 0/1 [00:00<?, ?ba/s]"
            ]
          },
          "metadata": {}
        }
      ]
    },
    {
      "cell_type": "markdown",
      "metadata": {
        "id": "1ZWDCCKqwcfS"
      },
      "source": [
        "Awesome, now we are ready to start training!"
      ]
    },
    {
      "cell_type": "markdown",
      "metadata": {
        "id": "gYlQkKVoRUos"
      },
      "source": [
        "## Training\n",
        "\n",
        "The data is processed so that we are ready to start setting up the training pipeline. We will make use of 🤗's [Trainer](https://huggingface.co/transformers/master/main_classes/trainer.html?highlight=trainer) for which we essentially need to do the following:\n",
        "\n",
        "- Define a data collator. In contrast to most NLP models, speech models usually have a much larger input length than output length. *E.g.*, a sample of input length 50000 for XLSR-Wav2Vec2 has an output length of no more than 100. Given the large input sizes, it is much more efficient to pad the training batches dynamically meaning that all training samples should only be padded to the longest sample in their batch and not the overall longest sample. Therefore, fine-tuning speech models requires a special padding data collator, which we will define below\n",
        "\n",
        "- Evaluation metric. During training, the model should be evaluated on the word error rate. We should define a `compute_metrics` function accordingly\n",
        "\n",
        "- Load a pretrained checkpoint. We need to load a pretrained checkpoint and configure it correctly for training.\n",
        "\n",
        "- Define the training configuration.\n",
        "\n",
        "After having fine-tuned the model, we will correctly evaluate it on the test data and verify that it has indeed learned to correctly transcribe speech."
      ]
    },
    {
      "cell_type": "markdown",
      "metadata": {
        "id": "Slk403unUS91"
      },
      "source": [
        "### Set-up Trainer\n",
        "\n",
        "Let's start by defining the data collator. The code for the data collator was copied from [this example](https://github.com/huggingface/transformers/blob/9a06b6b11bdfc42eea08fa91d0c737d1863c99e3/examples/research_projects/wav2vec2/run_asr.py#L81).\n",
        "\n",
        "Without going into too many details, in contrast to the common data collators, this data collator treats the `input_values` and `labels` differently and thus applies to separate padding functions on them. This is necessary because in speech input and output are of different modalities meaning that they should not be treated by the same padding function.\n",
        "Analogous to the common data collators, the padding tokens in the labels with `-100` so that those tokens are **not** taken into account when computing the loss."
      ]
    },
    {
      "cell_type": "code",
      "metadata": {
        "id": "tborvC9hx88e"
      },
      "source": [
        "import torch\n",
        "\n",
        "from dataclasses import dataclass, field\n",
        "from typing import Any, Dict, List, Optional, Union\n",
        "\n",
        "@dataclass\n",
        "class DataCollatorCTCWithPadding:\n",
        "    \"\"\"\n",
        "    Data collator that will dynamically pad the inputs received.\n",
        "    Args:\n",
        "        processor (:class:`~transformers.Wav2Vec2Processor`)\n",
        "            The processor used for proccessing the data.\n",
        "        padding (:obj:`bool`, :obj:`str` or :class:`~transformers.tokenization_utils_base.PaddingStrategy`, `optional`, defaults to :obj:`True`):\n",
        "            Select a strategy to pad the returned sequences (according to the model's padding side and padding index)\n",
        "            among:\n",
        "            * :obj:`True` or :obj:`'longest'`: Pad to the longest sequence in the batch (or no padding if only a single\n",
        "              sequence if provided).\n",
        "            * :obj:`'max_length'`: Pad to a maximum length specified with the argument :obj:`max_length` or to the\n",
        "              maximum acceptable input length for the model if that argument is not provided.\n",
        "            * :obj:`False` or :obj:`'do_not_pad'` (default): No padding (i.e., can output a batch with sequences of\n",
        "              different lengths).\n",
        "        max_length (:obj:`int`, `optional`):\n",
        "            Maximum length of the ``input_values`` of the returned list and optionally padding length (see above).\n",
        "        max_length_labels (:obj:`int`, `optional`):\n",
        "            Maximum length of the ``labels`` returned list and optionally padding length (see above).\n",
        "        pad_to_multiple_of (:obj:`int`, `optional`):\n",
        "            If set will pad the sequence to a multiple of the provided value.\n",
        "            This is especially useful to enable the use of Tensor Cores on NVIDIA hardware with compute capability >=\n",
        "            7.5 (Volta).\n",
        "    \"\"\"\n",
        "\n",
        "    processor: Wav2Vec2Processor\n",
        "    padding: Union[bool, str] = True\n",
        "    max_length: Optional[int] = None\n",
        "    max_length_labels: Optional[int] = None\n",
        "    pad_to_multiple_of: Optional[int] = None\n",
        "    pad_to_multiple_of_labels: Optional[int] = None\n",
        "\n",
        "    def __call__(self, features: List[Dict[str, Union[List[int], torch.Tensor]]]) -> Dict[str, torch.Tensor]:\n",
        "        # split inputs and labels since they have to be of different lenghts and need\n",
        "        # different padding methods\n",
        "        input_features = [{\"input_values\": feature[\"input_values\"]} for feature in features]\n",
        "        label_features = [{\"input_ids\": feature[\"labels\"]} for feature in features]\n",
        "\n",
        "        batch = self.processor.pad(\n",
        "            input_features,\n",
        "            padding=self.padding,\n",
        "            max_length=self.max_length,\n",
        "            pad_to_multiple_of=self.pad_to_multiple_of,\n",
        "            return_tensors=\"pt\",\n",
        "        )\n",
        "        with self.processor.as_target_processor():\n",
        "            labels_batch = self.processor.pad(\n",
        "                label_features,\n",
        "                padding=self.padding,\n",
        "                max_length=self.max_length_labels,\n",
        "                pad_to_multiple_of=self.pad_to_multiple_of_labels,\n",
        "                return_tensors=\"pt\",\n",
        "            )\n",
        "\n",
        "        # replace padding with -100 to ignore loss correctly\n",
        "        labels = labels_batch[\"input_ids\"].masked_fill(labels_batch.attention_mask.ne(1), -100)\n",
        "\n",
        "        batch[\"labels\"] = labels\n",
        "\n",
        "        return batch"
      ],
      "execution_count": 37,
      "outputs": []
    },
    {
      "cell_type": "code",
      "metadata": {
        "id": "lbQf5GuZyQ4_"
      },
      "source": [
        "data_collator = DataCollatorCTCWithPadding(processor=processor, padding=True)"
      ],
      "execution_count": 38,
      "outputs": []
    },
    {
      "cell_type": "markdown",
      "metadata": {
        "id": "xO-Zdj-5cxXp"
      },
      "source": [
        "Next, the evaluation metric is defined. As mentioned earlier, the \n",
        "predominant metric in ASR is the word error rate (WER), hence we will use it in this notebook as well."
      ]
    },
    {
      "cell_type": "code",
      "metadata": {
        "id": "9Xsux2gmyXso",
        "colab": {
          "base_uri": "https://localhost:8080/",
          "height": 49,
          "referenced_widgets": [
            "b3bd4f10b1ea4687af33360750c1873c",
            "0bc3ebfdf00c40798a575f337d9d0e4d",
            "d79d721d311e4163b1b9bc78687d3e37",
            "a17989f8a34c4e04b7e58ec51c935940",
            "f57f44e9807144c8b49144641d79a7f9",
            "1fbc0bdda11e474688e7583b324de642",
            "b5956f3c2e6444538606f5804df1a934",
            "43dce1f4b34a4224ac633687fbd6b1a2",
            "23f79c63cfa541f79406a06fe7a55acc",
            "1c838f8595834fae928c4a09bf1ea34d",
            "b03cec7e9b7d4728a89b78b870ab907f"
          ]
        },
        "outputId": "2b058aca-4ef5-4354-9991-921407e586cf"
      },
      "source": [
        "wer_metric = load_metric(\"wer\")"
      ],
      "execution_count": 39,
      "outputs": [
        {
          "output_type": "display_data",
          "data": {
            "application/vnd.jupyter.widget-view+json": {
              "model_id": "b3bd4f10b1ea4687af33360750c1873c",
              "version_minor": 0,
              "version_major": 2
            },
            "text/plain": [
              "Downloading:   0%|          | 0.00/1.95k [00:00<?, ?B/s]"
            ]
          },
          "metadata": {}
        }
      ]
    },
    {
      "cell_type": "markdown",
      "metadata": {
        "id": "E1qZU5p-deqB"
      },
      "source": [
        "The model will return a sequence of logit vectors:\n",
        "$\\mathbf{y}_1, \\ldots, \\mathbf{y}_m$ with $\\mathbf{y}_1 = f_{\\theta}(x_1, \\ldots, x_n)[0]$ and $n >> m$.\n",
        "\n",
        "A logit vector $\\mathbf{y}_1$ contains the log-odds for each word in the vocabulary we defined earlier, thus $\\text{len}(\\mathbf{y}_i) =$ `config.vocab_size`. We are interested in the most likely prediction of the model and thus take the `argmax(...)` of the logits. Also, we transform the encoded labels back to the original string by replacing `-100` with the `pad_token_id` and decoding the ids while making sure that consecutive tokens are **not** grouped to the same token in CTC style ${}^1$."
      ]
    },
    {
      "cell_type": "code",
      "metadata": {
        "id": "1XZ-kjweyTy_"
      },
      "source": [
        "def compute_metrics(pred):\n",
        "    pred_logits = pred.predictions\n",
        "    pred_ids = np.argmax(pred_logits, axis=-1)\n",
        "\n",
        "    pred.label_ids[pred.label_ids == -100] = processor.tokenizer.pad_token_id\n",
        "\n",
        "    pred_str = processor.batch_decode(pred_ids)\n",
        "    # we do not want to group tokens when computing the metrics\n",
        "    label_str = processor.batch_decode(pred.label_ids, group_tokens=False)\n",
        "\n",
        "    wer = wer_metric.compute(predictions=pred_str, references=label_str)\n",
        "\n",
        "    return {\"wer\": wer}"
      ],
      "execution_count": 40,
      "outputs": []
    },
    {
      "cell_type": "markdown",
      "metadata": {
        "id": "Xmgrx4bRwLIH"
      },
      "source": [
        "Now, we can load the pretrained speech checkpoint. The tokenizer's `pad_token_id` must be to define the model's `pad_token_id` or in the case of a CTC speech model also CTC's *blank token* ${}^2$.\n",
        "\n",
        "Because the dataset is quite small (~6h of training data) and because Common Voice is quite noisy, fine-tuning might require some hyper-parameter tuning, which is why a couple of hyperparameters are set in the following.\n",
        "\n",
        "**Note**: When using this notebook to train speech models on another language of Common Voice those hyper-parameter settings might not work very well. Feel free to adapt those depending on your use case. "
      ]
    },
    {
      "cell_type": "code",
      "metadata": {
        "colab": {
          "base_uri": "https://localhost:8080/",
          "height": 159,
          "referenced_widgets": [
            "ff93a653e150409398c25d4520338d09",
            "b03bc76b3c6a422db0dafd36d363398d",
            "4e301a18f6db47ea832313a670231b90",
            "b005b80927d1455fa0d6bd2f4719a3b6",
            "60dad90b86104720b90084cfe7738913",
            "b91c547e29ed46389c2ce4d54443bb7e",
            "c344f38a91c747b1a4c116fbefc4f6fa",
            "b4a06f24fae347f08df36a14a130d732",
            "5c2c333964684f6a85c8c6a378646f59",
            "6bcd659f056847fbbc37f4a0e07a6007",
            "5f6ca7e780034803b96e2d652b3e6dca"
          ]
        },
        "id": "e7cqAWIayn6w",
        "outputId": "840a5e64-8edc-4f5d-94b2-2967382d6eb0"
      },
      "source": [
        "from transformers import AutoModelForCTC\n",
        "\n",
        "model = AutoModelForCTC.from_pretrained(\n",
        "    model_checkpoint,\n",
        "    attention_dropout=0.1,\n",
        "    hidden_dropout=0.1,\n",
        "    feat_proj_dropout=0.0,\n",
        "    mask_time_prob=0.05,\n",
        "    layerdrop=0.1,\n",
        "    ctc_loss_reduction=\"mean\", \n",
        "    pad_token_id=processor.tokenizer.pad_token_id,\n",
        "    vocab_size=len(processor.tokenizer)\n",
        ")"
      ],
      "execution_count": 41,
      "outputs": [
        {
          "output_type": "display_data",
          "data": {
            "application/vnd.jupyter.widget-view+json": {
              "model_id": "ff93a653e150409398c25d4520338d09",
              "version_minor": 0,
              "version_major": 2
            },
            "text/plain": [
              "Downloading:   0%|          | 0.00/1.18G [00:00<?, ?B/s]"
            ]
          },
          "metadata": {}
        },
        {
          "output_type": "stream",
          "name": "stderr",
          "text": [
            "Some weights of the model checkpoint at microsoft/unispeech-large-multi-lingual-1500h-cv were not used when initializing UniSpeechForCTC: ['project_hid.bias', 'project_q.weight', 'ctc_proj.weight', 'quantizer.codevectors', 'quantizer.weight_proj.weight', 'project_hid.weight', 'ctc_proj.bias', 'project_q.bias', 'quantizer.weight_proj.bias']\n",
            "- This IS expected if you are initializing UniSpeechForCTC from the checkpoint of a model trained on another task or with another architecture (e.g. initializing a BertForSequenceClassification model from a BertForPreTraining model).\n",
            "- This IS NOT expected if you are initializing UniSpeechForCTC from the checkpoint of a model that you expect to be exactly identical (initializing a BertForSequenceClassification model from a BertForSequenceClassification model).\n",
            "Some weights of UniSpeechForCTC were not initialized from the model checkpoint at microsoft/unispeech-large-multi-lingual-1500h-cv and are newly initialized: ['lm_head.weight', 'lm_head.bias']\n",
            "You should probably TRAIN this model on a down-stream task to be able to use it for predictions and inference.\n"
          ]
        }
      ]
    },
    {
      "cell_type": "markdown",
      "metadata": {
        "id": "1DwR3XLSzGDD"
      },
      "source": [
        "The first component of most transformer-based speech models consists of a stack of CNN layers that are used to extract acoustically meaningful - but contextually independent - features from the raw speech signal. This part of the model has already been sufficiently trained during pretraining and as stated in the [paper](https://arxiv.org/pdf/2006.13979.pdf) does not need to be fine-tuned anymore. \n",
        "Thus, we can set the `requires_grad` to `False` for all parameters of the *feature extraction* part."
      ]
    },
    {
      "cell_type": "code",
      "metadata": {
        "id": "oGI8zObtZ3V0"
      },
      "source": [
        "if hasattr(model, \"freeze_feature_extractor\"):\n",
        "  model.freeze_feature_extractor()"
      ],
      "execution_count": 42,
      "outputs": []
    },
    {
      "cell_type": "markdown",
      "metadata": {
        "id": "lD4aGhQM0K-D"
      },
      "source": [
        "In a final step, we define all parameters related to training. \n",
        "To give more explanation on some of the parameters:\n",
        "- `group_by_length` makes training more efficient by grouping training samples of similar input length into one batch. This can significantly speed up training time by heavily reducing the overall number of useless padding tokens that are passed through the model\n",
        "- `learning_rate` and `weight_decay` were heuristically tuned until fine-tuning has become stable. Note that those parameters strongly depend on the Common Voice dataset and might be suboptimal for other speech datasets.\n",
        "\n",
        "For more explanations on other parameters, one can take a look at the [docs](https://huggingface.co/transformers/master/main_classes/trainer.html?highlight=trainer#trainingarguments).\n",
        "\n",
        "During training, a checkpoint will be uploaded asynchronously to the hub every 400 training steps. It allows you to also play around with the demo widget even while your model is still training.\n",
        "\n",
        "**Note**: If one does not want to upload the model checkpoints to the hub, simply set `push_to_hub=False`."
      ]
    },
    {
      "cell_type": "code",
      "metadata": {
        "id": "KbeKSV7uzGPP"
      },
      "source": [
        "from transformers import TrainingArguments\n",
        "\n",
        "training_args = TrainingArguments(\n",
        "  output_dir=repo_name,\n",
        "  group_by_length=True,\n",
        "  per_device_train_batch_size=batch_size,\n",
        "  gradient_accumulation_steps=2,\n",
        "  evaluation_strategy=\"steps\",\n",
        "  num_train_epochs=2,\n",
        "  gradient_checkpointing=True,\n",
        "  fp16=True,\n",
        "  save_steps=400,\n",
        "  eval_steps=400,\n",
        "  logging_steps=400,\n",
        "  learning_rate=3e-4,\n",
        "  warmup_steps=500,\n",
        "  save_total_limit=2,\n",
        "  push_to_hub=True,\n",
        ")"
      ],
      "execution_count": 43,
      "outputs": []
    },
    {
      "cell_type": "markdown",
      "metadata": {
        "id": "OsW-WZcL1ZtN"
      },
      "source": [
        "Now, all instances can be passed to Trainer and we are ready to start training!"
      ]
    },
    {
      "cell_type": "code",
      "metadata": {
        "id": "rY7vBmFCPFgC",
        "colab": {
          "base_uri": "https://localhost:8080/"
        },
        "outputId": "cf705555-f125-4977-d2c3-eafabd6571fa"
      },
      "source": [
        "from transformers import Trainer\n",
        "\n",
        "trainer = Trainer(\n",
        "    model=model,\n",
        "    data_collator=data_collator,\n",
        "    args=training_args,\n",
        "    compute_metrics=compute_metrics,\n",
        "    train_dataset=common_voice_train,\n",
        "    eval_dataset=common_voice_test,\n",
        "    tokenizer=processor.feature_extractor,\n",
        ")"
      ],
      "execution_count": 44,
      "outputs": [
        {
          "output_type": "stream",
          "name": "stderr",
          "text": [
            "/content/unispeech-large-multi-lingual-1500h-cv-demo-colab is already a clone of https://huggingface.co/patrickvonplaten/unispeech-large-multi-lingual-1500h-cv-demo-colab. Make sure you pull the latest changes with `repo.git_pull()`.\n",
            "Using amp fp16 backend\n"
          ]
        }
      ]
    },
    {
      "cell_type": "markdown",
      "metadata": {
        "id": "UoXBx1JAA0DX"
      },
      "source": [
        "\n",
        "\n",
        "---\n",
        "\n",
        "${}^1$ To allow models to become independent of the speaker rate, in CTC, consecutive tokens that are identical are simply grouped as a single token. However, the encoded labels should not be grouped when decoding since they don't correspond to the predicted tokens of the model, which is why the `group_tokens=False` parameter has to be passed. If we wouldn't pass this parameter a word like `\"hello\"` would incorrectly be encoded, and decoded as `\"helo\"`.\n",
        "\n",
        "${}^2$ The blank token allows the model to predict a word, such as `\"hello\"` by forcing it to insert the blank token between the two l's. A CTC-conform prediction of `\"hello\"` of our model would be `[PAD] [PAD] \"h\" \"e\" \"e\" \"l\" \"l\" [PAD] \"l\" \"o\" \"o\" [PAD]`."
      ]
    },
    {
      "cell_type": "markdown",
      "metadata": {
        "id": "rpvZHM1xReIW"
      },
      "source": [
        "### Training"
      ]
    },
    {
      "cell_type": "markdown",
      "metadata": {
        "id": "j-3oKSzZ1hGq"
      },
      "source": [
        "Training will take multiple hours depending on the GPU allocated to this notebook. Every `save_steps`, the current checkpoint will be uploaded to the Hub."
      ]
    },
    {
      "cell_type": "code",
      "metadata": {
        "id": "_UEjJqGsQw24"
      },
      "source": [
        "trainer.train()"
      ],
      "execution_count": null,
      "outputs": []
    },
    {
      "cell_type": "markdown",
      "metadata": {
        "id": "kPNxoqifM7R3"
      },
      "source": [
        "You can now upload the final result of the training to the Hub. Just execute this instruction:"
      ]
    },
    {
      "cell_type": "code",
      "metadata": {
        "id": "ArG1Thf6NBWm"
      },
      "source": [
        "trainer.push_to_hub()"
      ],
      "execution_count": null,
      "outputs": []
    },
    {
      "cell_type": "markdown",
      "metadata": {
        "id": "gKSOruDqNJxO"
      },
      "source": [
        "You can now share this model with all your friends, family, favorite pets: they can all load it with the identifier \"your-username/the-name-you-picked\" so for instance:"
      ]
    },
    {
      "cell_type": "markdown",
      "metadata": {
        "id": "2x-GybJDNQoH"
      },
      "source": [
        "```python\n",
        "from transformers import AutoModelForCTC, Wav2Vec2Processor\n",
        "\n",
        "model = AutoModelForCTC.from_pretrained(\"patrickvonplaten/wav2vec2-large-xlsr-turkish-demo-colab\")\n",
        "processor = Wav2Vec2Processor.from_pretrained(\"patrickvonplaten/wav2vec2-large-xlsr-turkish-demo-colab\")\n",
        "```"
      ]
    },
    {
      "cell_type": "markdown",
      "metadata": {
        "id": "RHIVc44_fY2N"
      },
      "source": [
        "To fine-tune larger models on larger datasets using CTC loss, one should take a look at the official speech-recognition examples [here](https://github.com/huggingface/transformers/tree/master/examples/pytorch/speech-recognition#connectionist-temporal-classification-without-language-model-ctc-wo-lm) 🤗."
      ]
    }
  ]
}